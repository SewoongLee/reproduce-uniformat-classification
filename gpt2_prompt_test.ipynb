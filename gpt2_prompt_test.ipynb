{
 "cells": [
  {
   "cell_type": "code",
   "execution_count": 63,
   "metadata": {},
   "outputs": [
    {
     "data": {
      "text/plain": [
       "['SERVICES Plumbing Rain Water Drainage also available in this article.  Water Pumping in the Bathroom  This is the first water pump in the community to use a common method to generate water from sewer pipes. To be used in the house, you have to attach a pipe to the ceiling. This is a necessary step. It is not hard to cut a piece of PVC pipe and slide around the roof. It is the same type of pipe that',\n",
       " 'SERVICES Plumbing Rain Water Drainage shown in Figures 1-5. Figure 1. Building structure components 1 & 2 of the following are examples of building structure components for services of plumbing and rain water drainage are shown in Figures 1-5. Figure 1. Building structure components 1 & 2 of the following are examples of building structure components for services of plumbing and rain water drainage are shown in Figures 1-5. Figure 2. Building structure components 3 & 4 of the',\n",
       " 'SERVICES Plumbing Rain Water Drainage:   Door & ceiling support.  Walls.  Ventilation.  Garden space and/or space for landscaping.  Storage and storage areas.  Lateral, roof, roofing or side-wall partitions.  Furnace, sink, kitchen, bathroom, laundry room, storage unit, or anything else you can think of.  There are many',\n",
       " 'SERVICES Plumbing Rain Water Drainage given in the figure. Figure 13 shows an example of a hydrologic flow chart of the first few months of 2007. This section is about planning and implementing the water management system.  Figure 13. Water Management Systems for Water Resources (Water and Wastewater)  Figure 14 shows an example of a hydrologic flow chart of this period. The figure features a water basin containing a single column of water per meter',\n",
       " 'SERVICES Plumbing Rain Water Drainage as follows:  Building of a roof over and under a building may be effected by the following methods of construction:  Roof openings, walls or other surfaces in the same or adjoining premises can be constructed so erect a roof over the building that all its surface is covered with any of the following forms of cement;  Towards the centre of the roof, the sides of the building or building components may be',\n",
       " 'SERVICES Plumbing Rain Water Drainage: a) water-treatment plant, b) water treatment plants; s) concrete, c) concrete tubs, d) concrete pipes or conduit as used in this section.  7. \"Inoperative sewage treatment plant\" means any sewage treatment plant of the state in which the water-treatment plant is to be installed.  8. \"Power plant\" means any power plant that is to be installed on a',\n",
       " 'SERVICES Plumbing Rain Water Drainage listed below.  Livestock Feeding Systems  An efficient system for handling sewage is a solid waste feed system. The system uses a variety of components to supply each feeding station. The feed system provides water directly to each feeder. The feed system also provides a drainage valve to drain the water to the feeders.  The primary feed line is the main funnel, while the secondary feed line is the',\n",
       " 'SERVICES Plumbing Rain Water Drainage listed below.  Rigid or non-rigid structure components include:  A sink, a sink block, an attic, a basement floor drain, an attic drain and flood control systems  A sewer pipe  A sewer light switch (included in flood control systems)  A pipe or pipe parts  A floor drain  In a non-rigid structure, such as a large',\n",
       " 'SERVICES Plumbing Rain Water Drainage those with horizontal ends and horizontal sides.  A flat roof or lower level of an apartment building or apartment building structure, which is constructed of three or more horizontal ends and a horizontal or vertical roof, constitutes a water and sewage treatment facility.  Water and Sewage Treatment Facilities  Generally, facilities that are located in units with 10 or more water and sewage treatment units.  In a building that is described as',\n",
       " 'SERVICES Plumbing Rain Water Drainage in the following examples:  The common term \"build,\" for purposes of this specification, refers to the building material upon which a construction system is based. This implies that the design should be based on the type of work carried out by the contractor. Where construction materials are available, it should be possible to find a construction contractor who is willing and able to provide the tools required by the requirements of this specification and who has all',\n",
       " 'SERVICES Plumbing Rain Water Drainage provided, but these are only a part of the overall design of water treatment plant. In fact, the design of water treatment plant also is designed to help maintain its water supply system or prevent water from entering the water treatment plants. The use of water treatment plants is an important part of the design of water treatment plant.  Frequently Asked Questions  How many units will I be able to supply to a building system in',\n",
       " 'SERVICES Plumbing Rain Water Drainage as follows:  A water bath or a shower system is normally situated in a building in its proper place, not in a building where there is a water bath.  In some cases, a building which has water bath fixtures, and an airway system in its proper place is a good fit for the purposes of this rule.  A water bath may also be placed on the roof of the building where, for',\n",
       " 'SERVICES Plumbing Rain Water Drainage as follows:  Plumbing Water  Water filtration systems: water filtration systems  Carpets and drainage systems: carpet and drainage systems  Dryer systems: dryer systems  Water supply: water supply  All of these components provide the same plumbing system.  How can I use Water Services for the purpose of my business?   If you are not already using',\n",
       " 'SERVICES Plumbing Rain Water Drainage described below.  The following diagrams describe how this structural system will work and what it will be capable of.  Figure 1: The interior of the main structure.  Figure 2: The exterior of the main structure.  Figure 3: The interior of the main structure.  Figure 4: The interior of the main structure.  Figure 5: The interior of the main structure.  Figure',\n",
       " 'SERVICES Plumbing Rain Water Drainage:  Water system components  Water pipes  Water piping or water pipes  Piping, pumping and holding water systems  WATER PROPERTY  Water systems are typically used to supply water to the city of Seattle by providing necessary water for the building of new businesses, building maintenance, and other tasks.  Water systems typically provide for:  Water service and equipment (such as boilers',\n",
       " 'SERVICES Plumbing Rain Water Drainage included in this class.  Construction, Maintenance and Accessibility of Buildings  The design work for the exterior of an exterior apartment and its interiors encompasses a variety of engineering and structural design elements, including:  Materials including:  Complementary Structural Materials (CM)  Structural Materials (RM)  Interior Construction Materials (IT)  Light Construction Materials (LED)  ',\n",
       " 'SERVICES Plumbing Rain Water Drainage described below. This page will describe some of the building structures used in the early 20th Century, the development of early fiberglass fiberglass plumbing fixtures, and the building plumbing fixtures used in early fiberglass fiberglass pipe fittings. The section on fixtures used in early fiberglass fiberglass plumbing fixtures, fixtures for a variety of plumbing fixtures from the late 1800s to the 1970s has already been extensively covered. In addition to',\n",
       " 'SERVICES Plumbing Rain Water Drainage:  Sailing the ground  Sitting on the ground when the pressure is on  Sending water to the roof or other roof surfaces  Sewing the ground to prevent water infiltration or leaking from the roof or other roof surfaces  Washing the house, using a garden hose or other clean water outlet  Sewing into the attic and in basement during rain periods  Sewing',\n",
       " 'SERVICES Plumbing Rain Water Drainage discussed in [3]. Pushing from the water directly to the water supply is done in a different manner from the use of a pressure and pressure reduction machine [4]. Both methods must be developed and tested by the contractor and the contractor must be willing to make a contribution to the project plan and/or the water supply system, in order to be considered.  3.1.1. The required time and cost for',\n",
       " 'SERVICES Plumbing Rain Water Drainage as follows:  The first and second steps are to make your water supply pipes and drainage systems as separate from your other water pipes.  The pipe insulation should be simple, with a long handle.  The outside wall of the pipe must be simple and solid. And the outer wall should be clear of debris, not rough, hard.  The insulator should be simple, with a steel tube attached to']"
      ]
     },
     "execution_count": 63,
     "metadata": {},
     "output_type": "execute_result"
    }
   ],
   "source": [
    "from transformers import GPT2Tokenizer, GPT2LMHeadModel, set_seed\n",
    "\n",
    "set_seed(42)\n",
    "\n",
    "gpt2_tokenizer = GPT2Tokenizer.from_pretrained('gpt2')\n",
    "gpt2_model = GPT2LMHeadModel.from_pretrained('gpt2')\n",
    "\n",
    "def generate_sentences_with_gpt2(prompt_text, max_len=100, num_sentences=20):\n",
    "    inputs = gpt2_tokenizer.encode(prompt_text, return_tensors='pt')\n",
    "    outputs = gpt2_model.generate(\n",
    "        inputs, \n",
    "        pad_token_id=gpt2_tokenizer.eos_token_id, \n",
    "        max_length=max_len, \n",
    "        do_sample=True, temperature=0.7, num_return_sequences=num_sentences,\n",
    "        # repetition_penalty=1.2,\n",
    "    )\n",
    "    if len(outputs) == 1: # Deterministic setting\n",
    "        generated_text = [gpt2_tokenizer.decode(outputs[0], skip_special_tokens=True)] * num_sentences\n",
    "    else:\n",
    "        generated_text = [gpt2_tokenizer.decode(output, skip_special_tokens=True) for output in outputs]\n",
    "\n",
    "    return generated_text\n",
    "\n",
    "generate_sentences_with_gpt2(\"Once upon a time,\", num_sentences=1)\n",
    "\n",
    "##################################################################################################################################\n",
    "\n",
    "def generate_with_gpt2_for_astm(level1, level2, level3):\n",
    "\n",
    "    # prompt = f\"{level1.lower()} {level2.lower()} {level3.lower()}\" # How much the word 'roof' appears in the text\n",
    "    prompt = f\"Examples of building structure components for {level1.lower()} of {level2.lower()} and {level3.lower()} are\" # 18\n",
    "    # prompt = f\"Examples of building structure components for {level1.lower()} of {level2.lower()} and {level3.lower()}:\" # 5\n",
    "    # prompt = f\"Services sequence summary of {level2.lower()} and {level3.lower()} >\"\n",
    "    # prompt = f\"'previous work task > work task > next work task' example of {level1} {level2} {level3} :\"\n",
    "    # prompt = f\"To {level1.lower()} of {level2.lower()} and {level3.lower()},\"\n",
    "    \n",
    "    sentences = []\n",
    "    for sentence in generate_sentences_with_gpt2(prompt):\n",
    "        sentence = sentence[len(prompt):]\n",
    "        for remove_char in ['\\n']: #, '.', '•', '·']:\n",
    "            sentence = sentence.replace(remove_char, ' ')\n",
    "        sentence = level1 + \" \" + level2 + \" \" + level3 + sentence\n",
    "        sentences.append(sentence)\n",
    "    return sentences\n",
    "\n",
    "generate_with_gpt2_for_astm(\"SERVICES\", \"Plumbing\", \"Rain Water Drainage\")  # D2040 in ASTM Uniformat"
   ]
  },
  {
   "cell_type": "code",
   "execution_count": null,
   "metadata": {},
   "outputs": [],
   "source": []
  }
 ],
 "metadata": {
  "kernelspec": {
   "display_name": "Python 3",
   "language": "python",
   "name": "python3"
  },
  "language_info": {
   "codemirror_mode": {
    "name": "ipython",
    "version": 3
   },
   "file_extension": ".py",
   "mimetype": "text/x-python",
   "name": "python",
   "nbconvert_exporter": "python",
   "pygments_lexer": "ipython3",
   "version": "3.11.6"
  }
 },
 "nbformat": 4,
 "nbformat_minor": 2
}
