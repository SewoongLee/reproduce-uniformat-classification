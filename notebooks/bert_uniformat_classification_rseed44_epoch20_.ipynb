{
 "cells": [
  {
   "cell_type": "markdown",
   "metadata": {},
   "source": [
    "## Reproduction of the UniformatBridge\n",
    "\n",
    "- This is an **_unofficial_** reproduction of the experiment described in \"Transformer language model for mapping construction schedule activities to uniformat categories\" by Yoonhwa Jung, Julia Hockenmaier, and Mani Golparvar-Fard, 2024.\n",
    "- The study can be accessed at https://doi.org/10.1016/j.autcon.2023.105183."
   ]
  },
  {
   "cell_type": "markdown",
   "metadata": {},
   "source": [
    "**Table of contents**    \n",
    "- Reproduction of the UniformatBridge model implementation    \n",
    "    - Data    \n",
    "      - BIM and ASTM Uniformat categories    \n",
    "      - ★ Additional Experiment: What if we simply duplicate scarce data for data balancing?    \n",
    "      - Label Encoding    \n",
    "      - Text Encoding    \n",
    "      - Make DataLoader    \n",
    "      - ★ Additional Datasets: ASTM Uniformat II Classification for Building Elements Description    \n",
    "      - ★ Additional Datasets: Data Augmentation with GPT-2    \n",
    "      - ★ Additional Datasets: Data Augmentation with GPT-4    \n",
    "    - Fine-tuning (Train & Validation)    \n",
    "    - Test    \n",
    "    - Experimental Results    \n",
    "      - Overall Results    \n",
    "      - Class-wise Results    \n",
    "\n",
    "<!-- vscode-jupyter-toc-config\n",
    "\tnumbering=false\n",
    "\tanchor=false\n",
    "\tflat=false\n",
    "\tminLevel=1\n",
    "\tmaxLevel=6\n",
    "\t/vscode-jupyter-toc-config -->\n",
    "<!-- THIS CELL WILL BE REPLACED ON TOC UPDATE. DO NOT WRITE YOUR TEXT IN THIS CELL -->"
   ]
  },
  {
   "cell_type": "code",
   "execution_count": 1,
   "metadata": {},
   "outputs": [],
   "source": [
    "import time; start_time = time.time()"
   ]
  },
  {
   "cell_type": "code",
   "execution_count": 2,
   "metadata": {},
   "outputs": [
    {
     "name": "stdout",
     "output_type": "stream",
     "text": [
      "Python 3.11.6\n"
     ]
    }
   ],
   "source": [
    "!python -V"
   ]
  },
  {
   "cell_type": "code",
   "execution_count": 3,
   "metadata": {},
   "outputs": [],
   "source": [
    "# Experimental Settings from Jung et al. (2024)\n",
    "# 6p: \"Five epochs with a batch size of 32, a dropout rate of 0.1, and a learning rate of 1.5e−5 were used to fine-tune the model.\"\n",
    "epoch_size = 20 #5\n",
    "batch_size = 32\n",
    "dropout_rate = 0.1  # BertForSequenceClassification default dropout_rate = 0.1\n",
    "learning_rate = 1.5e-5\n",
    "\n",
    "# 7p: \"In Table 2 and 3, 𝜇 is the average performance on three random seeds, and 𝜎 is their standard deviation.\"\n",
    "rseed = 44"
   ]
  },
  {
   "cell_type": "code",
   "execution_count": 4,
   "metadata": {},
   "outputs": [],
   "source": [
    "experiment_setting = {\n",
    "    'rseed': rseed, \n",
    "    'epoch_size': epoch_size,\n",
    "    'balancing': '' # '', 'simple_balancing', 'gpt2_balancing', 'gpt4_balancing'\n",
    "}\n",
    "\n",
    "# for writing output file names.\n",
    "experiment_name = f'rseed{rseed}_epoch{epoch_size}_{experiment_setting[\"balancing\"]}'"
   ]
  },
  {
   "cell_type": "code",
   "execution_count": 5,
   "metadata": {},
   "outputs": [
    {
     "data": {
      "text/plain": [
       "device(type='cuda')"
      ]
     },
     "execution_count": 5,
     "metadata": {},
     "output_type": "execute_result"
    }
   ],
   "source": [
    "import torch\n",
    "device = torch.device(\"cuda\" if torch.cuda.is_available() else \"cpu\")\n",
    "device"
   ]
  },
  {
   "cell_type": "markdown",
   "metadata": {},
   "source": [
    "### Data"
   ]
  },
  {
   "cell_type": "markdown",
   "metadata": {},
   "source": [
    "#### BIM and ASTM Uniformat categories"
   ]
  },
  {
   "cell_type": "code",
   "execution_count": 6,
   "metadata": {},
   "outputs": [],
   "source": [
    "import pandas as pd\n",
    "dataset_path = \"E:/_datasets/jung_et_al_2024/\"  # Data should not be shared publicly.\n",
    "df = pd.read_excel(dataset_path+\"0-overall-level3.xlsx\", header=0)\n",
    "\n",
    "cls = 'Level3'\n",
    "df = df.loc[:, ['predwbs2', 'predwbs', 'predtask', 'wbs2', 'wbs', 'name', 'sucwbs2', 'sucwbs', 'suctask', cls]]"
   ]
  },
  {
   "cell_type": "code",
   "execution_count": 7,
   "metadata": {},
   "outputs": [
    {
     "name": "stdout",
     "output_type": "stream",
     "text": [
      "text:  CONSTRUCTION SUPERSTRUCTURE > Roof > Set Mechanical Equipment [pred] CONSTRUCTION SUPERSTRUCTURE > Roof > Pipe Mechanical Equipment [succ]  100 KINGSHIGHWAY > COMMISSIONNG & INSPECTIONS > STARTUP\n",
      "label:  D2040\n"
     ]
    }
   ],
   "source": [
    "new_tokens = ['[pred]', '[succ]']\n",
    "\n",
    "df['text'] = df.apply(\n",
    "    lambda row: f\"{row['predwbs2']} > {row['predwbs']} > {row['predtask']} [pred] {row['wbs2']} > {row['wbs']} > {row['name']} [succ] {row['sucwbs2']} > {row['sucwbs']} > {row['suctask']}\",\n",
    "    axis=1\n",
    ")\n",
    "df['label'] = df[cls]\n",
    "label_cnt = df['label'].value_counts()\n",
    "\n",
    "print_idx = 6538  # D2040: 'Rain Water Drainage' case in Table 4\n",
    "print('text: ', df['text'][print_idx])\n",
    "print('label: ', df['label'][print_idx])"
   ]
  },
  {
   "cell_type": "code",
   "execution_count": 8,
   "metadata": {},
   "outputs": [
    {
     "data": {
      "text/plain": [
       "(20469, 6823, 6824)"
      ]
     },
     "execution_count": 8,
     "metadata": {},
     "output_type": "execute_result"
    }
   ],
   "source": [
    "from sklearn.model_selection import train_test_split\n",
    "\n",
    "texts = df['text']\n",
    "labels = df['label']\n",
    "\n",
    "# 6p: \"This dataset is further split into training, validation, and testing using a 60-20-20 distribution.\"\n",
    "train_texts, temp_texts, train_labels, temp_labels = train_test_split(\n",
    "    texts, labels, test_size=0.4, random_state=rseed)\n",
    "validation_texts, test_texts, validation_labels, test_labels = train_test_split(\n",
    "    temp_texts, temp_labels, test_size=0.5, random_state=rseed)\n",
    "\n",
    "(len(train_texts), len(validation_texts), len(test_texts))"
   ]
  },
  {
   "cell_type": "markdown",
   "metadata": {},
   "source": [
    "#### ★ Additional Experiment: What if we simply duplicate scarce data for data balancing?"
   ]
  },
  {
   "cell_type": "code",
   "execution_count": 9,
   "metadata": {},
   "outputs": [],
   "source": [
    "if experiment_setting['balancing'] == 'simple_balancing':\n",
    "    label_counts = train_labels.value_counts()\n",
    "\n",
    "    # Set the frequency of the most frequent label as the target for all labels\n",
    "    max_count = label_counts.max()\n",
    "\n",
    "    train_texts_balanced = []\n",
    "    train_labels_balanced = []\n",
    "    for label, count in label_counts.items():\n",
    "        # Calculate how many times to duplicate based on the target frequency\n",
    "        factor = max_count // count\n",
    "        remainder = max_count % count\n",
    "        \n",
    "        # Select texts corresponding to the current label\n",
    "        texts_of_label = train_texts[train_labels == label]\n",
    "        \n",
    "        # Duplicate texts to match the target frequency\n",
    "        for _ in range(factor):\n",
    "            train_texts_balanced.extend(texts_of_label)\n",
    "            train_labels_balanced.extend([label] * len(texts_of_label))\n",
    "        \n",
    "        if remainder > 0:\n",
    "            train_texts_balanced.extend(texts_of_label[:remainder])\n",
    "            train_labels_balanced.extend([label] * remainder)\n",
    "\n",
    "    train_texts = pd.Series(train_texts_balanced)\n",
    "    train_labels = pd.Series(train_labels_balanced)\n",
    "\n",
    "    # Data should not be shared publicly.\n",
    "    pd.DataFrame({'text': train_texts, 'label': train_labels}).to_csv(dataset_path+f\"/train_data_balanced_{experiment_name}.csv\", index=False)\n",
    "    print(train_labels.value_counts().head())"
   ]
  },
  {
   "cell_type": "markdown",
   "metadata": {},
   "source": [
    "#### Label Encoding"
   ]
  },
  {
   "cell_type": "code",
   "execution_count": 10,
   "metadata": {},
   "outputs": [],
   "source": [
    "from sklearn.preprocessing import LabelEncoder\n",
    "\n",
    "label_encoder = LabelEncoder()\n",
    "label_encoder.fit(labels)\n",
    "\n",
    "train_labels_encoded = label_encoder.transform(train_labels)\n",
    "validation_labels_encoded = label_encoder.transform(validation_labels)\n",
    "test_labels_encoded = label_encoder.transform(test_labels)"
   ]
  },
  {
   "cell_type": "markdown",
   "metadata": {},
   "source": [
    "#### Text Encoding"
   ]
  },
  {
   "cell_type": "code",
   "execution_count": 11,
   "metadata": {},
   "outputs": [
    {
     "name": "stderr",
     "output_type": "stream",
     "text": [
      "Some weights of BertForSequenceClassification were not initialized from the model checkpoint at bert-base-uncased and are newly initialized: ['classifier.bias', 'classifier.weight']\n",
      "You should probably TRAIN this model on a down-stream task to be able to use it for predictions and inference.\n"
     ]
    },
    {
     "data": {
      "text/plain": [
       "(BertTokenizer(name_or_path='bert-base-uncased', vocab_size=30522, model_max_length=512, is_fast=False, padding_side='right', truncation_side='right', special_tokens={'unk_token': '[UNK]', 'sep_token': '[SEP]', 'pad_token': '[PAD]', 'cls_token': '[CLS]', 'mask_token': '[MASK]'}, clean_up_tokenization_spaces=True),  added_tokens_decoder={\n",
       " \t0: AddedToken(\"[PAD]\", rstrip=False, lstrip=False, single_word=False, normalized=False, special=True),\n",
       " \t100: AddedToken(\"[UNK]\", rstrip=False, lstrip=False, single_word=False, normalized=False, special=True),\n",
       " \t101: AddedToken(\"[CLS]\", rstrip=False, lstrip=False, single_word=False, normalized=False, special=True),\n",
       " \t102: AddedToken(\"[SEP]\", rstrip=False, lstrip=False, single_word=False, normalized=False, special=True),\n",
       " \t103: AddedToken(\"[MASK]\", rstrip=False, lstrip=False, single_word=False, normalized=False, special=True),\n",
       " \t30522: AddedToken(\"[pred]\", rstrip=False, lstrip=False, single_word=False, normalized=True, special=False),\n",
       " \t30523: AddedToken(\"[succ]\", rstrip=False, lstrip=False, single_word=False, normalized=True, special=False),\n",
       " },\n",
       " BertForSequenceClassification(\n",
       "   (bert): BertModel(\n",
       "     (embeddings): BertEmbeddings(\n",
       "       (word_embeddings): Embedding(30524, 768)\n",
       "       (position_embeddings): Embedding(512, 768)\n",
       "       (token_type_embeddings): Embedding(2, 768)\n",
       "       (LayerNorm): LayerNorm((768,), eps=1e-12, elementwise_affine=True)\n",
       "       (dropout): Dropout(p=0.1, inplace=False)\n",
       "     )\n",
       "     (encoder): BertEncoder(\n",
       "       (layer): ModuleList(\n",
       "         (0-11): 12 x BertLayer(\n",
       "           (attention): BertAttention(\n",
       "             (self): BertSelfAttention(\n",
       "               (query): Linear(in_features=768, out_features=768, bias=True)\n",
       "               (key): Linear(in_features=768, out_features=768, bias=True)\n",
       "               (value): Linear(in_features=768, out_features=768, bias=True)\n",
       "               (dropout): Dropout(p=0.1, inplace=False)\n",
       "             )\n",
       "             (output): BertSelfOutput(\n",
       "               (dense): Linear(in_features=768, out_features=768, bias=True)\n",
       "               (LayerNorm): LayerNorm((768,), eps=1e-12, elementwise_affine=True)\n",
       "               (dropout): Dropout(p=0.1, inplace=False)\n",
       "             )\n",
       "           )\n",
       "           (intermediate): BertIntermediate(\n",
       "             (dense): Linear(in_features=768, out_features=3072, bias=True)\n",
       "             (intermediate_act_fn): GELUActivation()\n",
       "           )\n",
       "           (output): BertOutput(\n",
       "             (dense): Linear(in_features=3072, out_features=768, bias=True)\n",
       "             (LayerNorm): LayerNorm((768,), eps=1e-12, elementwise_affine=True)\n",
       "             (dropout): Dropout(p=0.1, inplace=False)\n",
       "           )\n",
       "         )\n",
       "       )\n",
       "     )\n",
       "     (pooler): BertPooler(\n",
       "       (dense): Linear(in_features=768, out_features=768, bias=True)\n",
       "       (activation): Tanh()\n",
       "     )\n",
       "   )\n",
       "   (dropout): Dropout(p=0.1, inplace=False)\n",
       "   (classifier): Linear(in_features=768, out_features=50, bias=True)\n",
       " ))"
      ]
     },
     "execution_count": 11,
     "metadata": {},
     "output_type": "execute_result"
    }
   ],
   "source": [
    "from transformers import BertTokenizer, BertForSequenceClassification\n",
    "tokenizer = BertTokenizer.from_pretrained('bert-base-uncased')\n",
    "model = BertForSequenceClassification.from_pretrained('bert-base-uncased', num_labels=len(label_encoder.classes_)).to(device)\n",
    "\n",
    "tokenizer.add_tokens(new_tokens)\n",
    "model.resize_token_embeddings(len(tokenizer))\n",
    "\n",
    "tokenizer, model"
   ]
  },
  {
   "cell_type": "markdown",
   "metadata": {},
   "source": [
    "#### Make DataLoader"
   ]
  },
  {
   "cell_type": "code",
   "execution_count": 12,
   "metadata": {},
   "outputs": [
    {
     "data": {
      "text/plain": [
       "(640, 214, 214)"
      ]
     },
     "execution_count": 12,
     "metadata": {},
     "output_type": "execute_result"
    }
   ],
   "source": [
    "from torch.utils.data import TensorDataset, DataLoader\n",
    "\n",
    "def make_dataloader(plain_texts, encoded_labels, batch_size=32):\n",
    "    '''\n",
    "    plain_texts: list of strings (should be encoded when making dataloader due to tokenizer padding/truncation)\n",
    "    encoded_labels: list of class indices (should be encoded beforehand using LabelEncoder with the entire dataset)\n",
    "    '''\n",
    "    texts = tokenizer(plain_texts, padding=True, truncation=True, return_tensors=\"pt\", max_length=512).to(device)\n",
    "    labels = torch.tensor(encoded_labels, dtype=torch.long).to(device)\n",
    "    dataset = TensorDataset(\n",
    "        texts['input_ids'], \n",
    "        texts['attention_mask'], \n",
    "        labels,\n",
    "    )\n",
    "    return DataLoader(dataset, batch_size=batch_size)\n",
    "\n",
    "train_loader = make_dataloader(train_texts.tolist(), train_labels_encoded, batch_size)\n",
    "validation_loader = make_dataloader(validation_texts.tolist(), validation_labels_encoded, batch_size)\n",
    "test_loader = make_dataloader(test_texts.tolist(), test_labels_encoded, batch_size)\n",
    "\n",
    "len(train_loader), len(validation_loader), len(test_loader)"
   ]
  },
  {
   "cell_type": "markdown",
   "metadata": {},
   "source": [
    "#### ★ Additional Datasets: ASTM Uniformat II Classification for Building Elements Description"
   ]
  },
  {
   "cell_type": "code",
   "execution_count": 13,
   "metadata": {},
   "outputs": [
    {
     "data": {
      "text/html": [
       "<div>\n",
       "<style scoped>\n",
       "    .dataframe tbody tr th:only-of-type {\n",
       "        vertical-align: middle;\n",
       "    }\n",
       "\n",
       "    .dataframe tbody tr th {\n",
       "        vertical-align: top;\n",
       "    }\n",
       "\n",
       "    .dataframe thead th {\n",
       "        text-align: right;\n",
       "    }\n",
       "</style>\n",
       "<table border=\"1\" class=\"dataframe\">\n",
       "  <thead>\n",
       "    <tr style=\"text-align: right;\">\n",
       "      <th></th>\n",
       "      <th>Level1</th>\n",
       "      <th>Level2</th>\n",
       "      <th>Level3</th>\n",
       "      <th>Class</th>\n",
       "    </tr>\n",
       "  </thead>\n",
       "  <tbody>\n",
       "    <tr>\n",
       "      <th>0</th>\n",
       "      <td>SUBSTRUCTURE</td>\n",
       "      <td>Foundations</td>\n",
       "      <td>Standard Foundations</td>\n",
       "      <td>A1010</td>\n",
       "    </tr>\n",
       "    <tr>\n",
       "      <th>1</th>\n",
       "      <td>SUBSTRUCTURE</td>\n",
       "      <td>Foundations</td>\n",
       "      <td>Special Foundations</td>\n",
       "      <td>A1020</td>\n",
       "    </tr>\n",
       "    <tr>\n",
       "      <th>2</th>\n",
       "      <td>SUBSTRUCTURE</td>\n",
       "      <td>Foundations</td>\n",
       "      <td>Slab on Grade</td>\n",
       "      <td>A1030</td>\n",
       "    </tr>\n",
       "    <tr>\n",
       "      <th>3</th>\n",
       "      <td>SHELL</td>\n",
       "      <td>Superstructure</td>\n",
       "      <td>Floor Construction</td>\n",
       "      <td>B1010</td>\n",
       "    </tr>\n",
       "    <tr>\n",
       "      <th>4</th>\n",
       "      <td>SHELL</td>\n",
       "      <td>Superstructure</td>\n",
       "      <td>Roof Construction</td>\n",
       "      <td>B1020</td>\n",
       "    </tr>\n",
       "    <tr>\n",
       "      <th>5</th>\n",
       "      <td>SHELL</td>\n",
       "      <td>Exterior Enclosure</td>\n",
       "      <td>Exterior Walls</td>\n",
       "      <td>B2010</td>\n",
       "    </tr>\n",
       "    <tr>\n",
       "      <th>6</th>\n",
       "      <td>SHELL</td>\n",
       "      <td>Exterior Enclosure</td>\n",
       "      <td>Exterior Windows</td>\n",
       "      <td>B2020</td>\n",
       "    </tr>\n",
       "    <tr>\n",
       "      <th>7</th>\n",
       "      <td>SHELL</td>\n",
       "      <td>Exterior Enclosure</td>\n",
       "      <td>Exterior Doors</td>\n",
       "      <td>B2030</td>\n",
       "    </tr>\n",
       "    <tr>\n",
       "      <th>8</th>\n",
       "      <td>SHELL</td>\n",
       "      <td>Roofing</td>\n",
       "      <td>Roof Coverings</td>\n",
       "      <td>B3010</td>\n",
       "    </tr>\n",
       "    <tr>\n",
       "      <th>9</th>\n",
       "      <td>SHELL</td>\n",
       "      <td>Roofing</td>\n",
       "      <td>Roof Openings</td>\n",
       "      <td>B3020</td>\n",
       "    </tr>\n",
       "    <tr>\n",
       "      <th>10</th>\n",
       "      <td>INTERIORS</td>\n",
       "      <td>Interior Construction</td>\n",
       "      <td>Partitions</td>\n",
       "      <td>C1010</td>\n",
       "    </tr>\n",
       "    <tr>\n",
       "      <th>11</th>\n",
       "      <td>INTERIORS</td>\n",
       "      <td>Interior Construction</td>\n",
       "      <td>Interior Doors</td>\n",
       "      <td>C1020</td>\n",
       "    </tr>\n",
       "    <tr>\n",
       "      <th>12</th>\n",
       "      <td>INTERIORS</td>\n",
       "      <td>Interior Construction</td>\n",
       "      <td>Fittings</td>\n",
       "      <td>C1030</td>\n",
       "    </tr>\n",
       "    <tr>\n",
       "      <th>13</th>\n",
       "      <td>INTERIORS</td>\n",
       "      <td>Stairs</td>\n",
       "      <td>Stair Construction</td>\n",
       "      <td>C2010</td>\n",
       "    </tr>\n",
       "    <tr>\n",
       "      <th>14</th>\n",
       "      <td>INTERIORS</td>\n",
       "      <td>Stairs</td>\n",
       "      <td>Stair Finishes</td>\n",
       "      <td>C2020</td>\n",
       "    </tr>\n",
       "    <tr>\n",
       "      <th>15</th>\n",
       "      <td>INTERIORS</td>\n",
       "      <td>Interior Finishes</td>\n",
       "      <td>Wall Finishes</td>\n",
       "      <td>C3010</td>\n",
       "    </tr>\n",
       "    <tr>\n",
       "      <th>16</th>\n",
       "      <td>INTERIORS</td>\n",
       "      <td>Interior Finishes</td>\n",
       "      <td>Floor Finishes</td>\n",
       "      <td>C3020</td>\n",
       "    </tr>\n",
       "    <tr>\n",
       "      <th>17</th>\n",
       "      <td>INTERIORS</td>\n",
       "      <td>Interior Finishes</td>\n",
       "      <td>Ceiling Finishes</td>\n",
       "      <td>C3030</td>\n",
       "    </tr>\n",
       "    <tr>\n",
       "      <th>18</th>\n",
       "      <td>SERVICES</td>\n",
       "      <td>Conveying</td>\n",
       "      <td>Elevators &amp; Lifts</td>\n",
       "      <td>D1010</td>\n",
       "    </tr>\n",
       "    <tr>\n",
       "      <th>19</th>\n",
       "      <td>SERVICES</td>\n",
       "      <td>Conveying</td>\n",
       "      <td>Escalators &amp; Moving Walks</td>\n",
       "      <td>D1020</td>\n",
       "    </tr>\n",
       "    <tr>\n",
       "      <th>20</th>\n",
       "      <td>SERVICES</td>\n",
       "      <td>Conveying</td>\n",
       "      <td>Other Conveying Systems</td>\n",
       "      <td>D1090</td>\n",
       "    </tr>\n",
       "    <tr>\n",
       "      <th>21</th>\n",
       "      <td>SERVICES</td>\n",
       "      <td>Plumbing</td>\n",
       "      <td>Plumbing Fixtures</td>\n",
       "      <td>D2010</td>\n",
       "    </tr>\n",
       "    <tr>\n",
       "      <th>22</th>\n",
       "      <td>SERVICES</td>\n",
       "      <td>Plumbing</td>\n",
       "      <td>Domestic Water Distribution</td>\n",
       "      <td>D2020</td>\n",
       "    </tr>\n",
       "    <tr>\n",
       "      <th>23</th>\n",
       "      <td>SERVICES</td>\n",
       "      <td>Plumbing</td>\n",
       "      <td>Sanitary Waste</td>\n",
       "      <td>D2030</td>\n",
       "    </tr>\n",
       "    <tr>\n",
       "      <th>24</th>\n",
       "      <td>SERVICES</td>\n",
       "      <td>Plumbing</td>\n",
       "      <td>Rain Water Drainage</td>\n",
       "      <td>D2040</td>\n",
       "    </tr>\n",
       "    <tr>\n",
       "      <th>25</th>\n",
       "      <td>SERVICES</td>\n",
       "      <td>Plumbing</td>\n",
       "      <td>Other Plumbing Systems</td>\n",
       "      <td>D2090</td>\n",
       "    </tr>\n",
       "    <tr>\n",
       "      <th>26</th>\n",
       "      <td>SERVICES</td>\n",
       "      <td>HVAC</td>\n",
       "      <td>Energy Supply</td>\n",
       "      <td>D3010</td>\n",
       "    </tr>\n",
       "    <tr>\n",
       "      <th>27</th>\n",
       "      <td>SERVICES</td>\n",
       "      <td>HVAC</td>\n",
       "      <td>Heat Generating Systems</td>\n",
       "      <td>D3020</td>\n",
       "    </tr>\n",
       "    <tr>\n",
       "      <th>28</th>\n",
       "      <td>SERVICES</td>\n",
       "      <td>HVAC</td>\n",
       "      <td>Cooling Generating Systems</td>\n",
       "      <td>D3030</td>\n",
       "    </tr>\n",
       "    <tr>\n",
       "      <th>29</th>\n",
       "      <td>SERVICES</td>\n",
       "      <td>HVAC</td>\n",
       "      <td>Distribution Systems</td>\n",
       "      <td>D3040</td>\n",
       "    </tr>\n",
       "    <tr>\n",
       "      <th>30</th>\n",
       "      <td>SERVICES</td>\n",
       "      <td>HVAC</td>\n",
       "      <td>Terminal &amp; Package Units</td>\n",
       "      <td>D3050</td>\n",
       "    </tr>\n",
       "    <tr>\n",
       "      <th>31</th>\n",
       "      <td>SERVICES</td>\n",
       "      <td>HVAC</td>\n",
       "      <td>Controls &amp; Instrumentation</td>\n",
       "      <td>D3060</td>\n",
       "    </tr>\n",
       "    <tr>\n",
       "      <th>32</th>\n",
       "      <td>SERVICES</td>\n",
       "      <td>HVAC</td>\n",
       "      <td>Systems Testing &amp; Balancing</td>\n",
       "      <td>D3070</td>\n",
       "    </tr>\n",
       "    <tr>\n",
       "      <th>33</th>\n",
       "      <td>SERVICES</td>\n",
       "      <td>HVAC</td>\n",
       "      <td>Other HVAC Systems &amp; Equipment</td>\n",
       "      <td>D3090</td>\n",
       "    </tr>\n",
       "    <tr>\n",
       "      <th>34</th>\n",
       "      <td>SERVICES</td>\n",
       "      <td>Fire Protection</td>\n",
       "      <td>Sprinklers</td>\n",
       "      <td>D4010</td>\n",
       "    </tr>\n",
       "    <tr>\n",
       "      <th>35</th>\n",
       "      <td>SERVICES</td>\n",
       "      <td>Fire Protection</td>\n",
       "      <td>Standpipes</td>\n",
       "      <td>D4020</td>\n",
       "    </tr>\n",
       "    <tr>\n",
       "      <th>36</th>\n",
       "      <td>SERVICES</td>\n",
       "      <td>Fire Protection</td>\n",
       "      <td>Fire Protection Specialties</td>\n",
       "      <td>D4030</td>\n",
       "    </tr>\n",
       "    <tr>\n",
       "      <th>37</th>\n",
       "      <td>SERVICES</td>\n",
       "      <td>Fire Protection</td>\n",
       "      <td>Other Fire Protection Systems</td>\n",
       "      <td>D4090</td>\n",
       "    </tr>\n",
       "    <tr>\n",
       "      <th>38</th>\n",
       "      <td>SERVICES</td>\n",
       "      <td>Electrical</td>\n",
       "      <td>Electrical Service &amp; Distribution</td>\n",
       "      <td>D5010</td>\n",
       "    </tr>\n",
       "    <tr>\n",
       "      <th>39</th>\n",
       "      <td>SERVICES</td>\n",
       "      <td>Electrical</td>\n",
       "      <td>Lighting and Branch Wiring</td>\n",
       "      <td>D5020</td>\n",
       "    </tr>\n",
       "    <tr>\n",
       "      <th>40</th>\n",
       "      <td>SERVICES</td>\n",
       "      <td>Electrical</td>\n",
       "      <td>Communications &amp; Security</td>\n",
       "      <td>D5030</td>\n",
       "    </tr>\n",
       "    <tr>\n",
       "      <th>41</th>\n",
       "      <td>SERVICES</td>\n",
       "      <td>Electrical</td>\n",
       "      <td>Other Electrical Systems</td>\n",
       "      <td>D5090</td>\n",
       "    </tr>\n",
       "    <tr>\n",
       "      <th>42</th>\n",
       "      <td>EQUIPMENT &amp; FURNISHINGS</td>\n",
       "      <td>Equipment</td>\n",
       "      <td>Commercial Equipment</td>\n",
       "      <td>E1010</td>\n",
       "    </tr>\n",
       "    <tr>\n",
       "      <th>43</th>\n",
       "      <td>EQUIPMENT &amp; FURNISHINGS</td>\n",
       "      <td>Equipment</td>\n",
       "      <td>Institutional Equipment</td>\n",
       "      <td>E1020</td>\n",
       "    </tr>\n",
       "    <tr>\n",
       "      <th>44</th>\n",
       "      <td>EQUIPMENT &amp; FURNISHINGS</td>\n",
       "      <td>Equipment</td>\n",
       "      <td>Vehicular Equipment</td>\n",
       "      <td>E1030</td>\n",
       "    </tr>\n",
       "    <tr>\n",
       "      <th>45</th>\n",
       "      <td>EQUIPMENT &amp; FURNISHINGS</td>\n",
       "      <td>Equipment</td>\n",
       "      <td>Other Equipment</td>\n",
       "      <td>E1090</td>\n",
       "    </tr>\n",
       "    <tr>\n",
       "      <th>46</th>\n",
       "      <td>EQUIPMENT &amp; FURNISHINGS</td>\n",
       "      <td>Furnishings</td>\n",
       "      <td>Fixed Furnishings</td>\n",
       "      <td>E2010</td>\n",
       "    </tr>\n",
       "    <tr>\n",
       "      <th>47</th>\n",
       "      <td>EQUIPMENT &amp; FURNISHINGS</td>\n",
       "      <td>Furnishings</td>\n",
       "      <td>Movable Furnishings</td>\n",
       "      <td>E2020</td>\n",
       "    </tr>\n",
       "  </tbody>\n",
       "</table>\n",
       "</div>"
      ],
      "text/plain": [
       "                     Level1                 Level2  \\\n",
       "0              SUBSTRUCTURE            Foundations   \n",
       "1              SUBSTRUCTURE            Foundations   \n",
       "2              SUBSTRUCTURE            Foundations   \n",
       "3                     SHELL         Superstructure   \n",
       "4                     SHELL         Superstructure   \n",
       "5                     SHELL     Exterior Enclosure   \n",
       "6                     SHELL     Exterior Enclosure   \n",
       "7                     SHELL     Exterior Enclosure   \n",
       "8                     SHELL                Roofing   \n",
       "9                     SHELL                Roofing   \n",
       "10                INTERIORS  Interior Construction   \n",
       "11                INTERIORS  Interior Construction   \n",
       "12                INTERIORS  Interior Construction   \n",
       "13                INTERIORS                 Stairs   \n",
       "14                INTERIORS                 Stairs   \n",
       "15                INTERIORS     Interior Finishes    \n",
       "16                INTERIORS      Interior Finishes   \n",
       "17                INTERIORS      Interior Finishes   \n",
       "18                 SERVICES              Conveying   \n",
       "19                 SERVICES              Conveying   \n",
       "20                 SERVICES              Conveying   \n",
       "21                 SERVICES               Plumbing   \n",
       "22                 SERVICES               Plumbing   \n",
       "23                 SERVICES               Plumbing   \n",
       "24                 SERVICES               Plumbing   \n",
       "25                 SERVICES               Plumbing   \n",
       "26                 SERVICES                   HVAC   \n",
       "27                 SERVICES                   HVAC   \n",
       "28                 SERVICES                   HVAC   \n",
       "29                 SERVICES                   HVAC   \n",
       "30                 SERVICES                   HVAC   \n",
       "31                 SERVICES                   HVAC   \n",
       "32                 SERVICES                   HVAC   \n",
       "33                 SERVICES                   HVAC   \n",
       "34                 SERVICES        Fire Protection   \n",
       "35                 SERVICES        Fire Protection   \n",
       "36                 SERVICES        Fire Protection   \n",
       "37                 SERVICES        Fire Protection   \n",
       "38                 SERVICES             Electrical   \n",
       "39                 SERVICES             Electrical   \n",
       "40                 SERVICES             Electrical   \n",
       "41                 SERVICES             Electrical   \n",
       "42  EQUIPMENT & FURNISHINGS              Equipment   \n",
       "43  EQUIPMENT & FURNISHINGS              Equipment   \n",
       "44  EQUIPMENT & FURNISHINGS              Equipment   \n",
       "45  EQUIPMENT & FURNISHINGS              Equipment   \n",
       "46  EQUIPMENT & FURNISHINGS            Furnishings   \n",
       "47  EQUIPMENT & FURNISHINGS            Furnishings   \n",
       "\n",
       "                               Level3  Class  \n",
       "0                Standard Foundations  A1010  \n",
       "1                 Special Foundations  A1020  \n",
       "2                       Slab on Grade  A1030  \n",
       "3                  Floor Construction  B1010  \n",
       "4                   Roof Construction  B1020  \n",
       "5                      Exterior Walls  B2010  \n",
       "6                    Exterior Windows  B2020  \n",
       "7                      Exterior Doors  B2030  \n",
       "8                      Roof Coverings  B3010  \n",
       "9                       Roof Openings  B3020  \n",
       "10                         Partitions  C1010  \n",
       "11                     Interior Doors  C1020  \n",
       "12                           Fittings  C1030  \n",
       "13                 Stair Construction  C2010  \n",
       "14                     Stair Finishes  C2020  \n",
       "15                      Wall Finishes  C3010  \n",
       "16                     Floor Finishes  C3020  \n",
       "17                   Ceiling Finishes  C3030  \n",
       "18                  Elevators & Lifts  D1010  \n",
       "19          Escalators & Moving Walks  D1020  \n",
       "20            Other Conveying Systems  D1090  \n",
       "21                  Plumbing Fixtures  D2010  \n",
       "22        Domestic Water Distribution  D2020  \n",
       "23                     Sanitary Waste  D2030  \n",
       "24                Rain Water Drainage  D2040  \n",
       "25             Other Plumbing Systems  D2090  \n",
       "26                      Energy Supply  D3010  \n",
       "27            Heat Generating Systems  D3020  \n",
       "28         Cooling Generating Systems  D3030  \n",
       "29               Distribution Systems  D3040  \n",
       "30           Terminal & Package Units  D3050  \n",
       "31         Controls & Instrumentation  D3060  \n",
       "32        Systems Testing & Balancing  D3070  \n",
       "33     Other HVAC Systems & Equipment  D3090  \n",
       "34                         Sprinklers  D4010  \n",
       "35                         Standpipes  D4020  \n",
       "36        Fire Protection Specialties  D4030  \n",
       "37      Other Fire Protection Systems  D4090  \n",
       "38  Electrical Service & Distribution  D5010  \n",
       "39         Lighting and Branch Wiring  D5020  \n",
       "40          Communications & Security  D5030  \n",
       "41           Other Electrical Systems  D5090  \n",
       "42               Commercial Equipment  E1010  \n",
       "43            Institutional Equipment  E1020  \n",
       "44                Vehicular Equipment  E1030  \n",
       "45                    Other Equipment  E1090  \n",
       "46                  Fixed Furnishings  E2010  \n",
       "47                Movable Furnishings  E2020  "
      ]
     },
     "execution_count": 13,
     "metadata": {},
     "output_type": "execute_result"
    }
   ],
   "source": [
    "import pandas as pd\n",
    "\n",
    "# Publicly available definition of ASTM Uniformat II\n",
    "# https://www.govinfo.gov/content/pkg/GOVPUB-C13-5af96252bc88826c911daac93c449927/pdf/GOVPUB-C13-5af96252bc88826c911daac93c449927.pdf\n",
    "df_astm = pd.read_csv(\"public_astm_uniformat_ii_classification.csv\", header=0)\n",
    "\n",
    "df_astm = df_astm[df_astm['Class'].isin(label_encoder.classes_)] # Use only the classes that are in the dataset\n",
    "df_astm"
   ]
  },
  {
   "cell_type": "markdown",
   "metadata": {},
   "source": [
    "#### ★ Additional Datasets: Data Augmentation with GPT-2"
   ]
  },
  {
   "cell_type": "code",
   "execution_count": 14,
   "metadata": {},
   "outputs": [
    {
     "data": {
      "text/plain": [
       "[\"Once upon a time, the United States was already a strong contender to compete in World Baseball Classic qualifying, and the team was expected to be the World Baseball Classic's best player for the next few years. However, the team's lack of experience could put it in a precarious position.\\n\\nIn fact, the team's decision to change its name to K-Mart in order to avoid confusion with the name of the new stadium was also a mistake made. The K-Mart name was used only\"]"
      ]
     },
     "execution_count": 14,
     "metadata": {},
     "output_type": "execute_result"
    }
   ],
   "source": [
    "from transformers import GPT2Tokenizer, GPT2LMHeadModel, set_seed\n",
    "\n",
    "set_seed(42)\n",
    "\n",
    "gpt2_tokenizer = GPT2Tokenizer.from_pretrained('gpt2')\n",
    "gpt2_model = GPT2LMHeadModel.from_pretrained('gpt2')\n",
    "\n",
    "def generate_sentences_with_gpt2(prompt_text, max_len=100, num_sentences=20):\n",
    "    inputs = gpt2_tokenizer.encode(prompt_text, return_tensors='pt')\n",
    "    outputs = gpt2_model.generate(\n",
    "        inputs, \n",
    "        pad_token_id=gpt2_tokenizer.eos_token_id, \n",
    "        max_length=max_len, \n",
    "        do_sample=True, temperature=0.7, num_return_sequences=num_sentences,\n",
    "        # repetition_penalty=1.2,\n",
    "    )\n",
    "    if len(outputs) == 1: # Deterministic setting\n",
    "        generated_text = [gpt2_tokenizer.decode(outputs[0], skip_special_tokens=True)] * num_sentences\n",
    "    else:\n",
    "        generated_text = [gpt2_tokenizer.decode(output, skip_special_tokens=True) for output in outputs]\n",
    "\n",
    "    return generated_text\n",
    "\n",
    "generate_sentences_with_gpt2(\"Once upon a time,\", num_sentences=1)"
   ]
  },
  {
   "cell_type": "code",
   "execution_count": 15,
   "metadata": {},
   "outputs": [
    {
     "data": {
      "text/plain": [
       "['SERVICES Plumbing Rain Water Drainage:  1. Water pumps  1.1.1.1.1.1.2. Water pumps are a combination of pumps and pipes which are installed by one entity in a building. The building must use water as a primary source of power, which carries the risk of flooding.  1.1.1.1.2.1.1.1.1.2.1.3',\n",
       " 'SERVICES Plumbing Rain Water Drainage shown in Figures 1-5. Figure 1. Building structure components for services of water and sewer systems. (a) A concrete structure is shown in Figures 1-3 and Figure 1-4. It is in the form of a concrete structure with a central block with a single, central, and horizontal section. (b) A concrete structure is shown in Figures 1-2 and Figure 1-3. It is in the',\n",
       " 'SERVICES Plumbing Rain Water Drainage:  The structure will have a wide gap between the two walls, and the roof will be curved up to make it easier to cut through the gaps.  The interior will be made of polyethylene, and the inside will be made of polypropylene.  The roof will be made of a polyethylene material, which is watertight and easy to clean.  The roof will be made of',\n",
       " \"SERVICES Plumbing Rain Water Drainage given in the figure.  The following table compares the amount of water being pumped by the individual system.  Each system's system has its own water pump.  Figure 1. Water pumping system  The diagram shows how each system makes its way through the system and from top to bottom.  There are four types of water pumps available. Each system has its own water pump.  Fluid\",\n",
       " 'SERVICES Plumbing Rain Water Drainage as follows:  Building of a roof of a roof-mounted structure with a roof-mounted structure or any combination thereof:  Building of a roof of a roof-mounted structure or any combination thereof:  Building of an emergency spill control system  Building of a roof of a roof-mounted structure  Building of a roof of a roof-mounted structure  Building of a roof of a roof-',\n",
       " 'SERVICES Plumbing Rain Water Drainage: a) water-treatment plant, b) water treatment plants, c) water-treatment plants of a plant type: a) a plumbing plant as used in this context.  b) a water treatment plant as used in this context. c) a sewage system in this context.  The following table lists the components of a water treatment plant as shown in Figure 1.  Figure 1. Components of a',\n",
       " 'SERVICES Plumbing Rain Water Drainage listed below.  Livestock Feeding Systems  An animal feeding system is an organic system that provides animal feed and water to the animal for use in the day to day operation of the system. The feed system uses chemicals to convert animal food, urine to water, fertilizers to produce hormones, and water to produce energy.  For a detailed description of the basic feeding system, click here.  ',\n",
       " 'SERVICES Plumbing Rain Water Drainage listed below.  Rigid or non-rigid structure components include:  A sink, a sink block, a sink pipe, and some other receptacles for the water supply.   A sink block including a sink pipe, a sink block block, a sink pipe, and some other receptacles for the water supply. A toilet or shower stall.   A vent or shower stall.   A',\n",
       " 'SERVICES Plumbing Rain Water Drainage those with an attached water pump or supply system. For example, a drywall component may be a drywall device that uses a water pump as the primary source of water.  In addition, a drywall component may include a flood control system, water treatment plant, or other means of preventing water from entering a building, including a flood control system and a drainage system.  A drywall component includes a flood control',\n",
       " 'SERVICES Plumbing Rain Water Drainage in the following examples:  The common term \"buildings-to-towers\" refers to the structure that is built on the surface of the water surface. For example, a building that is designed to be used as a water storage or storage facility.  Examples of building structure components for services of wastewater and water drainage are in the following examples:  The common term \"buildings-to-towers',\n",
       " 'SERVICES Plumbing Rain Water Drainage shown in the Table S4.  (1) In general, the two forms of plumbing and rain water drainage are related. In the first form, all plumbing and rain water drainage comprises of a water supply system. The water supply system comprises a supply line, which is a pipe with a lead-to-lead conduit or a water pipe with a lead-to-lead conduit. In the second form, the water',\n",
       " 'SERVICES Plumbing Rain Water Drainage as follows:  A water pump is a unit that is attached to a building or structure and uses electricity to pump water (such as a water pump on a building or structure like a telephone pole) in which the water supply is transmitted to an electric generator (such as a power source).  A water pump is a unit that is attached to a building or structure and uses electricity to pump water (such as a water',\n",
       " 'SERVICES Plumbing Rain Water Drainage:  Laundry and laundry services.  Renters and renters.  Shelters and utilities.  Flooding and rainfall management.  Water quality management.  Cleaning and remediation.  In addition, the first-class facilities are constructed using materials for personal use and for the environment.  The roofing and exterior walls of the building are not manufactured for',\n",
       " 'SERVICES Plumbing Rain Water Drainage described in the following table:  Plunder Size Cm/cm Length Cm/cm Cm/cm Length Cm/cm Cm/cm Cm/cm Cm/cm Cm/cm Cm/cm Cm/cm Cm/cm Cm/cm Cm/cm Cm/cm Cm/cm Cm/cm Cm/cm Cm/cm',\n",
       " 'SERVICES Plumbing Rain Water Drainage:  Water system components  Water pipes  Water piping  Water treatment systems  Water treatment plants  Water treatment plants include the following:  Water treatment plants include water treatment plants that provide the following:  Water treatment plants include water treatment plants that provide the following:  Water treatment plants include water treatment plants that provide the following:  Water treatment plants include water treatment plants that provide',\n",
       " 'SERVICES Plumbing Rain Water Drainage included in the technical description of the system, which is available at the end of this document.  Construction of the system  The system consists of two sections, one of which is shown in the diagram below.  The first of these sections, shown at the top, is for the main system, and the second section, shown at the bottom, is for the second phase of the system. For the system shown',\n",
       " 'SERVICES Plumbing Rain Water Drainage described below.  Designing a Water Supply  The key to building a water supply, other than the basic principles of construction, is to design a construction-specific device. The most common design for such a device is the one that uses a water pump or generator to carry the water until the water is discharged.  Materials and Equipment  There are a number of materials that can be used for building a water',\n",
       " 'SERVICES Plumbing Rain Water Drainage:  Sailing: Buildings for the sailing system can be built on top of the mooring system. The roof can be built on top of the mooring, and the water can be removed from the roof.  Buildings for the sailing system can be built on top of the mooring, and the water can be removed from the roof. Building material: Sailing material is the',\n",
       " 'SERVICES Plumbing Rain Water Drainage discussed in the following sections.  Construction of a building  In construction, the elements of the building are to be constructed of an intermediate type such as a single piece of wood or a multi-piece box. In other words, the building will include a large number of components, and the construction will be done with light and heavy materials, such as steel, wood, and concrete.  Construction of a building is',\n",
       " 'SERVICES Plumbing Rain Water Drainage as follows:  The first step of an arrangement is to include the following elements:  The primary and secondary elements  The main and secondary elements  The main and secondary element  The main and secondary element  The main and secondary element  The main and secondary element  The main and secondary element  The main and secondary element  The main and secondary element  The main and']"
      ]
     },
     "execution_count": 15,
     "metadata": {},
     "output_type": "execute_result"
    }
   ],
   "source": [
    "def generate_with_gpt2_for_astm(level1, level2, level3):\n",
    "\n",
    "    prompt = f\"Examples of building structure components for {level1.lower()} of {level2.lower()} and {level3.lower()} are\"\n",
    "    \n",
    "    sentences = []\n",
    "    for sentence in generate_sentences_with_gpt2(prompt):\n",
    "        sentence = sentence[len(prompt):]\n",
    "        for remove_char in ['\\n']: #, '.', '•', '·']:\n",
    "            sentence = sentence.replace(remove_char, ' ')\n",
    "        sentence = level1 + \" \" + level2 + \" \" + level3 + sentence\n",
    "        sentences.append(sentence)\n",
    "    return sentences\n",
    "\n",
    "generate_with_gpt2_for_astm(\"SERVICES\", \"Plumbing\", \"Rain Water Drainage\")  # D2040 in ASTM Uniformat"
   ]
  },
  {
   "cell_type": "code",
   "execution_count": 16,
   "metadata": {},
   "outputs": [],
   "source": [
    "if experiment_setting['balancing'] == 'gpt2_balancing':\n",
    "\n",
    "    from tqdm import tqdm\n",
    "    gpt2_texts = []\n",
    "    gpt2_labels = []\n",
    "    for _, row in tqdm(df_astm.iterrows(), total=df_astm.shape[0]):\n",
    "        sentences = generate_with_gpt2_for_astm(row['Level1'], row['Level2'], row['Level3'])\n",
    "        for sentence in sentences:\n",
    "            gpt2_texts.append(sentence)\n",
    "            gpt2_labels.append(row['Class'])\n",
    "    generated_df = pd.DataFrame({'text': gpt2_texts, 'label': gpt2_labels})\n",
    "    generated_df.to_csv(dataset_path+f\"/gpt2_data_{experiment_name}.csv\", index=False)\n",
    "\n",
    "    import itertools\n",
    "    train_loader = make_dataloader(\n",
    "        list(itertools.chain(\n",
    "            train_texts,\n",
    "            gpt2_texts,\n",
    "        )),\n",
    "        list(itertools.chain(\n",
    "            train_labels_encoded,\n",
    "            label_encoder.transform(gpt2_labels),\n",
    "        )),\n",
    "        batch_size\n",
    "    )\n",
    "\n",
    "    print(len(train_loader))"
   ]
  },
  {
   "cell_type": "markdown",
   "metadata": {},
   "source": [
    "#### ★ Additional Datasets: Data Augmentation with GPT-4"
   ]
  },
  {
   "cell_type": "code",
   "execution_count": 17,
   "metadata": {},
   "outputs": [],
   "source": [
    "# Class with less than 10 samples: B3020 D2040 D2090 E1030\n",
    "\n",
    "gpt4_texts_b3020 = [\n",
    "    # Prompt: Sample 20 tasks of ASTM Uniformat B3020 'SHELL Roofing Roof Openings' in the format of 'predwbs2 > predwbs > predtask [pred] wbs2 > wbs > task [succ] > sucwbs2 > sucwbs > suctask' including various building construction components.\n",
    "    'Structural Framing > Roof Structure > Install Trusses [pred] SHELL > Roofing > Install Roof Deck [succ] > SHELL > Roof Openings > Install Skylights',\n",
    "    'SHELL > Roofing > Apply Waterproof Membrane [pred] SHELL > Roof Openings > Flash Roof Openings [succ] > Finishes > Painting > Paint Flashing',\n",
    "    'SHELL > Roof Openings > Cut Openings [pred] SHELL > Roof Openings > Install Roof Hatches [succ] > SHELL > Roof Openings > Weatherproof Roof Hatches',\n",
    "    'Mechanical > HVAC > Rough-In Ductwork [pred] SHELL > Roof Openings > Install Ventilation Duct Openings [succ] > Mechanical > HVAC > Connect HVAC System',\n",
    "    'SHELL > Roof Openings > Layout Openings [pred] SHELL > Roof Openings > Install Smoke Vents [succ] > SHELL > Fire Protection > Integrate Smoke Vent Control',\n",
    "    'Electrical > Electrical Rough-In > Install Conduit [pred] SHELL > Roof Openings > Install Solar Tube Openings [succ] > Electrical > Solar Panels > Connect Solar Tubes',\n",
    "    'SHELL > Waterproofing > Apply Sealant [pred] SHELL > Roof Openings > Seal Roof Opening Perimeters [succ] > SHELL > Roofing > Final Inspection',\n",
    "    'Structural > Roof Framing > Prepare Openings [pred] SHELL > Roof Openings > Install Access Ladders [succ] > Safety > Fall Protection > Install Safety Rails',\n",
    "    'SHELL > Roof Openings > Measure for Openings [pred] SHELL > Roof Openings > Cut Opening for Chimney [succ] > Mechanical > Fireplaces > Install Chimney Cap',\n",
    "    'SHELL > Insulation > Install Insulation Around Openings [pred] SHELL > Roof Openings > Install Light Tubes [succ] > Interiors > Ceilings > Finish Ceiling Around Light Tube',\n",
    "    'SHELL > Roof Openings > Mark Opening Locations [pred] SHELL > Roof Openings > Install Roof Fans [succ] > Mechanical > HVAC > Integrate Roof Fans into System',\n",
    "    'SHELL > Roofing > Install Metal Roofing [pred] SHELL > Roof Openings > Install Metal Roof Skylights [succ] > SHELL > Roof Openings > Flash Skylights',\n",
    "    'Utilities > Plumbing Rough-In > Stage Roof Drains [pred] SHELL > Roof Openings > Install Roof Drains [succ] > Utilities > Plumbing > Connect Drainage System',\n",
    "    'SHELL > Roof Openings > Plan Roof Penetrations [pred] SHELL > Roof Openings > Install Antenna Penetrations [succ] > Electrical > Low Voltage > Mount Antennas',\n",
    "    'SHELL > Roofing > Lay Roof Tiles [pred] SHELL > Roof Openings > Install Tile Roof Vents [succ] > SHELL > Roofing > Integrate Vents with Tiles',\n",
    "    'Site Work > Scaffolding > Erect Scaffolding for Roof Access [pred] SHELL > Roof Openings > Install Roof Windows [succ] > Finishes > Window Treatments > Apply Exterior Trim',\n",
    "    'SHELL > Roof Openings > Perform Structural Calculations [pred] SHELL > Roof Openings > Reinforce Roof for Openings [succ] > SHELL > Roofing > Replace Roof Section',\n",
    "    'SHELL > Roof Openings > Draft Opening Details [pred] SHELL > Roof Openings > Install Roof Exit Hatches [succ] > Safety > Egress > Mark Exit Paths',\n",
    "    'SHELL > Roofing > Install Shingles [pred] SHELL > Roof Openings > Install Shingle Roof Skylights [succ] > SHELL > Roof Openings > Waterproof Skylight Perimeter',\n",
    "    'SHELL > Roof Openings > Survey Roof for Opening Placement [pred] SHELL > Roof Openings > Install Air Conditioning Units [succ] > Mechanical > HVAC > Connect AC Units to System',\n",
    "]\n",
    "gpt4_labels_b3020 = ['B3020'] * len(gpt4_texts_b3020)\n",
    "\n",
    "gpt4_texts_d2040 = [\n",
    "    # Prompt: Sample 20 tasks of ASTM Uniformat D2040 'SERVICES Plumbing Rain Water Drainage' in the format of 'predwbs2 > predwbs > predtask [pred] wbs2 > wbs > task [succ] > sucwbs2 > sucwbs > suctask' including various building construction components.\n",
    "    'Site Preparation > Excavation > Site Clearing [pred] SERVICES > Plumbing Rain Water Drainage > Install Underground Drainage Pipes [succ] > Foundation > Basement Construction > Waterproofing',\n",
    "    'Architectural > Roofing > Install Roof Underlayment [pred] SERVICES > Plumbing Rain Water Drainage > Install Roof Drainage Systems [succ] > Exterior Enclosures > Roof Finishes > Install Gutters and Downspouts',\n",
    "    'Mechanical > HVAC Systems > Ductwork Installation [pred] SERVICES > Plumbing Rain Water Drainage > Connection to HVAC Condensate Drain Lines [succ] > Plumbing > Sanitary Systems > Connect to Sanitary Drainage System',\n",
    "    'Civil > Site Services > Stormwater Management Planning [pred] SERVICES > Plumbing Rain Water Drainage > Design of Rainwater Harvesting System [succ] > Landscaping > Irrigation Systems > Implement Rainwater Harvesting for Irrigation',\n",
    "    'Architectural > External Walls > Install External Cladding [pred] SERVICES > Plumbing Rain Water Drainage > Ensure Proper Wall Flashing for Water Drainage [succ] > Architectural > Paints and Coatings > Apply Exterior Waterproof Coatings',\n",
    "    'Civil > Landscaping > Site Grading for Drainage [pred] SERVICES > Plumbing Rain Water Drainage > Install French Drains [succ] > Landscaping > Hardscaping > Install Drainage Grates in Pavements',\n",
    "    'Utilities > Water Supply Systems > Install Water Mains [pred] SERVICES > Plumbing Rain Water Drainage > Connection to Municipal Storm Sewers [succ] > Utilities > Sewer Systems > Connect to Public Sewer System',\n",
    "    'Architectural > Windows and Doors > Install Windows [pred] SERVICES > Plumbing Rain Water Drainage > Install Window Well Drains [succ] > Architectural > Basement > Waterproof Basement Windows',\n",
    "    'Mechanical > Fire Protection > Sprinkler System Installation [pred] SERVICES > Plumbing Rain Water Drainage > Integrate Sprinkler Drainage [succ] > Plumbing > Drainage Systems > Connect Sprinkler Drainage to Main Drain',\n",
    "    'Structural > Foundations > Pour Concrete Foundations [pred] SERVICES > Plumbing Rain Water Drainage > Install Drainage Mat for Foundation Walls [succ] > Structural > Foundation Finishes > Apply Dampproofing',\n",
    "    'Landscaping > Outdoor Lighting > Install Pathway Lights [pred] SERVICES > Plumbing Rain Water Drainage > Incorporate Drainage in Outdoor Lighting Plan [succ] > Electrical > Exterior Electrical > Provide Drainage for Outdoor Electrical Systems',\n",
    "    'Structural > Columns and Beams > Steel Erection [pred] SERVICES > Plumbing Rain Water Drainage > Ensure Column Bases Drain Properly [succ] > Architectural > Metalwork > Install Metal Flashing at Base of Columns',\n",
    "    'Utilities > Electrical Service > Install Electrical Conduits [pred] SERVICES > Plumbing Rain Water Drainage > Seal Conduits Against Water Entry [succ] > Electrical > Electrical Protection > Install Waterproof Conduit Seals',\n",
    "    'Architectural > Interior Partitions > Erect Partition Walls [pred] SERVICES > Plumbing Rain Water Drainage > Install Internal Drainage Within Partitions [succ] > Interior Finishes > Interior Painting > Paint After Drainage Installation',\n",
    "    'Civil > Parking > Construct Parking Lots [pred] SERVICES > Plumbing Rain Water Drainage > Design Drainage for Parking Areas [succ] > Civil > Pavements > Install Permeable Pavements for Improved Drainage',\n",
    "    'Mechanical > Elevators > Elevator Shaft Construction [pred] SERVICES > Plumbing Rain Water Drainage > Install Drainage in Elevator Pits [succ] > Electrical > Elevator Controls > Waterproof Elevator Control Rooms',\n",
    "    'Utilities > Gas Systems > Gas Line Installation [pred] SERVICES > Plumbing Rain Water Drainage > Integrate Drainage Around Gas Meters [succ] > Utilities > Metering > Waterproof Meter Enclosures',\n",
    "    'Architectural > Insulation > Install Thermal Insulation [pred] SERVICES > Plumbing Rain Water Drainage > Manage Condensation Drainage [succ] > Mechanical > HVAC Systems > Connect Condensation Drains to HVAC',\n",
    "    'Electrical > Lighting > Install Interior Lighting [pred] SERVICES > Plumbing Rain Water Drainage > Plan Drainage for Emergency Exit Lights [succ] > Safety and Security > Emergency Systems > Ensure Water Does Not Obstruct Emergency Exits',\n",
    "    'Landscaping > Planting > Plant Trees and Shrubs [pred] SERVICES > Plumbing Rain Water Drainage > Implement Root Zone Drainage Solutions [succ] > Landscaping > Soil and Vegetation > Apply Soil Amendments for Improved Drainage',\n",
    "]\n",
    "gpt4_labels_d2040 = ['D2040'] * len(gpt4_texts_d2040)\n",
    "\n",
    "gpt4_texts_d2090 = [\n",
    "    # Prompt: Sample 20 tasks of ASTM Uniformat D2090 'SERVICES Plumbing Other Plumbing Systems' in the format of 'predwbs2 > predwbs > predtask [pred] wbs2 > wbs > task [succ] > sucwbs2 > sucwbs > suctask' including various building construction components.\n",
    "    'Design Review > Plumbing Design > Review Plumbing System Requirements [pred] SERVICES > Plumbing Other Plumbing Systems > Install Pipes and Fittings [succ] > Construction > Plumbing Installation > Pressure Test Plumbing Lines',\n",
    "    'Procurement > Plumbing Materials > Order Pipes and Fittings [pred] SERVICES > Plumbing Other Plumbing Systems > Install Water Treatment Systems [succ] > Construction > Water Treatment System Installation > Test Water Quality',\n",
    "    'Site Preparation > Utility Location > Mark Plumbing Lines [pred] SERVICES > Plumbing Other Plumbing Systems > Install Sanitary Systems [succ] > Construction > Sanitary System Installation > Connect to Sewer Lines',\n",
    "    'Health and Safety > Safety Training > Plumbing Safety Procedures [pred] SERVICES > Plumbing Other Plumbing Systems > Install Greywater Systems [succ] > Construction > Greywater System Installation > Commission Greywater Recycling',\n",
    "    'Project Management > Scheduling > Schedule Plumbing Tasks [pred] SERVICES > Plumbing Other Plumbing Systems > Install Stormwater Drainage [succ] > Construction > Drainage System Installation > Test Drainage Flow',\n",
    "    'Quality Assurance > Inspection > Pre-Installation Plumbing Inspection [pred] SERVICES > Plumbing Other Plumbing Systems > Install Hot Water Systems [succ] > Construction > Hot Water System Installation > Calibrate Temperature Controls',\n",
    "    'Environmental Management > Waste Management Plan > Plumbing Waste Disposal [pred] SERVICES > Plumbing Other Plumbing Systems > Install Irrigation Systems [succ] > Landscape > Irrigation System Installation > Test Irrigation Coverage',\n",
    "    'Logistics > Material Delivery > Deliver Plumbing Fixtures [pred] SERVICES > Plumbing Other Plumbing Systems > Install Plumbing Fixtures [succ] > Finishes > Fixture Installation > Seal and Caulk Fixtures',\n",
    "    'Energy Management > Energy Efficiency Planning > Plumbing Energy Requirements [pred] SERVICES > Plumbing Other Plumbing Systems > Install Solar Water Heating [succ] > Renewable Energy > Solar Heater Installation > Connect to Plumbing System',\n",
    "    'Commissioning > Systems Testing > Plumbing System Functional Testing [pred] SERVICES > Plumbing Other Plumbing Systems > Balance Hydronic Systems [succ] > Mechanical Systems > Hydronic System Balancing > Adjust Flow Rates',\n",
    "    'Training > Maintenance Training > Plumbing Maintenance Procedures [pred] SERVICES > Plumbing Other Plumbing Systems > Install Backflow Prevention Devices [succ] > Safety Devices > Backflow Preventer Installation > Test Backflow Device',\n",
    "    'Regulatory Compliance > Permitting > Plumbing System Permits [pred] SERVICES > Plumbing Other Plumbing Systems > Install Gas Piping Systems [succ] > Gas Systems > Gas Pipe Installation > Leak Testing',\n",
    "    'Documentation > As-Builts > Plumbing System Diagrams [pred] SERVICES > Plumbing Other Plumbing Systems > Label Plumbing Systems [succ] > Identification > System Labeling > Apply Identification Labels',\n",
    "    'Risk Management > Risk Assessment > Plumbing System Risks [pred] SERVICES > Plumbing Other Plumbing Systems > Install Emergency Showers [succ] > Safety Equipment > Emergency Shower Installation > Function Testing',\n",
    "    'Budgeting > Cost Estimation > Plumbing System Costs [pred] SERVICES > Plumbing Other Plumbing Systems > Install Water Softeners [succ] > Water Treatment > Water Softener Installation > Startup and Calibration',\n",
    "    'Sustainability > Water Conservation > Plumbing Conservation Measures [pred] SERVICES > Plumbing Other Plumbing Systems > Install Low-Flow Fixtures [succ] > Water Efficiency > Low-Flow Fixture Installation > Measure Flow Rates',\n",
    "    'Technology Integration > Smart Systems > Plumbing Automation Planning [pred] SERVICES > Plumbing Other Plumbing Systems > Install Smart Water Meters [succ] > Metering > Smart Meter Installation > Integration with Building Management System',\n",
    "    'Accessibility > ADA Compliance > Plumbing Accessibility Features [pred] SERVICES > Plumbing Other Plumbing Systems > Install Handicap-Accessible Fixtures [succ] > Accessibility > Accessible Fixture Installation > Compliance Verification',\n",
    "    'Historic Preservation > Preservation Planning > Plumbing in Historic Buildings [pred] SERVICES > Plumbing Other Plumbing Systems > Retrofit Plumbing Systems in Historic Buildings [succ] > Restoration > Plumbing System Retrofit > Aesthetic and Functional Testing',\n",
    "    'Acoustics > Noise Reduction > Plumbing Noise Analysis [pred] SERVICES > Plumbing Other Plumbing Systems > Install Acoustic Pipe Insulation [succ] > Noise Control > Acoustic Insulation Installation > Noise Level Testing',\n",
    "]\n",
    "gpt4_labels_d2090 = ['D2090'] * len(gpt4_texts_d2090)\n",
    "\n",
    "gpt4_texts_e1030 = [\n",
    "    # Prompt: Sample 20 tasks of ASTM Uniformat E1030 'EQUIPMENT & FURNISHINGS Equipment Vehicular Equipment' in the format of 'predwbs2 > predwbs > predtask [pred] wbs2 > wbs > task [succ] > sucwbs2 > sucwbs > suctask' including various building construction components.\n",
    "    'Site Preparation > Site Clearing [pred] > EQUIPMENT & FURNISHINGS > Vehicular Equipment > Install construction site vehicles [succ] > Construction > Site Work > Begin excavation',\n",
    "    'Foundation > Concrete Work [pred] > EQUIPMENT & FURNISHINGS > Vehicular Equipment > Deliver concrete mixers [succ] > Superstructure > Concrete Structure > Pour foundation',\n",
    "    'Superstructure > Structural Framing [pred] > EQUIPMENT & FURNISHINGS > Vehicular Equipment > Crane setup for material lifting [succ] > Exterior Enclosure > Roofing > Install roof trusses',\n",
    "    'Exterior Enclosure > Windows [pred] > EQUIPMENT & FURNISHINGS > Vehicular Equipment > Provide aerial lifts for facade work [succ] > Interior Construction > Interior Finishes > Begin exterior painting',\n",
    "    'Mechanical > HVAC Ductwork [pred] > EQUIPMENT & FURNISHINGS > Vehicular Equipment > Position mobile HVAC service units [succ] > Electrical > Electrical Distribution > Start HVAC system installation',\n",
    "    'Electrical > Lighting [pred] > EQUIPMENT & FURNISHINGS > Vehicular Equipment > Supply lighting maintenance vehicles [succ] > Finishes > Painting > Complete interior lighting installation',\n",
    "    'Interior Construction > Wall Framing [pred] > EQUIPMENT & FURNISHINGS > Vehicular Equipment > Deploy portable welding units [succ] > Finishes > Wall Finishes > Proceed with wall construction',\n",
    "    'Finishes > Flooring [pred] > EQUIPMENT & FURNISHINGS > Vehicular Equipment > Deliver floor treatment machines [succ] > Specialties > Signage > Finalize flooring installation',\n",
    "    'Specialties > Toilet Accessories [pred] > EQUIPMENT & FURNISHINGS > Vehicular Equipment > Supply sanitation service vehicles [succ] > Equipment > Food Service Equipment > Install bathroom fixtures',\n",
    "    'Equipment > Kitchen Appliances [pred] > EQUIPMENT & FURNISHINGS > Vehicular Equipment > Transport commercial refrigeration units [succ] > Furnishings > Window Treatments > Set up kitchen appliances',\n",
    "    'Site Work > Landscaping [pred] > EQUIPMENT & FURNISHINGS > Vehicular Equipment > Provide landscaping vehicles [succ] > Utilities > Water Utilities > Begin landscaping',\n",
    "    'Utilities > Electrical Utilities [pred] > EQUIPMENT & FURNISHINGS > Vehicular Equipment > Deploy generator service trucks [succ] > Equipment > Communications Equipment > Install site electrical infrastructure',\n",
    "    'Equipment > Fire Suppression Equipment [pred] > EQUIPMENT & FURNISHINGS > Vehicular Equipment > Deliver fire department vehicles [succ] > Safety and Security > Safety Equipment > Install fire suppression systems',\n",
    "    'Safety and Security > Security Systems [pred] > EQUIPMENT & FURNISHINGS > Vehicular Equipment > Supply security patrol vehicles [succ] > Technology > Data Equipment > Implement security systems',\n",
    "    'Technology > Audio-Visual Equipment [pred] > EQUIPMENT & FURNISHINGS > Vehicular Equipment > Deliver mobile AV service units [succ] > Conveying Systems > Elevators > Install audio-visual systems',\n",
    "    'Conveying Systems > Escalators [pred] > EQUIPMENT & FURNISHINGS > Vehicular Equipment > Transport escalator installation equipment [succ] > Furnishings > Furniture > Begin escalator installation',\n",
    "    'Furnishings > Office Furniture [pred] > EQUIPMENT & FURNISHINGS > Vehicular Equipment > Provide delivery trucks for furniture [succ] > Special Construction > Swimming Pools > Set up office areas',\n",
    "    'Special Construction > Athletic Facilities [pred] > EQUIPMENT & FURNISHINGS > Vehicular Equipment > Supply utility vehicles for sports equipment [succ] > Building Amenities > Parking > Equip athletic facilities',\n",
    "    'Building Amenities > Courtyards [pred] > EQUIPMENT & FURNISHINGS > Vehicular Equipment > Deploy landscaping maintenance vehicles [succ] > Site Construction > Walkways > Improve courtyard spaces',\n",
    "    'Site Construction > Fencing [pred] > EQUIPMENT & FURNISHINGS > Vehicular Equipment > Deliver fence installation vehicles [succ] > Commissioning > Systems Testing > Complete fencing',\n",
    "]\n",
    "gpt4_labels_e1030 = ['E1030'] * len(gpt4_texts_e1030)\n",
    "\n",
    "gpt4_texts = gpt4_texts_b3020 + gpt4_texts_d2040 + gpt4_texts_d2090 + gpt4_texts_e1030\n",
    "gpt4_labels = gpt4_labels_b3020 + gpt4_labels_d2040 + gpt4_labels_d2090 + gpt4_labels_e1030\n"
   ]
  },
  {
   "cell_type": "code",
   "execution_count": 18,
   "metadata": {},
   "outputs": [],
   "source": [
    "if experiment_setting['balancing']=='gpt4_balancing':\n",
    "\n",
    "    import itertools\n",
    "    train_loader = make_dataloader(\n",
    "        list(itertools.chain(\n",
    "            train_texts,\n",
    "            gpt4_texts,\n",
    "        )),\n",
    "        list(itertools.chain(\n",
    "            train_labels_encoded,\n",
    "            label_encoder.transform(gpt4_labels),\n",
    "        )),\n",
    "        batch_size\n",
    "    )\n",
    "\n",
    "    print(len(train_loader))"
   ]
  },
  {
   "cell_type": "markdown",
   "metadata": {},
   "source": [
    "### Fine-tuning (Train & Validation)"
   ]
  },
  {
   "cell_type": "code",
   "execution_count": 19,
   "metadata": {},
   "outputs": [],
   "source": [
    "optimizer = torch.optim.Adam(model.parameters(), lr=learning_rate)"
   ]
  },
  {
   "cell_type": "code",
   "execution_count": 20,
   "metadata": {},
   "outputs": [
    {
     "name": "stderr",
     "output_type": "stream",
     "text": [
      "100%|██████████| 640/640 [02:00<00:00,  5.29it/s]\n"
     ]
    },
    {
     "name": "stdout",
     "output_type": "stream",
     "text": [
      "Epoch 1 | Train Loss: 1.5879108372610062 | Validation Loss: 0.46045032770277183\n"
     ]
    },
    {
     "name": "stderr",
     "output_type": "stream",
     "text": [
      "100%|██████████| 640/640 [02:12<00:00,  4.83it/s]\n"
     ]
    },
    {
     "name": "stdout",
     "output_type": "stream",
     "text": [
      "Epoch 2 | Train Loss: 0.31025471846805885 | Validation Loss: 0.16379538491786083\n"
     ]
    },
    {
     "name": "stderr",
     "output_type": "stream",
     "text": [
      "100%|██████████| 640/640 [02:14<00:00,  4.77it/s]\n"
     ]
    },
    {
     "name": "stdout",
     "output_type": "stream",
     "text": [
      "Epoch 3 | Train Loss: 0.13241556821158157 | Validation Loss: 0.09739354197109971\n"
     ]
    },
    {
     "name": "stderr",
     "output_type": "stream",
     "text": [
      "100%|██████████| 640/640 [02:20<00:00,  4.54it/s]\n"
     ]
    },
    {
     "name": "stdout",
     "output_type": "stream",
     "text": [
      "Epoch 4 | Train Loss: 0.08110706202423898 | Validation Loss: 0.07269668201350163\n"
     ]
    },
    {
     "name": "stderr",
     "output_type": "stream",
     "text": [
      "100%|██████████| 640/640 [02:06<00:00,  5.04it/s]\n"
     ]
    },
    {
     "name": "stdout",
     "output_type": "stream",
     "text": [
      "Epoch 5 | Train Loss: 0.0606570877993363 | Validation Loss: 0.07108290768097912\n"
     ]
    },
    {
     "name": "stderr",
     "output_type": "stream",
     "text": [
      "100%|██████████| 640/640 [02:15<00:00,  4.71it/s]\n"
     ]
    },
    {
     "name": "stdout",
     "output_type": "stream",
     "text": [
      "Epoch 6 | Train Loss: 0.039788869812036866 | Validation Loss: 0.057148611466792\n"
     ]
    },
    {
     "name": "stderr",
     "output_type": "stream",
     "text": [
      "100%|██████████| 640/640 [02:21<00:00,  4.52it/s]\n"
     ]
    },
    {
     "name": "stdout",
     "output_type": "stream",
     "text": [
      "Epoch 7 | Train Loss: 0.03568687791666889 | Validation Loss: 0.057905628132659974\n"
     ]
    },
    {
     "name": "stderr",
     "output_type": "stream",
     "text": [
      "100%|██████████| 640/640 [02:21<00:00,  4.52it/s]\n"
     ]
    },
    {
     "name": "stdout",
     "output_type": "stream",
     "text": [
      "Epoch 8 | Train Loss: 0.033485492176987465 | Validation Loss: 0.05752083923119321\n"
     ]
    },
    {
     "name": "stderr",
     "output_type": "stream",
     "text": [
      "100%|██████████| 640/640 [02:16<00:00,  4.69it/s]\n"
     ]
    },
    {
     "name": "stdout",
     "output_type": "stream",
     "text": [
      "Epoch 9 | Train Loss: 0.023300936109080794 | Validation Loss: 0.05330749209611198\n"
     ]
    },
    {
     "name": "stderr",
     "output_type": "stream",
     "text": [
      "100%|██████████| 640/640 [02:15<00:00,  4.71it/s]\n"
     ]
    },
    {
     "name": "stdout",
     "output_type": "stream",
     "text": [
      "Epoch 10 | Train Loss: 0.021791193782701158 | Validation Loss: 0.05005999944100992\n"
     ]
    },
    {
     "name": "stderr",
     "output_type": "stream",
     "text": [
      "100%|██████████| 640/640 [02:10<00:00,  4.92it/s]\n"
     ]
    },
    {
     "name": "stdout",
     "output_type": "stream",
     "text": [
      "Epoch 11 | Train Loss: 0.021863706508702306 | Validation Loss: 0.06010784660672734\n"
     ]
    },
    {
     "name": "stderr",
     "output_type": "stream",
     "text": [
      "100%|██████████| 640/640 [02:16<00:00,  4.70it/s]\n"
     ]
    },
    {
     "name": "stdout",
     "output_type": "stream",
     "text": [
      "Epoch 12 | Train Loss: 0.02475701366292924 | Validation Loss: 0.06111563963540308\n"
     ]
    },
    {
     "name": "stderr",
     "output_type": "stream",
     "text": [
      "100%|██████████| 640/640 [02:16<00:00,  4.70it/s]\n"
     ]
    },
    {
     "name": "stdout",
     "output_type": "stream",
     "text": [
      "Epoch 13 | Train Loss: 0.025714820848043017 | Validation Loss: 0.048969072402916224\n"
     ]
    },
    {
     "name": "stderr",
     "output_type": "stream",
     "text": [
      "100%|██████████| 640/640 [02:10<00:00,  4.90it/s]\n"
     ]
    },
    {
     "name": "stdout",
     "output_type": "stream",
     "text": [
      "Epoch 14 | Train Loss: 0.01874568117400486 | Validation Loss: 0.053243534919908096\n"
     ]
    },
    {
     "name": "stderr",
     "output_type": "stream",
     "text": [
      "100%|██████████| 640/640 [02:20<00:00,  4.56it/s]\n"
     ]
    },
    {
     "name": "stdout",
     "output_type": "stream",
     "text": [
      "Epoch 15 | Train Loss: 0.017154349456723138 | Validation Loss: 0.050405353673833864\n"
     ]
    },
    {
     "name": "stderr",
     "output_type": "stream",
     "text": [
      "100%|██████████| 640/640 [02:00<00:00,  5.30it/s]\n"
     ]
    },
    {
     "name": "stdout",
     "output_type": "stream",
     "text": [
      "Epoch 16 | Train Loss: 0.016034696469705522 | Validation Loss: 0.04991553736256031\n"
     ]
    },
    {
     "name": "stderr",
     "output_type": "stream",
     "text": [
      "100%|██████████| 640/640 [02:18<00:00,  4.63it/s]\n"
     ]
    },
    {
     "name": "stdout",
     "output_type": "stream",
     "text": [
      "Epoch 17 | Train Loss: 0.013654086846327119 | Validation Loss: 0.0518649229356882\n"
     ]
    },
    {
     "name": "stderr",
     "output_type": "stream",
     "text": [
      "100%|██████████| 640/640 [02:09<00:00,  4.96it/s]\n"
     ]
    },
    {
     "name": "stdout",
     "output_type": "stream",
     "text": [
      "Epoch 18 | Train Loss: 0.02009779340123714 | Validation Loss: 0.057468144947289766\n"
     ]
    },
    {
     "name": "stderr",
     "output_type": "stream",
     "text": [
      "100%|██████████| 640/640 [02:16<00:00,  4.69it/s]\n"
     ]
    },
    {
     "name": "stdout",
     "output_type": "stream",
     "text": [
      "Epoch 19 | Train Loss: 0.015569711250918772 | Validation Loss: 0.05471639783898473\n"
     ]
    },
    {
     "name": "stderr",
     "output_type": "stream",
     "text": [
      "100%|██████████| 640/640 [02:08<00:00,  4.98it/s]\n"
     ]
    },
    {
     "name": "stdout",
     "output_type": "stream",
     "text": [
      "Epoch 20 | Train Loss: 0.014113808846013853 | Validation Loss: 0.05406001356425456\n"
     ]
    },
    {
     "data": {
      "image/png": "[encoded data removed]",
      "text/plain": [
       "<Figure size 640x480 with 1 Axes>"
      ]
     },
     "metadata": {},
     "output_type": "display_data"
    }
   ],
   "source": [
    "from tqdm import tqdm\n",
    "\n",
    "train_losses = []\n",
    "val_losses = []\n",
    "for epoch in range(epoch_size):\n",
    "    model.train()\n",
    "    train_loss = 0\n",
    "    for input_ids, attention_mask, labels in tqdm(train_loader):\n",
    "        model.zero_grad()\n",
    "        outputs = model(input_ids=input_ids, attention_mask=attention_mask, labels=labels)\n",
    "        loss = outputs.loss\n",
    "        train_loss += loss.item()\n",
    "        loss.backward()\n",
    "        optimizer.step()\n",
    "    train_losses.append(train_loss / len(train_loader))\n",
    "\n",
    "    # Validation\n",
    "    model.eval()\n",
    "    with torch.no_grad():\n",
    "        val_loss = 0\n",
    "        for input_ids, attention_mask, labels in validation_loader:\n",
    "            outputs = model(input_ids=input_ids, attention_mask=attention_mask, labels=labels)\n",
    "            \n",
    "            loss = outputs.loss\n",
    "            val_loss += loss.item()\n",
    "    val_losses.append(val_loss / len(validation_loader))\n",
    "    print(f\"Epoch {epoch+1} | Train Loss: {train_losses[-1]} | Validation Loss: {val_losses[-1]}\")\n",
    "\n",
    "import matplotlib.pyplot as plt\n",
    "plt.plot(train_losses, label='Training loss')\n",
    "plt.plot(val_losses, label='Validation loss')\n",
    "plt.legend()\n",
    "plt.title('Loss')\n",
    "plt.xlabel('Epoch')\n",
    "plt.show()"
   ]
  },
  {
   "cell_type": "markdown",
   "metadata": {},
   "source": [
    "### Test"
   ]
  },
  {
   "cell_type": "code",
   "execution_count": 21,
   "metadata": {},
   "outputs": [],
   "source": [
    "model.eval()\n",
    "with torch.no_grad():\n",
    "    true_labels = []\n",
    "    pred_labels = []\n",
    "    df_test_rows = []\n",
    "    for input_ids, attention_mask, labels in test_loader:\n",
    "        outputs = model(input_ids=input_ids, attention_mask=attention_mask)\n",
    "        pred_labels.extend(torch.argmax(outputs.logits, dim=1).cpu().numpy())\n",
    "        true_labels.extend(labels.cpu().numpy())\n",
    "\n",
    "        for b in range(input_ids.shape[0]):\n",
    "            text = tokenizer.decode([token for i, token in enumerate(input_ids[b]) if attention_mask[b][i] == 1])\n",
    "            pred_label = label_encoder.classes_[torch.argmax(outputs.logits[b]).item()]\n",
    "            true_label = label_encoder.classes_[labels[b].item()]\n",
    "            df_test_rows.append({'text': text, 'true_label': true_label, 'pred_label': pred_label, 'correct': pred_label == true_label})\n",
    "\n",
    "# Data should not be shared publicly.\n",
    "pd.DataFrame(df_test_rows).to_csv(dataset_path+f\"/{experiment_name}_test_data_pred_results.csv\")"
   ]
  },
  {
   "cell_type": "markdown",
   "metadata": {},
   "source": [
    "### Experimental Results"
   ]
  },
  {
   "cell_type": "markdown",
   "metadata": {},
   "source": [
    "#### Overall Results"
   ]
  },
  {
   "cell_type": "code",
   "execution_count": 22,
   "metadata": {},
   "outputs": [
    {
     "name": "stdout",
     "output_type": "stream",
     "text": [
      "Test Accuracy: 0.9842\n",
      "Precision: 0.9566\n",
      "Recall: 0.9555\n",
      "F1 Score: 0.9543\n"
     ]
    }
   ],
   "source": [
    "from sklearn.metrics import accuracy_score, precision_recall_fscore_support\n",
    "\n",
    "accuracy = accuracy_score(true_labels, pred_labels)\n",
    "precision, recall, f1, _ = precision_recall_fscore_support(\n",
    "    true_labels, \n",
    "    pred_labels, \n",
    "    # average='weighted', \n",
    "    average='macro',  # Original paper setting (page 8)\n",
    "    zero_division=0\n",
    ")\n",
    "\n",
    "print(f\"Test Accuracy: {accuracy:.4f}\")\n",
    "print(f\"Precision: {precision:.4f}\")\n",
    "print(f\"Recall: {recall:.4f}\")\n",
    "print(f\"F1 Score: {f1:.4f}\")"
   ]
  },
  {
   "cell_type": "markdown",
   "metadata": {},
   "source": [
    "#### Class-wise Results"
   ]
  },
  {
   "cell_type": "code",
   "execution_count": 23,
   "metadata": {},
   "outputs": [
    {
     "data": {
      "text/html": [
       "<div>\n",
       "<style scoped>\n",
       "    .dataframe tbody tr th:only-of-type {\n",
       "        vertical-align: middle;\n",
       "    }\n",
       "\n",
       "    .dataframe tbody tr th {\n",
       "        vertical-align: top;\n",
       "    }\n",
       "\n",
       "    .dataframe thead th {\n",
       "        text-align: right;\n",
       "    }\n",
       "</style>\n",
       "<table border=\"1\" class=\"dataframe\">\n",
       "  <thead>\n",
       "    <tr style=\"text-align: right;\">\n",
       "      <th></th>\n",
       "      <th>Class</th>\n",
       "      <th>Precision</th>\n",
       "      <th>Recall</th>\n",
       "      <th>F1 Score</th>\n",
       "    </tr>\n",
       "  </thead>\n",
       "  <tbody>\n",
       "    <tr>\n",
       "      <th>0</th>\n",
       "      <td>A1010</td>\n",
       "      <td>1.000000</td>\n",
       "      <td>0.985294</td>\n",
       "      <td>0.992593</td>\n",
       "    </tr>\n",
       "    <tr>\n",
       "      <th>1</th>\n",
       "      <td>A1020</td>\n",
       "      <td>1.000000</td>\n",
       "      <td>0.987179</td>\n",
       "      <td>0.993548</td>\n",
       "    </tr>\n",
       "    <tr>\n",
       "      <th>2</th>\n",
       "      <td>A1030</td>\n",
       "      <td>0.977273</td>\n",
       "      <td>1.000000</td>\n",
       "      <td>0.988506</td>\n",
       "    </tr>\n",
       "    <tr>\n",
       "      <th>3</th>\n",
       "      <td>A2010</td>\n",
       "      <td>0.967213</td>\n",
       "      <td>0.983333</td>\n",
       "      <td>0.975207</td>\n",
       "    </tr>\n",
       "    <tr>\n",
       "      <th>4</th>\n",
       "      <td>A2020</td>\n",
       "      <td>1.000000</td>\n",
       "      <td>0.888889</td>\n",
       "      <td>0.941176</td>\n",
       "    </tr>\n",
       "    <tr>\n",
       "      <th>5</th>\n",
       "      <td>B1010</td>\n",
       "      <td>0.994934</td>\n",
       "      <td>0.994934</td>\n",
       "      <td>0.994934</td>\n",
       "    </tr>\n",
       "    <tr>\n",
       "      <th>6</th>\n",
       "      <td>B1020</td>\n",
       "      <td>0.982759</td>\n",
       "      <td>0.942149</td>\n",
       "      <td>0.962025</td>\n",
       "    </tr>\n",
       "    <tr>\n",
       "      <th>7</th>\n",
       "      <td>B2010</td>\n",
       "      <td>0.987993</td>\n",
       "      <td>0.996540</td>\n",
       "      <td>0.992248</td>\n",
       "    </tr>\n",
       "    <tr>\n",
       "      <th>8</th>\n",
       "      <td>B2020</td>\n",
       "      <td>0.993651</td>\n",
       "      <td>0.996815</td>\n",
       "      <td>0.995231</td>\n",
       "    </tr>\n",
       "    <tr>\n",
       "      <th>9</th>\n",
       "      <td>B2030</td>\n",
       "      <td>1.000000</td>\n",
       "      <td>0.888889</td>\n",
       "      <td>0.941176</td>\n",
       "    </tr>\n",
       "    <tr>\n",
       "      <th>10</th>\n",
       "      <td>B3010</td>\n",
       "      <td>0.945946</td>\n",
       "      <td>0.972222</td>\n",
       "      <td>0.958904</td>\n",
       "    </tr>\n",
       "    <tr>\n",
       "      <th>11</th>\n",
       "      <td>B3020</td>\n",
       "      <td>0.000000</td>\n",
       "      <td>0.000000</td>\n",
       "      <td>0.000000</td>\n",
       "    </tr>\n",
       "    <tr>\n",
       "      <th>12</th>\n",
       "      <td>C1010</td>\n",
       "      <td>0.998004</td>\n",
       "      <td>0.920810</td>\n",
       "      <td>0.957854</td>\n",
       "    </tr>\n",
       "    <tr>\n",
       "      <th>13</th>\n",
       "      <td>C1020</td>\n",
       "      <td>1.000000</td>\n",
       "      <td>1.000000</td>\n",
       "      <td>1.000000</td>\n",
       "    </tr>\n",
       "    <tr>\n",
       "      <th>14</th>\n",
       "      <td>C1030</td>\n",
       "      <td>1.000000</td>\n",
       "      <td>1.000000</td>\n",
       "      <td>1.000000</td>\n",
       "    </tr>\n",
       "    <tr>\n",
       "      <th>15</th>\n",
       "      <td>C2010</td>\n",
       "      <td>0.726027</td>\n",
       "      <td>1.000000</td>\n",
       "      <td>0.841270</td>\n",
       "    </tr>\n",
       "    <tr>\n",
       "      <th>16</th>\n",
       "      <td>C2020</td>\n",
       "      <td>1.000000</td>\n",
       "      <td>1.000000</td>\n",
       "      <td>1.000000</td>\n",
       "    </tr>\n",
       "    <tr>\n",
       "      <th>17</th>\n",
       "      <td>C3010</td>\n",
       "      <td>0.995406</td>\n",
       "      <td>0.980392</td>\n",
       "      <td>0.987842</td>\n",
       "    </tr>\n",
       "    <tr>\n",
       "      <th>18</th>\n",
       "      <td>C3020</td>\n",
       "      <td>0.981378</td>\n",
       "      <td>1.000000</td>\n",
       "      <td>0.990602</td>\n",
       "    </tr>\n",
       "    <tr>\n",
       "      <th>19</th>\n",
       "      <td>C3030</td>\n",
       "      <td>0.993921</td>\n",
       "      <td>1.000000</td>\n",
       "      <td>0.996951</td>\n",
       "    </tr>\n",
       "    <tr>\n",
       "      <th>20</th>\n",
       "      <td>D1010</td>\n",
       "      <td>0.988701</td>\n",
       "      <td>1.000000</td>\n",
       "      <td>0.994318</td>\n",
       "    </tr>\n",
       "    <tr>\n",
       "      <th>21</th>\n",
       "      <td>D1020</td>\n",
       "      <td>1.000000</td>\n",
       "      <td>1.000000</td>\n",
       "      <td>1.000000</td>\n",
       "    </tr>\n",
       "    <tr>\n",
       "      <th>22</th>\n",
       "      <td>D1090</td>\n",
       "      <td>0.857143</td>\n",
       "      <td>1.000000</td>\n",
       "      <td>0.923077</td>\n",
       "    </tr>\n",
       "    <tr>\n",
       "      <th>23</th>\n",
       "      <td>D2010</td>\n",
       "      <td>1.000000</td>\n",
       "      <td>1.000000</td>\n",
       "      <td>1.000000</td>\n",
       "    </tr>\n",
       "    <tr>\n",
       "      <th>24</th>\n",
       "      <td>D2020</td>\n",
       "      <td>0.990476</td>\n",
       "      <td>1.000000</td>\n",
       "      <td>0.995215</td>\n",
       "    </tr>\n",
       "    <tr>\n",
       "      <th>25</th>\n",
       "      <td>D2030</td>\n",
       "      <td>1.000000</td>\n",
       "      <td>0.937500</td>\n",
       "      <td>0.967742</td>\n",
       "    </tr>\n",
       "    <tr>\n",
       "      <th>26</th>\n",
       "      <td>D3010</td>\n",
       "      <td>1.000000</td>\n",
       "      <td>1.000000</td>\n",
       "      <td>1.000000</td>\n",
       "    </tr>\n",
       "    <tr>\n",
       "      <th>27</th>\n",
       "      <td>D3020</td>\n",
       "      <td>0.928571</td>\n",
       "      <td>0.928571</td>\n",
       "      <td>0.928571</td>\n",
       "    </tr>\n",
       "    <tr>\n",
       "      <th>28</th>\n",
       "      <td>D3030</td>\n",
       "      <td>1.000000</td>\n",
       "      <td>1.000000</td>\n",
       "      <td>1.000000</td>\n",
       "    </tr>\n",
       "    <tr>\n",
       "      <th>29</th>\n",
       "      <td>D3040</td>\n",
       "      <td>0.982301</td>\n",
       "      <td>0.991071</td>\n",
       "      <td>0.986667</td>\n",
       "    </tr>\n",
       "    <tr>\n",
       "      <th>30</th>\n",
       "      <td>D3050</td>\n",
       "      <td>1.000000</td>\n",
       "      <td>0.971751</td>\n",
       "      <td>0.985673</td>\n",
       "    </tr>\n",
       "    <tr>\n",
       "      <th>31</th>\n",
       "      <td>D3060</td>\n",
       "      <td>1.000000</td>\n",
       "      <td>0.952381</td>\n",
       "      <td>0.975610</td>\n",
       "    </tr>\n",
       "    <tr>\n",
       "      <th>32</th>\n",
       "      <td>D3070</td>\n",
       "      <td>0.960784</td>\n",
       "      <td>0.980000</td>\n",
       "      <td>0.970297</td>\n",
       "    </tr>\n",
       "    <tr>\n",
       "      <th>33</th>\n",
       "      <td>D3090</td>\n",
       "      <td>1.000000</td>\n",
       "      <td>1.000000</td>\n",
       "      <td>1.000000</td>\n",
       "    </tr>\n",
       "    <tr>\n",
       "      <th>34</th>\n",
       "      <td>D4010</td>\n",
       "      <td>1.000000</td>\n",
       "      <td>1.000000</td>\n",
       "      <td>1.000000</td>\n",
       "    </tr>\n",
       "    <tr>\n",
       "      <th>35</th>\n",
       "      <td>D4020</td>\n",
       "      <td>1.000000</td>\n",
       "      <td>1.000000</td>\n",
       "      <td>1.000000</td>\n",
       "    </tr>\n",
       "    <tr>\n",
       "      <th>36</th>\n",
       "      <td>D4030</td>\n",
       "      <td>0.900000</td>\n",
       "      <td>1.000000</td>\n",
       "      <td>0.947368</td>\n",
       "    </tr>\n",
       "    <tr>\n",
       "      <th>37</th>\n",
       "      <td>D4090</td>\n",
       "      <td>1.000000</td>\n",
       "      <td>1.000000</td>\n",
       "      <td>1.000000</td>\n",
       "    </tr>\n",
       "    <tr>\n",
       "      <th>38</th>\n",
       "      <td>D5010</td>\n",
       "      <td>0.979381</td>\n",
       "      <td>0.989583</td>\n",
       "      <td>0.984456</td>\n",
       "    </tr>\n",
       "    <tr>\n",
       "      <th>39</th>\n",
       "      <td>D5020</td>\n",
       "      <td>0.960993</td>\n",
       "      <td>1.000000</td>\n",
       "      <td>0.980108</td>\n",
       "    </tr>\n",
       "    <tr>\n",
       "      <th>40</th>\n",
       "      <td>D5030</td>\n",
       "      <td>1.000000</td>\n",
       "      <td>0.976562</td>\n",
       "      <td>0.988142</td>\n",
       "    </tr>\n",
       "    <tr>\n",
       "      <th>41</th>\n",
       "      <td>D5090</td>\n",
       "      <td>0.990291</td>\n",
       "      <td>1.000000</td>\n",
       "      <td>0.995122</td>\n",
       "    </tr>\n",
       "    <tr>\n",
       "      <th>42</th>\n",
       "      <td>E1010</td>\n",
       "      <td>0.875000</td>\n",
       "      <td>1.000000</td>\n",
       "      <td>0.933333</td>\n",
       "    </tr>\n",
       "    <tr>\n",
       "      <th>43</th>\n",
       "      <td>E1020</td>\n",
       "      <td>1.000000</td>\n",
       "      <td>0.666667</td>\n",
       "      <td>0.800000</td>\n",
       "    </tr>\n",
       "    <tr>\n",
       "      <th>44</th>\n",
       "      <td>E1090</td>\n",
       "      <td>1.000000</td>\n",
       "      <td>0.977273</td>\n",
       "      <td>0.988506</td>\n",
       "    </tr>\n",
       "    <tr>\n",
       "      <th>45</th>\n",
       "      <td>E2010</td>\n",
       "      <td>1.000000</td>\n",
       "      <td>1.000000</td>\n",
       "      <td>1.000000</td>\n",
       "    </tr>\n",
       "    <tr>\n",
       "      <th>46</th>\n",
       "      <td>E2020</td>\n",
       "      <td>1.000000</td>\n",
       "      <td>1.000000</td>\n",
       "      <td>1.000000</td>\n",
       "    </tr>\n",
       "  </tbody>\n",
       "</table>\n",
       "</div>"
      ],
      "text/plain": [
       "    Class  Precision    Recall  F1 Score\n",
       "0   A1010   1.000000  0.985294  0.992593\n",
       "1   A1020   1.000000  0.987179  0.993548\n",
       "2   A1030   0.977273  1.000000  0.988506\n",
       "3   A2010   0.967213  0.983333  0.975207\n",
       "4   A2020   1.000000  0.888889  0.941176\n",
       "5   B1010   0.994934  0.994934  0.994934\n",
       "6   B1020   0.982759  0.942149  0.962025\n",
       "7   B2010   0.987993  0.996540  0.992248\n",
       "8   B2020   0.993651  0.996815  0.995231\n",
       "9   B2030   1.000000  0.888889  0.941176\n",
       "10  B3010   0.945946  0.972222  0.958904\n",
       "11  B3020   0.000000  0.000000  0.000000\n",
       "12  C1010   0.998004  0.920810  0.957854\n",
       "13  C1020   1.000000  1.000000  1.000000\n",
       "14  C1030   1.000000  1.000000  1.000000\n",
       "15  C2010   0.726027  1.000000  0.841270\n",
       "16  C2020   1.000000  1.000000  1.000000\n",
       "17  C3010   0.995406  0.980392  0.987842\n",
       "18  C3020   0.981378  1.000000  0.990602\n",
       "19  C3030   0.993921  1.000000  0.996951\n",
       "20  D1010   0.988701  1.000000  0.994318\n",
       "21  D1020   1.000000  1.000000  1.000000\n",
       "22  D1090   0.857143  1.000000  0.923077\n",
       "23  D2010   1.000000  1.000000  1.000000\n",
       "24  D2020   0.990476  1.000000  0.995215\n",
       "25  D2030   1.000000  0.937500  0.967742\n",
       "26  D3010   1.000000  1.000000  1.000000\n",
       "27  D3020   0.928571  0.928571  0.928571\n",
       "28  D3030   1.000000  1.000000  1.000000\n",
       "29  D3040   0.982301  0.991071  0.986667\n",
       "30  D3050   1.000000  0.971751  0.985673\n",
       "31  D3060   1.000000  0.952381  0.975610\n",
       "32  D3070   0.960784  0.980000  0.970297\n",
       "33  D3090   1.000000  1.000000  1.000000\n",
       "34  D4010   1.000000  1.000000  1.000000\n",
       "35  D4020   1.000000  1.000000  1.000000\n",
       "36  D4030   0.900000  1.000000  0.947368\n",
       "37  D4090   1.000000  1.000000  1.000000\n",
       "38  D5010   0.979381  0.989583  0.984456\n",
       "39  D5020   0.960993  1.000000  0.980108\n",
       "40  D5030   1.000000  0.976562  0.988142\n",
       "41  D5090   0.990291  1.000000  0.995122\n",
       "42  E1010   0.875000  1.000000  0.933333\n",
       "43  E1020   1.000000  0.666667  0.800000\n",
       "44  E1090   1.000000  0.977273  0.988506\n",
       "45  E2010   1.000000  1.000000  1.000000\n",
       "46  E2020   1.000000  1.000000  1.000000"
      ]
     },
     "execution_count": 23,
     "metadata": {},
     "output_type": "execute_result"
    }
   ],
   "source": [
    "precision, recall, f1, _ = precision_recall_fscore_support(true_labels, pred_labels, average=None, zero_division=0)\n",
    "\n",
    "class_names = label_encoder.inverse_transform(list(set(true_labels)))\n",
    "\n",
    "performance_df = pd.DataFrame({\n",
    "    'Class': class_names,\n",
    "    'Precision': precision,\n",
    "    'Recall': recall,\n",
    "    'F1 Score': f1\n",
    "})\n",
    "performance_df.to_csv(f'experimental_results/precision_recall_fscore_{experiment_name}.csv')\n",
    "performance_df"
   ]
  },
  {
   "cell_type": "code",
   "execution_count": 24,
   "metadata": {},
   "outputs": [
    {
     "data": {
      "text/html": [
       "<div>\n",
       "<style scoped>\n",
       "    .dataframe tbody tr th:only-of-type {\n",
       "        vertical-align: middle;\n",
       "    }\n",
       "\n",
       "    .dataframe tbody tr th {\n",
       "        vertical-align: top;\n",
       "    }\n",
       "\n",
       "    .dataframe thead th {\n",
       "        text-align: right;\n",
       "    }\n",
       "</style>\n",
       "<table border=\"1\" class=\"dataframe\">\n",
       "  <thead>\n",
       "    <tr style=\"text-align: right;\">\n",
       "      <th></th>\n",
       "      <th>Class</th>\n",
       "      <th>Precision</th>\n",
       "      <th>Recall</th>\n",
       "      <th>F1 Score</th>\n",
       "      <th>Total Sample Size</th>\n",
       "    </tr>\n",
       "  </thead>\n",
       "  <tbody>\n",
       "    <tr>\n",
       "      <th>11</th>\n",
       "      <td>B3020</td>\n",
       "      <td>0.0</td>\n",
       "      <td>0.0</td>\n",
       "      <td>0.0</td>\n",
       "      <td>6</td>\n",
       "    </tr>\n",
       "    <tr>\n",
       "      <th>33</th>\n",
       "      <td>D3090</td>\n",
       "      <td>1.0</td>\n",
       "      <td>1.0</td>\n",
       "      <td>1.0</td>\n",
       "      <td>4</td>\n",
       "    </tr>\n",
       "  </tbody>\n",
       "</table>\n",
       "</div>"
      ],
      "text/plain": [
       "    Class  Precision  Recall  F1 Score  Total Sample Size\n",
       "11  B3020        0.0     0.0       0.0                  6\n",
       "33  D3090        1.0     1.0       1.0                  4"
      ]
     },
     "execution_count": 24,
     "metadata": {},
     "output_type": "execute_result"
    }
   ],
   "source": [
    "# Scarce labels (less than 10)\n",
    "performance_df['Total Sample Size'] = label_cnt[performance_df['Class']].values\n",
    "performance_df[performance_df['Total Sample Size'] < 10]  # only when F1 Score can be calculated"
   ]
  },
  {
   "cell_type": "code",
   "execution_count": 25,
   "metadata": {},
   "outputs": [
    {
     "name": "stdout",
     "output_type": "stream",
     "text": [
      "Elapsed time:  51.5744752963384  minutes\n"
     ]
    }
   ],
   "source": [
    "print('Elapsed time: ', (time.time() - start_time)/60, ' minutes')"
   ]
  }
 ],
 "metadata": {
  "kernelspec": {
   "display_name": "Python 3",
   "language": "python",
   "name": "python3"
  },
  "language_info": {
   "codemirror_mode": {
    "name": "ipython",
    "version": 3
   },
   "file_extension": ".py",
   "mimetype": "text/x-python",
   "name": "python",
   "nbconvert_exporter": "python",
   "pygments_lexer": "ipython3",
   "version": "3.11.6"
  }
 },
 "nbformat": 4,
 "nbformat_minor": 2
}
