{
 "cells": [
  {
   "cell_type": "markdown",
   "metadata": {},
   "source": [
    "## Reproduction of the UniformatBridge model implementation\n",
    "\n",
    "- This is an **_unofficial_** reproduction of the experiment described in \"Transformer language model for mapping construction schedule activities to uniformat categories\" by Yoonhwa Jung, Julia Hockenmaier, and Mani Golparvar-Fard, 2024.\n",
    "- The study can be accessed at https://doi.org/10.1016/j.autcon.2023.105183."
   ]
  },
  {
   "cell_type": "markdown",
   "metadata": {},
   "source": [
    "**Table of contents**    \n",
    "- Reproduction of the UniformatBridge model implementation    \n",
    "    - Data    \n",
    "      - BIM and ASTM Uniformat categories    \n",
    "      - ★ Additional Experiment: What if we simply duplicate scarce data for data balancing?    \n",
    "      - Label Encoding    \n",
    "      - Text Encoding    \n",
    "      - Make DataLoader    \n",
    "      - ★ Additional Datasets: ASTM Uniformat II Classification for Building Elements Description    \n",
    "      - ★ Additional Datasets: Data Augmentation with GPT-2    \n",
    "      - ★ Additional Datasets: Data Augmentation with GPT-4    \n",
    "    - Fine-tuning (Train & Validation)    \n",
    "    - Test    \n",
    "    - Experimental Results    \n",
    "      - Overall Results    \n",
    "      - Class-wise Results    \n",
    "\n",
    "<!-- vscode-jupyter-toc-config\n",
    "\tnumbering=false\n",
    "\tanchor=false\n",
    "\tflat=false\n",
    "\tminLevel=1\n",
    "\tmaxLevel=6\n",
    "\t/vscode-jupyter-toc-config -->\n",
    "<!-- THIS CELL WILL BE REPLACED ON TOC UPDATE. DO NOT WRITE YOUR TEXT IN THIS CELL -->"
   ]
  },
  {
   "cell_type": "code",
   "execution_count": 1,
   "metadata": {},
   "outputs": [],
   "source": [
    "import time; start_time = time.time()"
   ]
  },
  {
   "cell_type": "code",
   "execution_count": 2,
   "metadata": {},
   "outputs": [
    {
     "name": "stdout",
     "output_type": "stream",
     "text": [
      "Python 3.11.6\n"
     ]
    }
   ],
   "source": [
    "!python -V"
   ]
  },
  {
   "cell_type": "code",
   "execution_count": 3,
   "metadata": {},
   "outputs": [],
   "source": [
    "# Experimental Settings from Jung et al. (2024)\n",
    "# 6p: \"Five epochs with a batch size of 32, a dropout rate of 0.1, and a learning rate of 1.5e−5 were used to fine-tune the model.\"\n",
    "epoch_size = 20 #5\n",
    "batch_size = 32\n",
    "dropout_rate = 0.1  # BertForSequenceClassification default dropout_rate = 0.1\n",
    "learning_rate = 1.5e-5\n",
    "\n",
    "# 7p: \"In Table 2 and 3, 𝜇 is the average performance on three random seeds, and 𝜎 is their standard deviation.\"\n",
    "rseed = 42"
   ]
  },
  {
   "cell_type": "code",
   "execution_count": 4,
   "metadata": {},
   "outputs": [],
   "source": [
    "experiment_name = 'gpt4_balancing'  # for writing output file names.\n",
    "experiment_setting = {\n",
    "    'rseed': rseed, \n",
    "    'simple_balancing': False, # 'True' takes long time to train\n",
    "    'gpt2_balancing': False,\n",
    "    'gpt4_balancing': True,\n",
    "}\n",
    "\n",
    "import json\n",
    "with open(f'experimental_results/{experiment_name}_experiment_setting.json', 'w') as json_file:\n",
    "    json.dump(experiment_setting, json_file, indent=4, sort_keys=True)"
   ]
  },
  {
   "cell_type": "code",
   "execution_count": 5,
   "metadata": {},
   "outputs": [
    {
     "data": {
      "text/plain": [
       "device(type='cuda')"
      ]
     },
     "execution_count": 5,
     "metadata": {},
     "output_type": "execute_result"
    }
   ],
   "source": [
    "import torch\n",
    "device = torch.device(\"cuda\" if torch.cuda.is_available() else \"cpu\")\n",
    "device"
   ]
  },
  {
   "cell_type": "markdown",
   "metadata": {},
   "source": [
    "### Data"
   ]
  },
  {
   "cell_type": "markdown",
   "metadata": {},
   "source": [
    "#### BIM and ASTM Uniformat categories"
   ]
  },
  {
   "cell_type": "code",
   "execution_count": 6,
   "metadata": {},
   "outputs": [],
   "source": [
    "import pandas as pd\n",
    "dataset_path = \"E:/_datasets/jung_et_al_2024/\"  # Data should not be shared publicly.\n",
    "df = pd.read_excel(dataset_path+\"0-overall-level3.xlsx\", header=0)\n",
    "\n",
    "cls = 'Level3'\n",
    "df = df.loc[:, ['predwbs2', 'predwbs', 'predtask', 'wbs2', 'wbs', 'name', 'sucwbs2', 'sucwbs', 'suctask', cls]]"
   ]
  },
  {
   "cell_type": "code",
   "execution_count": 7,
   "metadata": {},
   "outputs": [
    {
     "name": "stdout",
     "output_type": "stream",
     "text": [
      "text:  CONSTRUCTION SUPERSTRUCTURE > Roof > Set Mechanical Equipment [pred] CONSTRUCTION SUPERSTRUCTURE > Roof > Pipe Mechanical Equipment [succ]  100 KINGSHIGHWAY > COMMISSIONNG & INSPECTIONS > STARTUP\n",
      "label:  D2040\n"
     ]
    }
   ],
   "source": [
    "new_tokens = ['[pred]', '[succ]']\n",
    "\n",
    "df['text'] = df.apply(\n",
    "    lambda row: f\"{row['predwbs2']} > {row['predwbs']} > {row['predtask']} [pred] {row['wbs2']} > {row['wbs']} > {row['name']} [succ] {row['sucwbs2']} > {row['sucwbs']} > {row['suctask']}\",\n",
    "    axis=1\n",
    ")\n",
    "df['label'] = df[cls]\n",
    "label_cnt = df['label'].value_counts()\n",
    "\n",
    "print_idx = 6538  # D2040: 'Rain Water Drainage' case in Table 4\n",
    "print('text: ', df['text'][print_idx])\n",
    "print('label: ', df['label'][print_idx])"
   ]
  },
  {
   "cell_type": "code",
   "execution_count": 8,
   "metadata": {},
   "outputs": [
    {
     "data": {
      "text/plain": [
       "(20469, 6823, 6824)"
      ]
     },
     "execution_count": 8,
     "metadata": {},
     "output_type": "execute_result"
    }
   ],
   "source": [
    "from sklearn.model_selection import train_test_split\n",
    "\n",
    "texts = df['text']\n",
    "labels = df['label']\n",
    "\n",
    "# 6p: \"This dataset is further split into training, validation, and testing using a 60-20-20 distribution.\"\n",
    "train_texts, temp_texts, train_labels, temp_labels = train_test_split(\n",
    "    texts, labels, test_size=0.4, random_state=rseed)\n",
    "validation_texts, test_texts, validation_labels, test_labels = train_test_split(\n",
    "    temp_texts, temp_labels, test_size=0.5, random_state=rseed)\n",
    "\n",
    "(len(train_texts), len(validation_texts), len(test_texts))"
   ]
  },
  {
   "cell_type": "markdown",
   "metadata": {},
   "source": [
    "#### ★ Additional Experiment: What if we simply duplicate scarce data for data balancing?"
   ]
  },
  {
   "cell_type": "code",
   "execution_count": 9,
   "metadata": {},
   "outputs": [],
   "source": [
    "if experiment_setting['simple_balancing']:\n",
    "    label_counts = train_labels.value_counts()\n",
    "\n",
    "    # Set the frequency of the most frequent label as the target for all labels\n",
    "    max_count = label_counts.max()\n",
    "\n",
    "    train_texts_balanced = []\n",
    "    train_labels_balanced = []\n",
    "    for label, count in label_counts.items():\n",
    "        # Calculate how many times to duplicate based on the target frequency\n",
    "        factor = max_count // count\n",
    "        remainder = max_count % count\n",
    "        \n",
    "        # Select texts corresponding to the current label\n",
    "        texts_of_label = train_texts[train_labels == label]\n",
    "        \n",
    "        # Duplicate texts to match the target frequency\n",
    "        for _ in range(factor):\n",
    "            train_texts_balanced.extend(texts_of_label)\n",
    "            train_labels_balanced.extend([label] * len(texts_of_label))\n",
    "        \n",
    "        if remainder > 0:\n",
    "            train_texts_balanced.extend(texts_of_label[:remainder])\n",
    "            train_labels_balanced.extend([label] * remainder)\n",
    "\n",
    "    train_texts = pd.Series(train_texts_balanced)\n",
    "    train_labels = pd.Series(train_labels_balanced)\n",
    "\n",
    "    # Data should not be shared publicly.\n",
    "    pd.DataFrame({'text': train_texts, 'label': train_labels}).to_csv(dataset_path+f\"/train_data_balanced_{experiment_name}.csv\", index=False)\n",
    "    print(train_labels.value_counts().head())"
   ]
  },
  {
   "cell_type": "markdown",
   "metadata": {},
   "source": [
    "#### Label Encoding"
   ]
  },
  {
   "cell_type": "code",
   "execution_count": 10,
   "metadata": {},
   "outputs": [],
   "source": [
    "from sklearn.preprocessing import LabelEncoder\n",
    "\n",
    "label_encoder = LabelEncoder()\n",
    "label_encoder.fit(labels)\n",
    "\n",
    "train_labels_encoded = label_encoder.transform(train_labels)\n",
    "validation_labels_encoded = label_encoder.transform(validation_labels)\n",
    "test_labels_encoded = label_encoder.transform(test_labels)"
   ]
  },
  {
   "cell_type": "markdown",
   "metadata": {},
   "source": [
    "#### Text Encoding"
   ]
  },
  {
   "cell_type": "code",
   "execution_count": 11,
   "metadata": {},
   "outputs": [
    {
     "name": "stderr",
     "output_type": "stream",
     "text": [
      "Some weights of BertForSequenceClassification were not initialized from the model checkpoint at bert-base-uncased and are newly initialized: ['classifier.bias', 'classifier.weight']\n",
      "You should probably TRAIN this model on a down-stream task to be able to use it for predictions and inference.\n"
     ]
    },
    {
     "data": {
      "text/plain": [
       "(BertTokenizer(name_or_path='bert-base-uncased', vocab_size=30522, model_max_length=512, is_fast=False, padding_side='right', truncation_side='right', special_tokens={'unk_token': '[UNK]', 'sep_token': '[SEP]', 'pad_token': '[PAD]', 'cls_token': '[CLS]', 'mask_token': '[MASK]'}, clean_up_tokenization_spaces=True),  added_tokens_decoder={\n",
       " \t0: AddedToken(\"[PAD]\", rstrip=False, lstrip=False, single_word=False, normalized=False, special=True),\n",
       " \t100: AddedToken(\"[UNK]\", rstrip=False, lstrip=False, single_word=False, normalized=False, special=True),\n",
       " \t101: AddedToken(\"[CLS]\", rstrip=False, lstrip=False, single_word=False, normalized=False, special=True),\n",
       " \t102: AddedToken(\"[SEP]\", rstrip=False, lstrip=False, single_word=False, normalized=False, special=True),\n",
       " \t103: AddedToken(\"[MASK]\", rstrip=False, lstrip=False, single_word=False, normalized=False, special=True),\n",
       " \t30522: AddedToken(\"[pred]\", rstrip=False, lstrip=False, single_word=False, normalized=True, special=False),\n",
       " \t30523: AddedToken(\"[succ]\", rstrip=False, lstrip=False, single_word=False, normalized=True, special=False),\n",
       " },\n",
       " BertForSequenceClassification(\n",
       "   (bert): BertModel(\n",
       "     (embeddings): BertEmbeddings(\n",
       "       (word_embeddings): Embedding(30524, 768)\n",
       "       (position_embeddings): Embedding(512, 768)\n",
       "       (token_type_embeddings): Embedding(2, 768)\n",
       "       (LayerNorm): LayerNorm((768,), eps=1e-12, elementwise_affine=True)\n",
       "       (dropout): Dropout(p=0.1, inplace=False)\n",
       "     )\n",
       "     (encoder): BertEncoder(\n",
       "       (layer): ModuleList(\n",
       "         (0-11): 12 x BertLayer(\n",
       "           (attention): BertAttention(\n",
       "             (self): BertSelfAttention(\n",
       "               (query): Linear(in_features=768, out_features=768, bias=True)\n",
       "               (key): Linear(in_features=768, out_features=768, bias=True)\n",
       "               (value): Linear(in_features=768, out_features=768, bias=True)\n",
       "               (dropout): Dropout(p=0.1, inplace=False)\n",
       "             )\n",
       "             (output): BertSelfOutput(\n",
       "               (dense): Linear(in_features=768, out_features=768, bias=True)\n",
       "               (LayerNorm): LayerNorm((768,), eps=1e-12, elementwise_affine=True)\n",
       "               (dropout): Dropout(p=0.1, inplace=False)\n",
       "             )\n",
       "           )\n",
       "           (intermediate): BertIntermediate(\n",
       "             (dense): Linear(in_features=768, out_features=3072, bias=True)\n",
       "             (intermediate_act_fn): GELUActivation()\n",
       "           )\n",
       "           (output): BertOutput(\n",
       "             (dense): Linear(in_features=3072, out_features=768, bias=True)\n",
       "             (LayerNorm): LayerNorm((768,), eps=1e-12, elementwise_affine=True)\n",
       "             (dropout): Dropout(p=0.1, inplace=False)\n",
       "           )\n",
       "         )\n",
       "       )\n",
       "     )\n",
       "     (pooler): BertPooler(\n",
       "       (dense): Linear(in_features=768, out_features=768, bias=True)\n",
       "       (activation): Tanh()\n",
       "     )\n",
       "   )\n",
       "   (dropout): Dropout(p=0.1, inplace=False)\n",
       "   (classifier): Linear(in_features=768, out_features=50, bias=True)\n",
       " ))"
      ]
     },
     "execution_count": 11,
     "metadata": {},
     "output_type": "execute_result"
    }
   ],
   "source": [
    "from transformers import BertTokenizer, BertForSequenceClassification\n",
    "tokenizer = BertTokenizer.from_pretrained('bert-base-uncased')\n",
    "model = BertForSequenceClassification.from_pretrained('bert-base-uncased', num_labels=len(label_encoder.classes_)).to(device)\n",
    "\n",
    "tokenizer.add_tokens(new_tokens)\n",
    "model.resize_token_embeddings(len(tokenizer))\n",
    "\n",
    "tokenizer, model"
   ]
  },
  {
   "cell_type": "markdown",
   "metadata": {},
   "source": [
    "#### Make DataLoader"
   ]
  },
  {
   "cell_type": "code",
   "execution_count": 12,
   "metadata": {},
   "outputs": [
    {
     "data": {
      "text/plain": [
       "(640, 214, 214)"
      ]
     },
     "execution_count": 12,
     "metadata": {},
     "output_type": "execute_result"
    }
   ],
   "source": [
    "from torch.utils.data import TensorDataset, DataLoader\n",
    "\n",
    "def make_dataloader(plain_texts, encoded_labels, batch_size=32):\n",
    "    '''\n",
    "    plain_texts: list of strings (should be encoded when making dataloader due to tokenizer padding/truncation)\n",
    "    encoded_labels: list of class indices (should be encoded beforehand using LabelEncoder with the entire dataset)\n",
    "    '''\n",
    "    texts = tokenizer(plain_texts, padding=True, truncation=True, return_tensors=\"pt\", max_length=512).to(device)\n",
    "    labels = torch.tensor(encoded_labels, dtype=torch.long).to(device)\n",
    "    dataset = TensorDataset(\n",
    "        texts['input_ids'], \n",
    "        texts['attention_mask'], \n",
    "        labels,\n",
    "    )\n",
    "    return DataLoader(dataset, batch_size=batch_size)\n",
    "\n",
    "train_loader = make_dataloader(train_texts.tolist(), train_labels_encoded, batch_size)\n",
    "validation_loader = make_dataloader(validation_texts.tolist(), validation_labels_encoded, batch_size)\n",
    "test_loader = make_dataloader(test_texts.tolist(), test_labels_encoded, batch_size)\n",
    "\n",
    "len(train_loader), len(validation_loader), len(test_loader)"
   ]
  },
  {
   "cell_type": "markdown",
   "metadata": {},
   "source": [
    "#### ★ Additional Datasets: ASTM Uniformat II Classification for Building Elements Description"
   ]
  },
  {
   "cell_type": "code",
   "execution_count": 13,
   "metadata": {},
   "outputs": [
    {
     "data": {
      "text/html": [
       "<div>\n",
       "<style scoped>\n",
       "    .dataframe tbody tr th:only-of-type {\n",
       "        vertical-align: middle;\n",
       "    }\n",
       "\n",
       "    .dataframe tbody tr th {\n",
       "        vertical-align: top;\n",
       "    }\n",
       "\n",
       "    .dataframe thead th {\n",
       "        text-align: right;\n",
       "    }\n",
       "</style>\n",
       "<table border=\"1\" class=\"dataframe\">\n",
       "  <thead>\n",
       "    <tr style=\"text-align: right;\">\n",
       "      <th></th>\n",
       "      <th>Level1</th>\n",
       "      <th>Level2</th>\n",
       "      <th>Level3</th>\n",
       "      <th>Class</th>\n",
       "    </tr>\n",
       "  </thead>\n",
       "  <tbody>\n",
       "    <tr>\n",
       "      <th>0</th>\n",
       "      <td>SUBSTRUCTURE</td>\n",
       "      <td>Foundations</td>\n",
       "      <td>Standard Foundations</td>\n",
       "      <td>A1010</td>\n",
       "    </tr>\n",
       "    <tr>\n",
       "      <th>1</th>\n",
       "      <td>SUBSTRUCTURE</td>\n",
       "      <td>Foundations</td>\n",
       "      <td>Special Foundations</td>\n",
       "      <td>A1020</td>\n",
       "    </tr>\n",
       "    <tr>\n",
       "      <th>2</th>\n",
       "      <td>SUBSTRUCTURE</td>\n",
       "      <td>Foundations</td>\n",
       "      <td>Slab on Grade</td>\n",
       "      <td>A1030</td>\n",
       "    </tr>\n",
       "    <tr>\n",
       "      <th>3</th>\n",
       "      <td>SHELL</td>\n",
       "      <td>Superstructure</td>\n",
       "      <td>Floor Construction</td>\n",
       "      <td>B1010</td>\n",
       "    </tr>\n",
       "    <tr>\n",
       "      <th>4</th>\n",
       "      <td>SHELL</td>\n",
       "      <td>Superstructure</td>\n",
       "      <td>Roof Construction</td>\n",
       "      <td>B1020</td>\n",
       "    </tr>\n",
       "    <tr>\n",
       "      <th>5</th>\n",
       "      <td>SHELL</td>\n",
       "      <td>Exterior Enclosure</td>\n",
       "      <td>Exterior Walls</td>\n",
       "      <td>B2010</td>\n",
       "    </tr>\n",
       "    <tr>\n",
       "      <th>6</th>\n",
       "      <td>SHELL</td>\n",
       "      <td>Exterior Enclosure</td>\n",
       "      <td>Exterior Windows</td>\n",
       "      <td>B2020</td>\n",
       "    </tr>\n",
       "    <tr>\n",
       "      <th>7</th>\n",
       "      <td>SHELL</td>\n",
       "      <td>Exterior Enclosure</td>\n",
       "      <td>Exterior Doors</td>\n",
       "      <td>B2030</td>\n",
       "    </tr>\n",
       "    <tr>\n",
       "      <th>8</th>\n",
       "      <td>SHELL</td>\n",
       "      <td>Roofing</td>\n",
       "      <td>Roof Coverings</td>\n",
       "      <td>B3010</td>\n",
       "    </tr>\n",
       "    <tr>\n",
       "      <th>9</th>\n",
       "      <td>SHELL</td>\n",
       "      <td>Roofing</td>\n",
       "      <td>Roof Openings</td>\n",
       "      <td>B3020</td>\n",
       "    </tr>\n",
       "    <tr>\n",
       "      <th>10</th>\n",
       "      <td>INTERIORS</td>\n",
       "      <td>Interior Construction</td>\n",
       "      <td>Partitions</td>\n",
       "      <td>C1010</td>\n",
       "    </tr>\n",
       "    <tr>\n",
       "      <th>11</th>\n",
       "      <td>INTERIORS</td>\n",
       "      <td>Interior Construction</td>\n",
       "      <td>Interior Doors</td>\n",
       "      <td>C1020</td>\n",
       "    </tr>\n",
       "    <tr>\n",
       "      <th>12</th>\n",
       "      <td>INTERIORS</td>\n",
       "      <td>Interior Construction</td>\n",
       "      <td>Fittings</td>\n",
       "      <td>C1030</td>\n",
       "    </tr>\n",
       "    <tr>\n",
       "      <th>13</th>\n",
       "      <td>INTERIORS</td>\n",
       "      <td>Stairs</td>\n",
       "      <td>Stair Construction</td>\n",
       "      <td>C2010</td>\n",
       "    </tr>\n",
       "    <tr>\n",
       "      <th>14</th>\n",
       "      <td>INTERIORS</td>\n",
       "      <td>Stairs</td>\n",
       "      <td>Stair Finishes</td>\n",
       "      <td>C2020</td>\n",
       "    </tr>\n",
       "    <tr>\n",
       "      <th>15</th>\n",
       "      <td>INTERIORS</td>\n",
       "      <td>Interior Finishes</td>\n",
       "      <td>Wall Finishes</td>\n",
       "      <td>C3010</td>\n",
       "    </tr>\n",
       "    <tr>\n",
       "      <th>16</th>\n",
       "      <td>INTERIORS</td>\n",
       "      <td>Interior Finishes</td>\n",
       "      <td>Floor Finishes</td>\n",
       "      <td>C3020</td>\n",
       "    </tr>\n",
       "    <tr>\n",
       "      <th>17</th>\n",
       "      <td>INTERIORS</td>\n",
       "      <td>Interior Finishes</td>\n",
       "      <td>Ceiling Finishes</td>\n",
       "      <td>C3030</td>\n",
       "    </tr>\n",
       "    <tr>\n",
       "      <th>18</th>\n",
       "      <td>SERVICES</td>\n",
       "      <td>Conveying</td>\n",
       "      <td>Elevators &amp; Lifts</td>\n",
       "      <td>D1010</td>\n",
       "    </tr>\n",
       "    <tr>\n",
       "      <th>19</th>\n",
       "      <td>SERVICES</td>\n",
       "      <td>Conveying</td>\n",
       "      <td>Escalators &amp; Moving Walks</td>\n",
       "      <td>D1020</td>\n",
       "    </tr>\n",
       "    <tr>\n",
       "      <th>20</th>\n",
       "      <td>SERVICES</td>\n",
       "      <td>Conveying</td>\n",
       "      <td>Other Conveying Systems</td>\n",
       "      <td>D1090</td>\n",
       "    </tr>\n",
       "    <tr>\n",
       "      <th>21</th>\n",
       "      <td>SERVICES</td>\n",
       "      <td>Plumbing</td>\n",
       "      <td>Plumbing Fixtures</td>\n",
       "      <td>D2010</td>\n",
       "    </tr>\n",
       "    <tr>\n",
       "      <th>22</th>\n",
       "      <td>SERVICES</td>\n",
       "      <td>Plumbing</td>\n",
       "      <td>Domestic Water Distribution</td>\n",
       "      <td>D2020</td>\n",
       "    </tr>\n",
       "    <tr>\n",
       "      <th>23</th>\n",
       "      <td>SERVICES</td>\n",
       "      <td>Plumbing</td>\n",
       "      <td>Sanitary Waste</td>\n",
       "      <td>D2030</td>\n",
       "    </tr>\n",
       "    <tr>\n",
       "      <th>24</th>\n",
       "      <td>SERVICES</td>\n",
       "      <td>Plumbing</td>\n",
       "      <td>Rain Water Drainage</td>\n",
       "      <td>D2040</td>\n",
       "    </tr>\n",
       "    <tr>\n",
       "      <th>25</th>\n",
       "      <td>SERVICES</td>\n",
       "      <td>Plumbing</td>\n",
       "      <td>Other Plumbing Systems</td>\n",
       "      <td>D2090</td>\n",
       "    </tr>\n",
       "    <tr>\n",
       "      <th>26</th>\n",
       "      <td>SERVICES</td>\n",
       "      <td>HVAC</td>\n",
       "      <td>Energy Supply</td>\n",
       "      <td>D3010</td>\n",
       "    </tr>\n",
       "    <tr>\n",
       "      <th>27</th>\n",
       "      <td>SERVICES</td>\n",
       "      <td>HVAC</td>\n",
       "      <td>Heat Generating Systems</td>\n",
       "      <td>D3020</td>\n",
       "    </tr>\n",
       "    <tr>\n",
       "      <th>28</th>\n",
       "      <td>SERVICES</td>\n",
       "      <td>HVAC</td>\n",
       "      <td>Cooling Generating Systems</td>\n",
       "      <td>D3030</td>\n",
       "    </tr>\n",
       "    <tr>\n",
       "      <th>29</th>\n",
       "      <td>SERVICES</td>\n",
       "      <td>HVAC</td>\n",
       "      <td>Distribution Systems</td>\n",
       "      <td>D3040</td>\n",
       "    </tr>\n",
       "    <tr>\n",
       "      <th>30</th>\n",
       "      <td>SERVICES</td>\n",
       "      <td>HVAC</td>\n",
       "      <td>Terminal &amp; Package Units</td>\n",
       "      <td>D3050</td>\n",
       "    </tr>\n",
       "    <tr>\n",
       "      <th>31</th>\n",
       "      <td>SERVICES</td>\n",
       "      <td>HVAC</td>\n",
       "      <td>Controls &amp; Instrumentation</td>\n",
       "      <td>D3060</td>\n",
       "    </tr>\n",
       "    <tr>\n",
       "      <th>32</th>\n",
       "      <td>SERVICES</td>\n",
       "      <td>HVAC</td>\n",
       "      <td>Systems Testing &amp; Balancing</td>\n",
       "      <td>D3070</td>\n",
       "    </tr>\n",
       "    <tr>\n",
       "      <th>33</th>\n",
       "      <td>SERVICES</td>\n",
       "      <td>HVAC</td>\n",
       "      <td>Other HVAC Systems &amp; Equipment</td>\n",
       "      <td>D3090</td>\n",
       "    </tr>\n",
       "    <tr>\n",
       "      <th>34</th>\n",
       "      <td>SERVICES</td>\n",
       "      <td>Fire Protection</td>\n",
       "      <td>Sprinklers</td>\n",
       "      <td>D4010</td>\n",
       "    </tr>\n",
       "    <tr>\n",
       "      <th>35</th>\n",
       "      <td>SERVICES</td>\n",
       "      <td>Fire Protection</td>\n",
       "      <td>Standpipes</td>\n",
       "      <td>D4020</td>\n",
       "    </tr>\n",
       "    <tr>\n",
       "      <th>36</th>\n",
       "      <td>SERVICES</td>\n",
       "      <td>Fire Protection</td>\n",
       "      <td>Fire Protection Specialties</td>\n",
       "      <td>D4030</td>\n",
       "    </tr>\n",
       "    <tr>\n",
       "      <th>37</th>\n",
       "      <td>SERVICES</td>\n",
       "      <td>Fire Protection</td>\n",
       "      <td>Other Fire Protection Systems</td>\n",
       "      <td>D4090</td>\n",
       "    </tr>\n",
       "    <tr>\n",
       "      <th>38</th>\n",
       "      <td>SERVICES</td>\n",
       "      <td>Electrical</td>\n",
       "      <td>Electrical Service &amp; Distribution</td>\n",
       "      <td>D5010</td>\n",
       "    </tr>\n",
       "    <tr>\n",
       "      <th>39</th>\n",
       "      <td>SERVICES</td>\n",
       "      <td>Electrical</td>\n",
       "      <td>Lighting and Branch Wiring</td>\n",
       "      <td>D5020</td>\n",
       "    </tr>\n",
       "    <tr>\n",
       "      <th>40</th>\n",
       "      <td>SERVICES</td>\n",
       "      <td>Electrical</td>\n",
       "      <td>Communications &amp; Security</td>\n",
       "      <td>D5030</td>\n",
       "    </tr>\n",
       "    <tr>\n",
       "      <th>41</th>\n",
       "      <td>SERVICES</td>\n",
       "      <td>Electrical</td>\n",
       "      <td>Other Electrical Systems</td>\n",
       "      <td>D5090</td>\n",
       "    </tr>\n",
       "    <tr>\n",
       "      <th>42</th>\n",
       "      <td>EQUIPMENT &amp; FURNISHINGS</td>\n",
       "      <td>Equipment</td>\n",
       "      <td>Commercial Equipment</td>\n",
       "      <td>E1010</td>\n",
       "    </tr>\n",
       "    <tr>\n",
       "      <th>43</th>\n",
       "      <td>EQUIPMENT &amp; FURNISHINGS</td>\n",
       "      <td>Equipment</td>\n",
       "      <td>Institutional Equipment</td>\n",
       "      <td>E1020</td>\n",
       "    </tr>\n",
       "    <tr>\n",
       "      <th>44</th>\n",
       "      <td>EQUIPMENT &amp; FURNISHINGS</td>\n",
       "      <td>Equipment</td>\n",
       "      <td>Vehicular Equipment</td>\n",
       "      <td>E1030</td>\n",
       "    </tr>\n",
       "    <tr>\n",
       "      <th>45</th>\n",
       "      <td>EQUIPMENT &amp; FURNISHINGS</td>\n",
       "      <td>Equipment</td>\n",
       "      <td>Other Equipment</td>\n",
       "      <td>E1090</td>\n",
       "    </tr>\n",
       "    <tr>\n",
       "      <th>46</th>\n",
       "      <td>EQUIPMENT &amp; FURNISHINGS</td>\n",
       "      <td>Furnishings</td>\n",
       "      <td>Fixed Furnishings</td>\n",
       "      <td>E2010</td>\n",
       "    </tr>\n",
       "    <tr>\n",
       "      <th>47</th>\n",
       "      <td>EQUIPMENT &amp; FURNISHINGS</td>\n",
       "      <td>Furnishings</td>\n",
       "      <td>Movable Furnishings</td>\n",
       "      <td>E2020</td>\n",
       "    </tr>\n",
       "  </tbody>\n",
       "</table>\n",
       "</div>"
      ],
      "text/plain": [
       "                     Level1                 Level2  \\\n",
       "0              SUBSTRUCTURE            Foundations   \n",
       "1              SUBSTRUCTURE            Foundations   \n",
       "2              SUBSTRUCTURE            Foundations   \n",
       "3                     SHELL         Superstructure   \n",
       "4                     SHELL         Superstructure   \n",
       "5                     SHELL     Exterior Enclosure   \n",
       "6                     SHELL     Exterior Enclosure   \n",
       "7                     SHELL     Exterior Enclosure   \n",
       "8                     SHELL                Roofing   \n",
       "9                     SHELL                Roofing   \n",
       "10                INTERIORS  Interior Construction   \n",
       "11                INTERIORS  Interior Construction   \n",
       "12                INTERIORS  Interior Construction   \n",
       "13                INTERIORS                 Stairs   \n",
       "14                INTERIORS                 Stairs   \n",
       "15                INTERIORS     Interior Finishes    \n",
       "16                INTERIORS      Interior Finishes   \n",
       "17                INTERIORS      Interior Finishes   \n",
       "18                 SERVICES              Conveying   \n",
       "19                 SERVICES              Conveying   \n",
       "20                 SERVICES              Conveying   \n",
       "21                 SERVICES               Plumbing   \n",
       "22                 SERVICES               Plumbing   \n",
       "23                 SERVICES               Plumbing   \n",
       "24                 SERVICES               Plumbing   \n",
       "25                 SERVICES               Plumbing   \n",
       "26                 SERVICES                   HVAC   \n",
       "27                 SERVICES                   HVAC   \n",
       "28                 SERVICES                   HVAC   \n",
       "29                 SERVICES                   HVAC   \n",
       "30                 SERVICES                   HVAC   \n",
       "31                 SERVICES                   HVAC   \n",
       "32                 SERVICES                   HVAC   \n",
       "33                 SERVICES                   HVAC   \n",
       "34                 SERVICES        Fire Protection   \n",
       "35                 SERVICES        Fire Protection   \n",
       "36                 SERVICES        Fire Protection   \n",
       "37                 SERVICES        Fire Protection   \n",
       "38                 SERVICES             Electrical   \n",
       "39                 SERVICES             Electrical   \n",
       "40                 SERVICES             Electrical   \n",
       "41                 SERVICES             Electrical   \n",
       "42  EQUIPMENT & FURNISHINGS              Equipment   \n",
       "43  EQUIPMENT & FURNISHINGS              Equipment   \n",
       "44  EQUIPMENT & FURNISHINGS              Equipment   \n",
       "45  EQUIPMENT & FURNISHINGS              Equipment   \n",
       "46  EQUIPMENT & FURNISHINGS            Furnishings   \n",
       "47  EQUIPMENT & FURNISHINGS            Furnishings   \n",
       "\n",
       "                               Level3  Class  \n",
       "0                Standard Foundations  A1010  \n",
       "1                 Special Foundations  A1020  \n",
       "2                       Slab on Grade  A1030  \n",
       "3                  Floor Construction  B1010  \n",
       "4                   Roof Construction  B1020  \n",
       "5                      Exterior Walls  B2010  \n",
       "6                    Exterior Windows  B2020  \n",
       "7                      Exterior Doors  B2030  \n",
       "8                      Roof Coverings  B3010  \n",
       "9                       Roof Openings  B3020  \n",
       "10                         Partitions  C1010  \n",
       "11                     Interior Doors  C1020  \n",
       "12                           Fittings  C1030  \n",
       "13                 Stair Construction  C2010  \n",
       "14                     Stair Finishes  C2020  \n",
       "15                      Wall Finishes  C3010  \n",
       "16                     Floor Finishes  C3020  \n",
       "17                   Ceiling Finishes  C3030  \n",
       "18                  Elevators & Lifts  D1010  \n",
       "19          Escalators & Moving Walks  D1020  \n",
       "20            Other Conveying Systems  D1090  \n",
       "21                  Plumbing Fixtures  D2010  \n",
       "22        Domestic Water Distribution  D2020  \n",
       "23                     Sanitary Waste  D2030  \n",
       "24                Rain Water Drainage  D2040  \n",
       "25             Other Plumbing Systems  D2090  \n",
       "26                      Energy Supply  D3010  \n",
       "27            Heat Generating Systems  D3020  \n",
       "28         Cooling Generating Systems  D3030  \n",
       "29               Distribution Systems  D3040  \n",
       "30           Terminal & Package Units  D3050  \n",
       "31         Controls & Instrumentation  D3060  \n",
       "32        Systems Testing & Balancing  D3070  \n",
       "33     Other HVAC Systems & Equipment  D3090  \n",
       "34                         Sprinklers  D4010  \n",
       "35                         Standpipes  D4020  \n",
       "36        Fire Protection Specialties  D4030  \n",
       "37      Other Fire Protection Systems  D4090  \n",
       "38  Electrical Service & Distribution  D5010  \n",
       "39         Lighting and Branch Wiring  D5020  \n",
       "40          Communications & Security  D5030  \n",
       "41           Other Electrical Systems  D5090  \n",
       "42               Commercial Equipment  E1010  \n",
       "43            Institutional Equipment  E1020  \n",
       "44                Vehicular Equipment  E1030  \n",
       "45                    Other Equipment  E1090  \n",
       "46                  Fixed Furnishings  E2010  \n",
       "47                Movable Furnishings  E2020  "
      ]
     },
     "execution_count": 13,
     "metadata": {},
     "output_type": "execute_result"
    }
   ],
   "source": [
    "import pandas as pd\n",
    "\n",
    "# Publicly available definition of ASTM Uniformat II\n",
    "# https://www.govinfo.gov/content/pkg/GOVPUB-C13-5af96252bc88826c911daac93c449927/pdf/GOVPUB-C13-5af96252bc88826c911daac93c449927.pdf\n",
    "df_astm = pd.read_csv(\"public_astm_uniformat_ii_classification.csv\", header=0)\n",
    "\n",
    "df_astm = df_astm[df_astm['Class'].isin(label_encoder.classes_)] # Use only the classes that are in the dataset\n",
    "df_astm"
   ]
  },
  {
   "cell_type": "markdown",
   "metadata": {},
   "source": [
    "#### ★ Additional Datasets: Data Augmentation with GPT-2"
   ]
  },
  {
   "cell_type": "code",
   "execution_count": 14,
   "metadata": {},
   "outputs": [
    {
     "data": {
      "text/plain": [
       "[\"Once upon a time, the United States was already a strong contender to compete in World Baseball Classic qualifying, and the team was expected to be the World Baseball Classic's best player for the next few years. However, the team's lack of experience could put it in a precarious position.\\n\\nIn fact, the team's decision to change its name to K-Mart in order to avoid confusion with the name of the new stadium was also a mistake made. The K-Mart name was used only\"]"
      ]
     },
     "execution_count": 14,
     "metadata": {},
     "output_type": "execute_result"
    }
   ],
   "source": [
    "from transformers import GPT2Tokenizer, GPT2LMHeadModel, set_seed\n",
    "\n",
    "set_seed(42)\n",
    "\n",
    "gpt2_tokenizer = GPT2Tokenizer.from_pretrained('gpt2')\n",
    "gpt2_model = GPT2LMHeadModel.from_pretrained('gpt2')\n",
    "\n",
    "def generate_sentences_with_gpt2(prompt_text, max_len=100, num_sentences=20):\n",
    "    inputs = gpt2_tokenizer.encode(prompt_text, return_tensors='pt')\n",
    "    outputs = gpt2_model.generate(\n",
    "        inputs, \n",
    "        pad_token_id=gpt2_tokenizer.eos_token_id, \n",
    "        max_length=max_len, \n",
    "        do_sample=True, temperature=0.7, num_return_sequences=num_sentences,\n",
    "        # repetition_penalty=1.2,\n",
    "    )\n",
    "    if len(outputs) == 1: # Deterministic setting\n",
    "        generated_text = [gpt2_tokenizer.decode(outputs[0], skip_special_tokens=True)] * num_sentences\n",
    "    else:\n",
    "        generated_text = [gpt2_tokenizer.decode(output, skip_special_tokens=True) for output in outputs]\n",
    "\n",
    "    return generated_text\n",
    "\n",
    "generate_sentences_with_gpt2(\"Once upon a time,\", num_sentences=1)"
   ]
  },
  {
   "cell_type": "code",
   "execution_count": 15,
   "metadata": {},
   "outputs": [
    {
     "data": {
      "text/plain": [
       "['SERVICES Plumbing Rain Water Drainage:  1. Water pumps  1.1.1.1.1.1.2. Water pumps are a combination of pumps and pipes which are installed by one entity in a building. The building must use water as a primary source of power, which carries the risk of flooding.  1.1.1.1.2.1.1.1.1.2.1.3',\n",
       " 'SERVICES Plumbing Rain Water Drainage shown in Figures 1-5. Figure 1. Building structure components for services of water and sewer systems. (a) A concrete structure is shown in Figures 1-3 and Figure 1-4. It is in the form of a concrete structure with a central block with a single, central, and horizontal section. (b) A concrete structure is shown in Figures 1-2 and Figure 1-3. It is in the',\n",
       " 'SERVICES Plumbing Rain Water Drainage:  The structure will have a wide gap between the two walls, and the roof will be curved up to make it easier to cut through the gaps.  The interior will be made of polyethylene, and the inside will be made of polypropylene.  The roof will be made of a polyethylene material, which is watertight and easy to clean.  The roof will be made of',\n",
       " \"SERVICES Plumbing Rain Water Drainage given in the figure.  The following table compares the amount of water being pumped by the individual system.  Each system's system has its own water pump.  Figure 1. Water pumping system  The diagram shows how each system makes its way through the system and from top to bottom.  There are four types of water pumps available. Each system has its own water pump.  Fluid\",\n",
       " 'SERVICES Plumbing Rain Water Drainage as follows:  Building of a roof of a roof-mounted structure with a roof-mounted structure or any combination thereof:  Building of a roof of a roof-mounted structure or any combination thereof:  Building of an emergency spill control system  Building of a roof of a roof-mounted structure  Building of a roof of a roof-mounted structure  Building of a roof of a roof-',\n",
       " 'SERVICES Plumbing Rain Water Drainage: a) water-treatment plant, b) water treatment plants, c) water-treatment plants of a plant type: a) a plumbing plant as used in this context.  b) a water treatment plant as used in this context. c) a sewage system in this context.  The following table lists the components of a water treatment plant as shown in Figure 1.  Figure 1. Components of a',\n",
       " 'SERVICES Plumbing Rain Water Drainage listed below.  Livestock Feeding Systems  An animal feeding system is an organic system that provides animal feed and water to the animal for use in the day to day operation of the system. The feed system uses chemicals to convert animal food, urine to water, fertilizers to produce hormones, and water to produce energy.  For a detailed description of the basic feeding system, click here.  ',\n",
       " 'SERVICES Plumbing Rain Water Drainage listed below.  Rigid or non-rigid structure components include:  A sink, a sink block, a sink pipe, and some other receptacles for the water supply.   A sink block including a sink pipe, a sink block block, a sink pipe, and some other receptacles for the water supply. A toilet or shower stall.   A vent or shower stall.   A',\n",
       " 'SERVICES Plumbing Rain Water Drainage those with an attached water pump or supply system. For example, a drywall component may be a drywall device that uses a water pump as the primary source of water.  In addition, a drywall component may include a flood control system, water treatment plant, or other means of preventing water from entering a building, including a flood control system and a drainage system.  A drywall component includes a flood control',\n",
       " 'SERVICES Plumbing Rain Water Drainage in the following examples:  The common term \"buildings-to-towers\" refers to the structure that is built on the surface of the water surface. For example, a building that is designed to be used as a water storage or storage facility.  Examples of building structure components for services of wastewater and water drainage are in the following examples:  The common term \"buildings-to-towers',\n",
       " 'SERVICES Plumbing Rain Water Drainage shown in the Table S4.  (1) In general, the two forms of plumbing and rain water drainage are related. In the first form, all plumbing and rain water drainage comprises of a water supply system. The water supply system comprises a supply line, which is a pipe with a lead-to-lead conduit or a water pipe with a lead-to-lead conduit. In the second form, the water',\n",
       " 'SERVICES Plumbing Rain Water Drainage as follows:  A water pump is a unit that is attached to a building or structure and uses electricity to pump water (such as a water pump on a building or structure like a telephone pole) in which the water supply is transmitted to an electric generator (such as a power source).  A water pump is a unit that is attached to a building or structure and uses electricity to pump water (such as a water',\n",
       " 'SERVICES Plumbing Rain Water Drainage:  Laundry and laundry services.  Renters and renters.  Shelters and utilities.  Flooding and rainfall management.  Water quality management.  Cleaning and remediation.  In addition, the first-class facilities are constructed using materials for personal use and for the environment.  The roofing and exterior walls of the building are not manufactured for',\n",
       " 'SERVICES Plumbing Rain Water Drainage described in the following table:  Plunder Size Cm/cm Length Cm/cm Cm/cm Length Cm/cm Cm/cm Cm/cm Cm/cm Cm/cm Cm/cm Cm/cm Cm/cm Cm/cm Cm/cm Cm/cm Cm/cm Cm/cm Cm/cm Cm/cm',\n",
       " 'SERVICES Plumbing Rain Water Drainage:  Water system components  Water pipes  Water piping  Water treatment systems  Water treatment plants  Water treatment plants include the following:  Water treatment plants include water treatment plants that provide the following:  Water treatment plants include water treatment plants that provide the following:  Water treatment plants include water treatment plants that provide the following:  Water treatment plants include water treatment plants that provide',\n",
       " 'SERVICES Plumbing Rain Water Drainage included in the technical description of the system, which is available at the end of this document.  Construction of the system  The system consists of two sections, one of which is shown in the diagram below.  The first of these sections, shown at the top, is for the main system, and the second section, shown at the bottom, is for the second phase of the system. For the system shown',\n",
       " 'SERVICES Plumbing Rain Water Drainage described below.  Designing a Water Supply  The key to building a water supply, other than the basic principles of construction, is to design a construction-specific device. The most common design for such a device is the one that uses a water pump or generator to carry the water until the water is discharged.  Materials and Equipment  There are a number of materials that can be used for building a water',\n",
       " 'SERVICES Plumbing Rain Water Drainage:  Sailing: Buildings for the sailing system can be built on top of the mooring system. The roof can be built on top of the mooring, and the water can be removed from the roof.  Buildings for the sailing system can be built on top of the mooring, and the water can be removed from the roof. Building material: Sailing material is the',\n",
       " 'SERVICES Plumbing Rain Water Drainage discussed in the following sections.  Construction of a building  In construction, the elements of the building are to be constructed of an intermediate type such as a single piece of wood or a multi-piece box. In other words, the building will include a large number of components, and the construction will be done with light and heavy materials, such as steel, wood, and concrete.  Construction of a building is',\n",
       " 'SERVICES Plumbing Rain Water Drainage as follows:  The first step of an arrangement is to include the following elements:  The primary and secondary elements  The main and secondary elements  The main and secondary element  The main and secondary element  The main and secondary element  The main and secondary element  The main and secondary element  The main and secondary element  The main and secondary element  The main and']"
      ]
     },
     "execution_count": 15,
     "metadata": {},
     "output_type": "execute_result"
    }
   ],
   "source": [
    "def generate_with_gpt2_for_astm(level1, level2, level3):\n",
    "\n",
    "    prompt = f\"Examples of building structure components for {level1.lower()} of {level2.lower()} and {level3.lower()} are\"\n",
    "    \n",
    "    sentences = []\n",
    "    for sentence in generate_sentences_with_gpt2(prompt):\n",
    "        sentence = sentence[len(prompt):]\n",
    "        for remove_char in ['\\n']: #, '.', '•', '·']:\n",
    "            sentence = sentence.replace(remove_char, ' ')\n",
    "        sentence = level1 + \" \" + level2 + \" \" + level3 + sentence\n",
    "        sentences.append(sentence)\n",
    "    return sentences\n",
    "\n",
    "generate_with_gpt2_for_astm(\"SERVICES\", \"Plumbing\", \"Rain Water Drainage\")  # D2040 in ASTM Uniformat"
   ]
  },
  {
   "cell_type": "code",
   "execution_count": 16,
   "metadata": {},
   "outputs": [
    {
     "data": {
      "text/plain": [
       "640"
      ]
     },
     "execution_count": 16,
     "metadata": {},
     "output_type": "execute_result"
    }
   ],
   "source": [
    "if experiment_setting['gpt2_balancing']:\n",
    "\n",
    "    from tqdm import tqdm\n",
    "    gpt2_texts = []\n",
    "    gpt2_labels = []\n",
    "    for _, row in tqdm(df_astm.iterrows(), total=df_astm.shape[0]):\n",
    "        sentences = generate_with_gpt2_for_astm(row['Level1'], row['Level2'], row['Level3'])\n",
    "        for sentence in sentences:\n",
    "            gpt2_texts.append(sentence)\n",
    "            gpt2_labels.append(row['Class'])\n",
    "    generated_df = pd.DataFrame({'text': gpt2_texts, 'label': gpt2_labels})\n",
    "    generated_df.to_csv(dataset_path+f\"/gpt2_data_{experiment_name}.csv\", index=False)\n",
    "\n",
    "    import itertools\n",
    "    train_loader = make_dataloader(\n",
    "        list(itertools.chain(\n",
    "            train_texts,\n",
    "            gpt2_texts,\n",
    "        )),\n",
    "        list(itertools.chain(\n",
    "            train_labels_encoded,\n",
    "            label_encoder.transform(gpt2_labels),\n",
    "        )),\n",
    "        batch_size\n",
    "    )\n",
    "\n",
    "len(train_loader)"
   ]
  },
  {
   "cell_type": "markdown",
   "metadata": {},
   "source": [
    "#### ★ Additional Datasets: Data Augmentation with GPT-4"
   ]
  },
  {
   "cell_type": "code",
   "execution_count": 17,
   "metadata": {},
   "outputs": [],
   "source": [
    "gpt4_texts = [\n",
    "    # Real data\n",
    "    # 'CONSTRUCTION SUPERSTRUCTURE > Roof > Set Mechanical Equipment [pred] CONSTRUCTION SUPERSTRUCTURE > Roof > Pipe Mechanical Equipment [succ]  100 KINGSHIGHWAY > COMMISSIONNG & INSPECTIONS > STARTUP',\n",
    "    # 'Garage Garage Structure | MEP FP | Finishes > LL1 > OH Sprinkler Piping Rough In LL1 [pred] Garage Garage Structure | MEP FP | Finishes > LL1 > OH Storm Drainage Piping Rough In LL1 [succ] Garage Garage Structure | MEP FP | Finishes > LL1 > Install Pipe Guards | Bollards LL1',\n",
    "\n",
    "    # Generated with prompt: sample 20 tasks of ASTM Uniformat D2040 'SERVICES Plumbing Rain Water Drainage' in the format of 'predwbs2 > predwbs > predtask [pred] wbs2 > wbs > task [succ] > sucwbs2 > sucwbs > suctask'\n",
    "    'Initiation > Planning > Review Project Scope [pred] SERVICES > Plumbing Rain Water Drainage > Develop Rainwater Drainage Design [succ] > SERVICES > Plumbing Rain Water Drainage > Select Drainage Materials',\n",
    "    'SERVICES > Plumbing Rain Water Drainage > Develop Rainwater Drainage Design [pred] SERVICES > Plumbing Rain Water Drainage > Select Drainage Materials [succ] > SERVICES > Plumbing Rain Water Drainage > Finalize Drainage Design',\n",
    "    'SERVICES > Plumbing Rain Water Drainage > Select Drainage Materials [pred] SERVICES > Plumbing Rain Water Drainage > Finalize Drainage Design [succ] > SERVICES > Plumbing Rain Water Drainage > Obtain Permits',\n",
    "    'SERVICES > Plumbing Rain Water Drainage > Finalize Drainage Design [pred] SERVICES > Plumbing Rain Water Drainage > Obtain Permits [succ] > SERVICES > Plumbing Rain Water Drainage > Prepare Site for Drainage Work',\n",
    "    'SERVICES > Plumbing Rain Water Drainage > Obtain Permits [pred] SERVICES > Plumbing Rain Water Drainage > Prepare Site for Drainage Work [succ] > SERVICES > Plumbing Rain Water Drainage > Install Underground Drainage Piping',\n",
    "    'SERVICES > Plumbing Rain Water Drainage > Prepare Site for Drainage Work [pred] SERVICES > Plumbing Rain Water Drainage > Install Underground Drainage Piping [succ] > SERVICES > Plumbing Rain Water Drainage > Install Drainage Catch Basins',\n",
    "    'SERVICES > Plumbing Rain Water Drainage > Install Underground Drainage Piping [pred] SERVICES > Plumbing Rain Water Drainage > Install Drainage Catch Basins [succ] > SERVICES > Plumbing Rain Water Drainage > Install Roof Gutters and Downspouts',\n",
    "    'SERVICES > Plumbing Rain Water Drainage > Install Drainage Catch Basins [pred] SERVICES > Plumbing Rain Water Drainage > Install Roof Gutters and Downspouts [succ] > SERVICES > Plumbing Rain Water Drainage > Connect to Stormwater System',\n",
    "    'SERVICES > Plumbing Rain Water Drainage > Install Roof Gutters and Downspouts [pred] SERVICES > Plumbing Rain Water Drainage > Connect to Stormwater System [succ] > SERVICES > Plumbing Rain Water Drainage > Backfill and Compact Around Piping',\n",
    "    'SERVICES > Plumbing Rain Water Drainage > Connect to Stormwater System [pred] SERVICES > Plumbing Rain Water Drainage > Backfill and Compact Around Piping [succ] > SERVICES > Plumbing Rain Water Drainage > Waterproofing and Insulation of Piping',\n",
    "    'SERVICES > Plumbing Rain Water Drainage > Backfill and Compact Around Piping [pred] SERVICES > Plumbing Rain Water Drainage > Waterproofing and Insulation of Piping [succ] > SERVICES > Plumbing Rain Water Drainage > Pressure Test Drainage System',\n",
    "    'SERVICES > Plumbing Rain Water Drainage > Waterproofing and Insulation of Piping [pred] SERVICES > Plumbing Rain Water Drainage > Pressure Test Drainage System [succ] > SERVICES > Plumbing Rain Water Drainage > Adjustments and Repairs',\n",
    "    'SERVICES > Plumbing Rain Water Drainage > Pressure Test Drainage System [pred] SERVICES > Plumbing Rain Water Drainage > Adjustments and Repairs [succ] > SERVICES > Plumbing Rain Water Drainage > Landscape Restoration',\n",
    "    'SERVICES > Plumbing Rain Water Drainage > Adjustments and Repairs [pred] SERVICES > Plumbing Rain Water Drainage > Landscape Restoration [succ] > SERVICES > Plumbing Rain Water Drainage > Final Inspection and Approval',\n",
    "    'SERVICES > Plumbing Rain Water Drainage > Landscape Restoration [pred] SERVICES > Plumbing Rain Water Drainage > Final Inspection and Approval [succ] > Project Closeout > Documentation > Compile Project Documentation',\n",
    "    'SERVICES > Plumbing Rain Water Drainage > Final Inspection and Approval [pred] Project Closeout > Documentation > Compile Project Documentation [succ] > Project Closeout > Client Training > Provide Maintenance and Operation Training',\n",
    "    'Project Closeout > Documentation > Compile Project Documentation [pred] Project Closeout > Client Training > Provide Maintenance and Operation Training [succ] > Project Closeout > Warranty > Establish Warranty Period',\n",
    "    'Project Closeout > Client Training > Provide Maintenance and Operation Training [pred] Project Closeout > Warranty > Establish Warranty Period [succ] > Project Closeout > Feedback > Conduct Post-Project Review',\n",
    "    'Project Closeout > Warranty > Establish Warranty Period [pred] Project Closeout > Feedback > Conduct Post-Project Review [succ] > Project Closeout > Feedback > Implement Lessons Learned',\n",
    "    'Project Closeout > Feedback > Conduct Post-Project Review [pred] Project Closeout > Feedback > Implement Lessons Learned [succ] > Project Closeout > Finalization > Release Project Team and Resources',\n",
    "\n",
    "    # sample 20 tasks of ASTM Uniformat D2040 'SERVICES Plumbing Rain Water Drainage' in the format of 'predwbs2 > predwbs > predtask [pred] wbs2 > wbs > task [succ] > sucwbs2 > sucwbs > suctask' including various building construction components.\n",
    "    'Site Preparation > Excavation > Site Clearing [pred] SERVICES > Plumbing Rain Water Drainage > Install Underground Drainage Pipes [succ] > Foundation > Basement Construction > Waterproofing',\n",
    "    'Architectural > Roofing > Install Roof Underlayment [pred] SERVICES > Plumbing Rain Water Drainage > Install Roof Drainage Systems [succ] > Exterior Enclosures > Roof Finishes > Install Gutters and Downspouts',\n",
    "    'Mechanical > HVAC Systems > Ductwork Installation [pred] SERVICES > Plumbing Rain Water Drainage > Connection to HVAC Condensate Drain Lines [succ] > Plumbing > Sanitary Systems > Connect to Sanitary Drainage System',\n",
    "    'Civil > Site Services > Stormwater Management Planning [pred] SERVICES > Plumbing Rain Water Drainage > Design of Rainwater Harvesting System [succ] > Landscaping > Irrigation Systems > Implement Rainwater Harvesting for Irrigation',\n",
    "    'Architectural > External Walls > Install External Cladding [pred] SERVICES > Plumbing Rain Water Drainage > Ensure Proper Wall Flashing for Water Drainage [succ] > Architectural > Paints and Coatings > Apply Exterior Waterproof Coatings',\n",
    "    'Civil > Landscaping > Site Grading for Drainage [pred] SERVICES > Plumbing Rain Water Drainage > Install French Drains [succ] > Landscaping > Hardscaping > Install Drainage Grates in Pavements',\n",
    "    'Utilities > Water Supply Systems > Install Water Mains [pred] SERVICES > Plumbing Rain Water Drainage > Connection to Municipal Storm Sewers [succ] > Utilities > Sewer Systems > Connect to Public Sewer System',\n",
    "    'Architectural > Windows and Doors > Install Windows [pred] SERVICES > Plumbing Rain Water Drainage > Install Window Well Drains [succ] > Architectural > Basement > Waterproof Basement Windows',\n",
    "    'Mechanical > Fire Protection > Sprinkler System Installation [pred] SERVICES > Plumbing Rain Water Drainage > Integrate Sprinkler Drainage [succ] > Plumbing > Drainage Systems > Connect Sprinkler Drainage to Main Drain',\n",
    "    'Structural > Foundations > Pour Concrete Foundations [pred] SERVICES > Plumbing Rain Water Drainage > Install Drainage Mat for Foundation Walls [succ] > Structural > Foundation Finishes > Apply Dampproofing',\n",
    "    'Landscaping > Outdoor Lighting > Install Pathway Lights [pred] SERVICES > Plumbing Rain Water Drainage > Incorporate Drainage in Outdoor Lighting Plan [succ] > Electrical > Exterior Electrical > Provide Drainage for Outdoor Electrical Systems',\n",
    "    'Structural > Columns and Beams > Steel Erection [pred] SERVICES > Plumbing Rain Water Drainage > Ensure Column Bases Drain Properly [succ] > Architectural > Metalwork > Install Metal Flashing at Base of Columns',\n",
    "    'Utilities > Electrical Service > Install Electrical Conduits [pred] SERVICES > Plumbing Rain Water Drainage > Seal Conduits Against Water Entry [succ] > Electrical > Electrical Protection > Install Waterproof Conduit Seals',\n",
    "    'Architectural > Interior Partitions > Erect Partition Walls [pred] SERVICES > Plumbing Rain Water Drainage > Install Internal Drainage Within Partitions [succ] > Interior Finishes > Interior Painting > Paint After Drainage Installation',\n",
    "    'Civil > Parking > Construct Parking Lots [pred] SERVICES > Plumbing Rain Water Drainage > Design Drainage for Parking Areas [succ] > Civil > Pavements > Install Permeable Pavements for Improved Drainage',\n",
    "    'Mechanical > Elevators > Elevator Shaft Construction [pred] SERVICES > Plumbing Rain Water Drainage > Install Drainage in Elevator Pits [succ] > Electrical > Elevator Controls > Waterproof Elevator Control Rooms',\n",
    "    'Utilities > Gas Systems > Gas Line Installation [pred] SERVICES > Plumbing Rain Water Drainage > Integrate Drainage Around Gas Meters [succ] > Utilities > Metering > Waterproof Meter Enclosures',\n",
    "    'Architectural > Insulation > Install Thermal Insulation [pred] SERVICES > Plumbing Rain Water Drainage > Manage Condensation Drainage [succ] > Mechanical > HVAC Systems > Connect Condensation Drains to HVAC',\n",
    "    'Electrical > Lighting > Install Interior Lighting [pred] SERVICES > Plumbing Rain Water Drainage > Plan Drainage for Emergency Exit Lights [succ] > Safety and Security > Emergency Systems > Ensure Water Does Not Obstruct Emergency Exits',\n",
    "    'Landscaping > Planting > Plant Trees and Shrubs [pred] SERVICES > Plumbing Rain Water Drainage > Implement Root Zone Drainage Solutions [succ] > Landscaping > Soil and Vegetation > Apply Soil Amendments for Improved Drainage',\n",
    "\n",
    "    # Prompt: Sample 20 tasks of ASTM Uniformat D2040 'SERVICES Plumbing Rain Water Drainage' in the format of 'predwbs2 > predwbs > predtask [pred] wbs2 > wbs > task [succ] > sucwbs2 > sucwbs > suctask' including various building construction components.\n",
    "    'SITEWORK > Exterior Utilities > Install Underground Drainage Piping [pred] SITEWORK > Exterior Utilities > Backfill & Compact Around Underground Drainage [succ] SERVICES > Plumbing Rain Water Drainage > Test & Inspect Underground Drainage',\n",
    "    'SERVICES > Plumbing Rain Water Drainage > Install Roof Drainage Outlets [pred] CONSTRUCTION SUPERSTRUCTURE > Roof > Connect Roof Drains to Downspouts [succ] SERVICES > Plumbing Rain Water Drainage > Install Downspout Cleanouts',\n",
    "    'CONSTRUCTION SUPERSTRUCTURE > Roof > Install Rainwater Harvesting System [pred] SERVICES > Plumbing Rain Water Drainage > Connect Harvesting System to Storage Tanks [succ] SERVICES > Plumbing Rain Water Drainage > Integrate Rainwater System with Irrigation',\n",
    "    'SERVICES > Plumbing Rain Water Drainage > Layout Underground Storm Drainage Pipes [pred] SITEWORK > Landscaping > Avoid Trees and Roots in Drainage Path [succ] SERVICES > Plumbing Rain Water Drainage > Install Catch Basins and Manholes',\n",
    "    'FOUNDATION > Foundation Drainage > Install Perimeter Drainage System [pred] SERVICES > Plumbing Rain Water Drainage > Connect Downspouts to Perimeter Drainage [succ] SITEWORK > Grading > Ensure Proper Slope for Drainage Away from Foundation',\n",
    "    'SERVICES > Plumbing Rain Water Drainage > Install Sump Pumps in Basements [pred] SERVICES > Plumbing Rain Water Drainage > Connect Sump Pump Discharge to Storm Drain [succ] ELECTRICAL > Power Generation > Provide Backup Power for Sump Pumps',\n",
    "    'CONSTRUCTION SUPERSTRUCTURE > Facades > Install Flashing and Waterproofing [pred] SERVICES > Plumbing Rain Water Drainage > Seal Around Drainage Entry Points [succ] CONSTRUCTION SUPERSTRUCTURE > Exterior Walls > Ensure Water-Tightness of Exterior Joints',\n",
    "    'SERVICES > Plumbing Rain Water Drainage > Design Rainwater Recycling System [pred] MECHANICAL > HVAC > Integrate Rainwater Use for Cooling Towers [succ] SERVICES > Plumbing Rain Water Drainage > Monitor and Control Water Quality for Recycling',\n",
    "    'SERVICES > Plumbing Rain Water Drainage > Install Gutter Guards and Screens [pred] CONSTRUCTION SUPERSTRUCTURE > Roof > Clean and Maintain Roof Drainage Pathways [succ] SERVICES > Plumbing Rain Water Drainage > Schedule Regular Drainage System Inspections',\n",
    "    'SERVICES > Plumbing Rain Water Drainage > Install Overflow Scuppers on Flat Roofs [pred] CONSTRUCTION SUPERSTRUCTURE > Roof > Waterproof Around Scuppers [succ] SERVICES > Plumbing Rain Water Drainage > Test Scupper Performance during Rain',\n",
    "    'INTERIORS > Ceilings > Install Access Panels for Drainage System Maintenance [pred] SERVICES > Plumbing Rain Water Drainage > Route Drainage Pipes Above Ceilings [succ] INTERIORS > Ceilings > Restore Ceiling Finish After Pipe Installation',\n",
    "    'SERVICES > Plumbing Rain Water Drainage > Design Grated Trench Drains for Patios [pred] SITEWORK > Exterior Hardscaping > Install Trench Drains in Concrete [succ] SERVICES > Plumbing Rain Water Drainage > Connect Trench Drains to Stormwater System',\n",
    "    'SERVICES > Plumbing Rain Water Drainage > Implement Green Roof Drainage Layer [pred] CONSTRUCTION SUPERSTRUCTURE > Roof > Plant Vegetation on Green Roof [succ] SERVICES > Plumbing Rain Water Drainage > Ensure Adequate Drainage for Roof Garden',\n",
    "    'SERVICES > Plumbing Rain Water Drainage > Install French Drains Around Walkways [pred] SITEWORK > Landscaping > Grade Land to Direct Water to French Drains [succ] SERVICES > Plumbing Rain Water Drainage > Cover French Drains with Gravel and Landscaping',\n",
    "    'SERVICES > Plumbing Rain Water Drainage > Design Stormwater Detention System [pred] SITEWORK > Site Improvements > Construct Detention Pond [succ] SERVICES > Plumbing Rain Water Drainage > Integrate Detention System with Local Stormwater Infrastructure',\n",
    "    'SERVICES > Plumbing Rain Water Drainage > Specify Water-Resistant Materials for Drainage Channels [pred] PROCUREMENT & CONTRACTING > Material Ordering > Order Drainage Channel Materials [succ] CONSTRUCTION > Exterior Finishes > Install Drainage Channels with Specified Materials',\n",
    "    'SERVICES > Plumbing Rain Water Drainage > Develop Stormwater Pollution Prevention Plan [pred] SITEWORK > Environmental Controls > Implement Erosion and Sediment Controls [succ] SERVICES > Plumbing Rain Water Drainage > Monitor Site for Compliance with Stormwater Regulations',\n",
    "    'SERVICES > Plumbing Rain Water Drainage > Install Backflow Preventers for Drainage Systems [pred] PLUMBING > Water Supply Systems > Protect Potable Water from Contamination [succ] SERVICES > Plumbing Rain Water Drainage > Test Backflow Preventers Annually',\n",
    "    'SERVICES > Plumbing Rain Water Drainage > Design Subsurface Drainage for Athletic Fields [pred] SITEWORK > Recreational Areas > Construct Underdrain System for Fields [succ] SERVICES > Plumbing Rain Water Drainage > Connect Field Drainage to Main Storm Drain',\n",
    "    'SERVICES > Plumbing Rain Water Drainage > Install Downspout Disconnection Devices [pred] ENVIRONMENTAL SYSTEMS > Sustainable Systems > Promote Rainwater Infiltration in Landscaped Areas [succ] SERVICES > Plumbing Rain Water Drainage > Monitor Effectiveness of Disconnection Devices',\n",
    "\n",
    "    'SITE CONSTRUCTION > Site Services > Install Underground Storm Drainage Piping [pred] SERVICES Plumbing Rain Water Drainage > Exterior Systems > Install Catch Basins [succ] SERVICES Plumbing Rain Water Drainage > Exterior Systems > Backfill and Compact Around Drainage',\n",
    "    'FOUNDATION > Basement Construction > Waterproofing [pred] SERVICES Plumbing Rain Water Drainage > Substructure Systems > Install Sump Pumps [succ] SERVICES Plumbing Rain Water Drainage > Substructure Systems > Connect Sump Pump to Exterior Drainage',\n",
    "    'SERVICES Plumbing Rain Water Drainage > Exterior Systems > Install Gutter Systems on Roof [pred] SERVICES Plumbing Rain Water Drainage > Exterior Systems > Connect Gutters to Downspouts [succ] SERVICES Plumbing Rain Water Drainage > Exterior Systems > Install Underground Drainage From Downspouts',\n",
    "    'CONSTRUCTION SUPERSTRUCTURE > Roof > Install Roof Drains [pred] SERVICES Plumbing Rain Water Drainage > Roof Systems > Connect Roof Drains to Internal Drainage System [succ] SERVICES Plumbing Rain Water Drainage > Interior Systems > Install Internal Drainage Pipes Within Walls',\n",
    "    'SERVICES Plumbing Rain Water Drainage > Roof Systems > Install Green Roof Drainage Layer [pred] SERVICES Plumbing Rain Water Drainage > Roof Systems > Install Green Roof Vegetation [succ] SERVICES Plumbing Rain Water Drainage > Roof Systems > Maintenance Access for Green Roof Drainage',\n",
    "    'SERVICES Plumbing Rain Water Drainage > Exterior Systems > Layout Exterior French Drains [pred] SERVICES Plumbing Rain Water Drainage > Exterior Systems > Install Perforated Pipe for French Drains [succ] LANDSCAPING > Exterior > Backfill and Landscape Over French Drains',\n",
    "    'CONSTRUCTION SUPERSTRUCTURE > Facade > Install Downspout Brackets on Exterior Wall [pred] SERVICES Plumbing Rain Water Drainage > Exterior Systems > Install Downspouts [succ] SERVICES Plumbing Rain Water Drainage > Exterior Systems > Connect Downspouts to Stormwater Management System',\n",
    "    'SERVICES Plumbing Rain Water Drainage > Roof Systems > Install Scuppers for Flat Roof [pred] SERVICES Plumbing Rain Water Drainage > Roof Systems > Connect Scuppers to Leader Pipes [succ] SERVICES Plumbing Rain Water Drainage > Exterior Systems > Direct Leader Pipes to Discharge Points',\n",
    "    'FOUNDATION > Basement Construction > Install Basement Drainage Channels [pred] SERVICES Plumbing Rain Water Drainage > Substructure Systems > Connect Basement Drainage to Sump Pit [succ] SERVICES Plumbing Rain Water Drainage > Substructure Systems > Test Basement Drainage System',\n",
    "    'SERVICES Plumbing Rain Water Drainage > Interior Systems > Rough-in for Internal Stormwater Pipes [pred] SERVICES Plumbing Rain Water Drainage > Interior Systems > Install Water Traps for Floor Drains [succ] FINISHES > Interior > Install Final Flooring Over Drainage Access Points',\n",
    "    'SERVICES Plumbing Rain Water Drainage > Roof Systems > Layout Roof Drainage Piping [pred] SERVICES Plumbing Rain Water Drainage > Roof Systems > Insulate Roof Drainage Piping [succ] CONSTRUCTION SUPERSTRUCTURE > Roof > Complete Roof Membrane Installation Around Drainage',\n",
    "    'SERVICES Plumbing Rain Water Drainage > Exterior Systems > Install Stormwater Infiltration System [pred] SERVICES Plumbing Rain Water Drainage > Exterior Systems > Connect Infiltration System to Site Drainage [succ] SITE CONSTRUCTION > Landscaping > Restore Landscape After Infiltration System Installation',\n",
    "    'CONSTRUCTION SUPERSTRUCTURE > Roof > Designate Areas for Rainwater Harvesting Equipment [pred] SERVICES Plumbing Rain Water Drainage > Roof Systems > Install Rainwater Harvesting Filters [succ] SERVICES Plumbing Rain Water Drainage > Exterior Systems > Connect Harvesting System to Storage Tanks',\n",
    "    'SERVICES Plumbing Rain Water Drainage > Substructure Systems > Excavate for Underground Drainage [pred] SERVICES Plumbing Rain Water Drainage > Substructure Systems > Lay Gravel Base for Drainage Pipes [succ] SERVICES Plumbing Rain Water Drainage > Substructure Systems > Install and Cover Underground Drainage Pipes',\n",
    "    'SITE CONSTRUCTION > Utilities > Mark Outfall Locations for Site Drainage [pred] SERVICES Plumbing Rain Water Drainage > Exterior Systems > Install Outfall Structures for Drainage [succ] ENVIRONMENTAL SYSTEMS > Stormwater Management > Construct Wetlands for Outfall Treatment',\n",
    "    'FOUNDATION > Basement Construction > Install Interior Footing Drains [pred] SERVICES Plumbing Rain Water Drainage > Substructure Systems > Connect Footing Drains to Drainage System [succ] SERVICES Plumbing Rain Water Drainage > Substructure Systems > Waterproof and Insulate Exterior of Footing Drains',\n",
    "    'SERVICES Plumbing Rain Water Drainage > Exterior Systems > Install Retention Pond Liners [pred] ENVIRONMENTAL SYSTEMS > Stormwater Management > Construct Retention Pond Embankments [succ] ENVIRONMENTAL SYSTEMS > Landscaping > Plant Native Vegetation Around Retention Pond',\n",
    "    'SERVICES Plumbing Rain Water Drainage > Exterior Systems > Install Oil/Water Separators for Parking Lot Drainage [pred] SERVICES Plumbing Rain Water Drainage > Exterior Systems > Connect Separators to Municipal Storm Sewer [succ] SITE CONSTRUCTION > Paving > Repave Parking Lot After Drainage Installation',\n",
    "    'SERVICES Plumbing Rain Water Drainage > Interior Systems > Install Floor Drains in Utility Rooms [pred] SERVICES Plumbing Rain Water Drainage > Interior Systems > Connect Utility Room Drains to Main Drainage Stack [succ] MECHANICAL SYSTEMS > HVAC > Install HVAC Equipment in Utility Rooms',\n",
    "    'CONSTRUCTION SUPERSTRUCTURE > Exterior Wall Systems > Prepare Penetrations for Exterior Drainage Pipes [pred] SERVICES Plumbing Rain Water Drainage > Exterior Systems > Seal and Insulate Exterior Drainage Pipe Penetrations [succ] FINISHES > Exterior > Complete Exterior Wall Finish Around Drainage Penetrations',\n",
    "\n",
    "    # Prompt: 20 sample tasks of ASTM Uniformat D2040 'SERVICES - Plumbing - Rain Water Drainage' in the format of 'predwbs2 > predwbs > predtask [pred] wbs2 > wbs > task [succ] > sucwbs2 > sucwbs > suctask'\n",
    "    'Site Preparation > Excavation > Prepare site for drainage installation [pred] SERVICES - Plumbing - Rain Water Drainage > Underground Drainage Systems > Install underground drainage pipes [succ] > SERVICES - Plumbing - Rain Water Drainage > Connection to Municipal Systems > Connect to city storm sewer',\n",
    "    'SERVICES - Plumbing - Rain Water Drainage > Underground Drainage Systems > Install underground drainage pipes [pred] SERVICES - Plumbing - Rain Water Drainage > Gutter Systems > Install roof gutters [succ] > SERVICES - Plumbing - Rain Water Drainage > Downspout Systems > Install downspouts',\n",
    "    'SERVICES - Plumbing - Rain Water Drainage > Gutter Systems > Install roof gutters [pred] SERVICES - Plumbing - Rain Water Drainage > Downspout Systems > Install downspouts [succ] > SERVICES - Plumbing - Rain Water Drainage > Water Collection Systems > Install water collection tanks',\n",
    "    'SERVICES - Plumbing - Rain Water Drainage > Downspout Systems > Install downspouts [pred] SERVICES - Plumbing - Rain Water Drainage > Water Collection Systems > Install water collection tanks [succ] > Landscaping > Irrigation Systems > Connect tanks to irrigation systems',\n",
    "    'SERVICES - Plumbing - Rain Water Drainage > Downspout Systems > Install downspouts [pred] SERVICES - Plumbing - Rain Water Drainage > Surface Drainage Systems > Install catch basins [succ] > SERVICES - Plumbing - Rain Water Drainage > Underground Drainage Systems > Connect catch basins to underground drainage',\n",
    "    'SERVICES - Plumbing - Rain Water Drainage > Surface Drainage Systems > Install catch basins [pred] SERVICES - Plumbing - Rain Water Drainage > Underground Drainage Systems > Connect catch basins to underground drainage [succ] > SERVICES - Plumbing - Rain Water Drainage > Connection to Municipal Systems > Connect to city storm sewer',\n",
    "    'SERVICES - Plumbing - Rain Water Drainage > Water Collection Systems > Install water collection tanks [pred] Landscaping > Irrigation Systems > Connect tanks to irrigation systems [succ] > Landscaping > Planting > Use collected water for landscaping',\n",
    "    'SERVICES - Plumbing - Rain Water Drainage > Connection to Municipal Systems > Connect to city storm sewer [pred] Environmental Management > Waste Management Systems > Integrate stormwater management [succ] > Environmental Management > Sustainable Practices > Implement rain gardens',\n",
    "    'Building Envelope > Roofing > Install roofing membrane [pred] SERVICES - Plumbing - Rain Water Drainage > Gutter Systems > Install roof gutters [succ] > SERVICES - Plumbing - Rain Water Drainage > Downspout Systems > Install downspouts',\n",
    "    'SERVICES - Plumbing - Rain Water Drainage > Downspout Systems > Install downspouts [pred] SERVICES - Plumbing - Rain Water Drainage > Surface Drainage Systems > Install permeable paving [succ] > Landscaping > Hardscaping > Integrate drainage into hardscape design',\n",
    "    'Structural Systems > Foundation > Waterproof basement walls [pred] SERVICES - Plumbing - Rain Water Drainage > Underground Drainage Systems > Install French drains [succ] > SERVICES - Plumbing - Rain Water Drainage > Connection to Municipal Systems > Connect to city storm sewer',\n",
    "    'SERVICES - Plumbing - Rain Water Drainage > Gutter Systems > Install roof gutters [pred] SERVICES - Plumbing - Rain Water Drainage > Gutter Guard Systems > Install gutter guards [succ] > Maintenance > Regular Cleaning > Schedule gutter maintenance',\n",
    "    'SERVICES - Plumbing - Rain Water Drainage > Underground Drainage Systems > Install French drains [pred] SERVICES - Plumbing - Rain Water Drainage > Sump Pump Systems > Install sump pumps [succ] > SERVICES - Plumbing - Rain Water Drainage > Backup Systems > Install battery backup for sump pump',\n",
    "    'SERVICES - Plumbing - Rain Water Drainage > Sump Pump Systems > Install sump pumps [pred] SERVICES - Plumbing - Rain Water Drainage > Backup Systems > Install battery backup for sump pump [succ] > Maintenance > Regular Inspection > Inspect sump pump operation',\n",
    "    'Electrical Systems > Power Supply > Provide power for sump pumps [pred] SERVICES - Plumbing - Rain Water Drainage > Sump Pump Systems > Install sump pumps [succ] > Maintenance > Regular Inspection > Inspect electrical connections for sump pumps',\n",
    "    'SERVICES - Plumbing - Rain Water Drainage > Gutter Systems > Install roof gutters [pred] SERVICES - Plumbing - Rain Water Drainage > Downspout Systems > Extend downspouts away from foundation [succ] > SERVICES - Plumbing - Rain Water Drainage > Surface Drainage Systems > Install splash blocks for downspouts',\n",
    "    'SERVICES - Plumbing - Rain Water Drainage > Downspout Systems > Extend downspouts away from foundation [pred] SERVICES - Plumbing - Rain Water Drainage > Surface Drainage Systems > Install splash blocks for downspouts [succ] > SERVICES - Plumbing - Rain Water Drainage > Landscaping Integration > Integrate downspout discharge into landscape design',\n",
    "    'SERVICES - Plumbing - Rain Water Drainage > Underground Drainage Systems > Install underground drainage pipes [pred] SERVICES - Plumbing - Rain Water Drainage > Inspection Chambers > Install inspection chambers [succ] > Maintenance > Regular Inspection > Schedule inspection chamber maintenance',\n",
    "    'SERVICES - Plumbing - Rain Water Drainage > Inspection Chambers > Install inspection chambers [pred] SERVICES - Plumbing - Rain Water Drainage > Underground Drainage Systems > Connect to on-site disposal systems [succ] > Environmental Management > Water Reclamation > Design rainwater harvesting for reuse',\n",
    "    'SERVICES - Plumbing - Rain Water Drainage > Water Collection Systems > Install water collection tanks [pred] Environmental Management > Water Reclamation > Design rainwater harvesting for reuse [succ] > Environmental Management > Sustainable Practices > Implement greywater systems for irrigation',\n",
    "\n",
    "    'SITEWORK > Exterior Utilities > Install Underground Rainwater Drainage Pipes [pred] SITEWORK > Exterior Utilities > Test & Inspect Underground Rainwater Drainage [succ] SERVICES Plumbing Rain Water Drainage > Building Exterior > Install Roof Drain Leaders',\n",
    "    'SERVICES Plumbing Rain Water Drainage > Building Exterior > Install Roof Drain Leaders [pred] SERVICES Plumbing Rain Water Drainage > Building Exterior > Connect Roof Drain Leaders to Underground Drainage [succ] SERVICES Plumbing Rain Water Drainage > Site Storm Water Management > Construct Storm Water Detention Systems',\n",
    "    'SERVICES Plumbing Rain Water Drainage > Site Storm Water Management > Construct Storm Water Detention Systems [pred] SERVICES Plumbing Rain Water Drainage > Site Storm Water Management > Install Storm Water Infiltration Systems [succ] LANDSCAPING & SITEWORK > Landscaping > Final Site Grading & Landscaping',\n",
    "    'CONSTRUCTION SUPERSTRUCTURE > Roof > Install Roof Drains [pred] SERVICES Plumbing Rain Water Drainage > Building Exterior > Connect Roof Drains to Internal Drainage System [succ] SERVICES Plumbing Rain Water Drainage > Interior Plumbing > Install Internal Rainwater Drain Pipes',\n",
    "    'SERVICES Plumbing Rain Water Drainage > Interior Plumbing > Install Internal Rainwater Drain Pipes [pred] SERVICES Plumbing Rain Water Drainage > Interior Plumbing > Test & Inspect Internal Rainwater Drainage System [succ] FINISHES > Interior Finishes > Reinstall Displaced Ceiling Panels',\n",
    "    'SERVICES Plumbing Rain Water Drainage > Building Exterior > Install Gutter Systems [pred] SERVICES Plumbing Rain Water Drainage > Building Exterior > Install Downspouts [succ] SERVICES Plumbing Rain Water Drainage > Building Exterior > Connect Downspouts to Perimeter Drainage',\n",
    "    'SERVICES Plumbing Rain Water Drainage > Building Exterior > Connect Downspouts to Perimeter Drainage [pred] LANDSCAPING & SITEWORK > Exterior Utilities > Install French Drains [succ] SERVICES Plumbing Rain Water Drainage > Site Storm Water Management > Install Storm Water Infiltration Systems',\n",
    "    'FOUNDATION > Basement Construction > Waterproof Basement Walls [pred] SERVICES Plumbing Rain Water Drainage > Interior Plumbing > Install Sump Pumps [succ] SERVICES Plumbing Rain Water Drainage > Interior Plumbing > Test & Inspect Sump Pump Operation',\n",
    "    'SERVICES Plumbing Rain Water Drainage > Building Exterior > Install Gutter Guards [pred] SERVICES Plumbing Rain Water Drainage > Building Exterior > Clean & Inspect Gutters and Downspouts [succ] MAINTENANCE > Facilities Maintenance > Schedule Regular Gutter Maintenance',\n",
    "    'SERVICES Plumbing Rain Water Drainage > Site Storm Water Management > Design Rain Gardens [pred] LANDSCAPING & SITEWORK > Landscaping > Plant Rain Garden Vegetation [succ] SERVICES Plumbing Rain Water Drainage > Site Storm Water Management > Monitor Rain Garden Performance',\n",
    "    'SERVICES Plumbing Rain Water Drainage > Interior Plumbing > Design Internal Rainwater Harvesting System [pred] SERVICES Plumbing Rain Water Drainage > Interior Plumbing > Install Rainwater Harvesting Storage Tanks [succ] SERVICES Plumbing Rain Water Drainage > Interior Plumbing > Connect Rainwater Harvesting System to Non-Potable Water Uses',\n",
    "    'SERVICES Plumbing Rain Water Drainage > Site Storm Water Management > Install Permeable Paving [pred] SERVICES Plumbing Rain Water Drainage > Site Storm Water Management > Direct Downspouts to Permeable Areas [succ] LANDSCAPING & SITEWORK > Landscaping > Install Rainwater Infiltration Landscaping Features',\n",
    "    'SERVICES Plumbing Rain Water Drainage > Building Exterior > Seal Roof Penetrations [pred] CONSTRUCTION SUPERSTRUCTURE > Roof > Install Roof Insulation [succ] SERVICES Plumbing Rain Water Drainage > Building Exterior > Install Roof Drain Leaders',\n",
    "    'SERVICES Plumbing Rain Water Drainage > Interior Plumbing > Retrofit Existing Drainage for Rainwater Reuse [pred] SERVICES Plumbing Rain Water Drainage > Interior Plumbing > Install Water Filtration for Rainwater Reuse [succ] SERVICES Plumbing Rain Water Drainage > Interior Plumbing > Connect Filtration System to Irrigation',\n",
    "    'SERVICES Plumbing Rain Water Drainage > Interior Plumbing > Install Backflow Preventers on Drainage Lines [pred] SERVICES Plumbing Rain Water Drainage > Interior Plumbing > Test Backflow Preventers [succ] SERVICES Plumbing Rain Water Drainage > Interior Plumbing > Commission Rainwater Drainage System',\n",
    "    'SERVICES Plumbing Rain Water Drainage > Building Exterior > Install Splash Blocks [pred] SERVICES Plumbing Rain Water Drainage > Building Exterior > Direct Splash Blocks Away from Foundation [succ] FOUNDATION > Foundation Drainage > Inspect and Repair Foundation Drainage Systems',\n",
    "    'SERVICES Plumbing Rain Water Drainage > Site Storm Water Management > Install Catch Basin Filters [pred] SERVICES Plumbing Rain Water Drainage > Site Storm Water Management > Clean Catch Basins [succ] MAINTENANCE > Facilities Maintenance > Implement Stormwater Management Maintenance Plan',\n",
    "    'SERVICES Plumbing Rain Water Drainage > Site Storm Water Management > Design and Install Green Roofs [pred] SERVICES Plumbing Rain Water Drainage > Building Exterior > Integrate Green Roofs with Rainwater Harvesting [succ] SERVICES Plumbing Rain Water Drainage > Interior Plumbing > Use Harvested Rainwater for Irrigation and Toilet Flushing',\n",
    "    'SERVICES Plumbing Rain Water Drainage > Site Storm Water Management > Construct Bio-Swales [pred] LANDSCAPING & SITEWORK > Landscaping > Plant Native Vegetation in Bio-Swales [succ] SERVICES Plumbing Rain Water Drainage > Site Storm Water Management > Monitor and Maintain Bio-Swales',\n",
    "    'SERVICES Plumbing Rain Water Drainage > Building Exterior > Install Rain Chains as Decorative Downspouts [pred] SERVICES Plumbing Rain Water Drainage > Building Exterior > Direct Rain Chains to Rain Barrels [succ] SERVICES Plumbing Rain Water Drainage > Interior Plumbing > Use Rain Barrel Water for Landscape Irrigation',\n",
    "\n",
    "    'SITE PREPARATION > Site Services > Install Underground Drainage Pipes [pred] SERVICES Plumbing Rain Water Drainage > Exterior Systems > Install Rainwater Downspouts [succ] SERVICES Plumbing Rain Water Drainage > Exterior Systems > Install Splash Blocks',\n",
    "    'SERVICES Plumbing Rain Water Drainage > Exterior Systems > Conduct Soil Percolation Test [pred] SERVICES Plumbing Rain Water Drainage > Exterior Systems > Design Rainwater Harvesting System [succ] SERVICES Plumbing Rain Water Drainage > Rainwater Harvesting > Install Rainwater Storage Tanks',\n",
    "    'SERVICES Plumbing Rain Water Drainage > Rainwater Harvesting > Install Rainwater Filters [pred] SERVICES Plumbing Rain Water Drainage > Rainwater Harvesting > Connect Rainwater Pipes to Tanks [succ] SERVICES Plumbing Rain Water Drainage > Rainwater Harvesting > Test Rainwater Harvesting System',\n",
    "    'FOUNDATION > Drainage > Install Footing Drains [pred] SERVICES Plumbing Rain Water Drainage > Exterior Systems > Install Rainwater Catchment Areas [succ] SERVICES Plumbing Rain Water Drainage > Exterior Systems > Connect Catchment Areas to Drainage System',\n",
    "    'SERVICES Plumbing Rain Water Drainage > Exterior Systems > Install Gutter Systems [pred] SERVICES Plumbing Rain Water Drainage > Exterior Systems > Install Gutter Guards [succ] SERVICES Plumbing Rain Water Drainage > Exterior Systems > Connect Gutters to Downspouts',\n",
    "    'SERVICES Plumbing Rain Water Drainage > Rainwater Disposal > Design Slope for Surface Drainage [pred] SERVICES Plumbing Rain Water Drainage > Rainwater Disposal > Install Catch Basins and Grates [succ] SERVICES Plumbing Rain Water Drainage > Rainwater Disposal > Connect to Municipal Storm Sewers',\n",
    "    'SERVICES Plumbing Rain Water Drainage > Rainwater Harvesting > Calculate Rainwater Harvesting Capacity [pred] SERVICES Plumbing Rain Water Drainage > Rainwater Harvesting > Select Rainwater Storage Solutions [succ] SERVICES Plumbing Rain Water Drainage > Rainwater Harvesting > Install First Flush Diverters',\n",
    "    'SERVICES Plumbing Rain Water Drainage > Exterior Systems > Map Drainage Pathways [pred] SERVICES Plumbing Rain Water Drainage > Exterior Systems > Excavate for Underground Drainage [succ] SERVICES Plumbing Rain Water Drainage > Exterior Systems > Install Perforated Drain Pipes',\n",
    "    'SERVICES Plumbing Rain Water Drainage > Rainwater Disposal > Install Dry Wells [pred] SERVICES Plumbing Rain Water Drainage > Rainwater Disposal > Test Dry Well Capacity [succ] LANDSCAPING > Exterior > Adjust Landscape Grading for Drainage',\n",
    "    'SERVICES Plumbing Rain Water Drainage > Exterior Systems > Install French Drains [pred] SERVICES Plumbing Rain Water Drainage > Exterior Systems > Backfill and Compact Around French Drains [succ] SERVICES Plumbing Rain Water Drainage > Exterior Systems > Seed or Sod Above Drain Lines',\n",
    "    'SERVICES Plumbing Rain Water Drainage > Rainwater Disposal > Plan Drainage Exit Points [pred] SERVICES Plumbing Rain Water Drainage > Rainwater Disposal > Install Drainage Exit Grates [succ] SERVICES Plumbing Rain Water Drainage > Exterior Systems > Perform Final Grading for Surface Drainage',\n",
    "    'SERVICES Plumbing Rain Water Drainage > Rainwater Harvesting > Design Rainwater Filtration System [pred] SERVICES Plumbing Rain Water Drainage > Rainwater Harvesting > Install Sediment Filters [succ] SERVICES Plumbing Rain Water Drainage > Rainwater Harvesting > Install Carbon Filters',\n",
    "    'SERVICES Plumbing Rain Water Drainage > Rainwater Disposal > Install Sump Pumps [pred] SERVICES Plumbing Rain Water Drainage > Rainwater Disposal > Connect Sump Pump to Drainage System [succ] SERVICES Plumbing Rain Water Drainage > Rainwater Disposal > Test Sump Pump Operation',\n",
    "    'SERVICES Plumbing Rain Water Drainage > Rainwater Disposal > Assess Site Drainage Needs [pred] SERVICES Plumbing Rain Water Drainage > Rainwater Disposal > Design Site Drainage Plan [succ] SERVICES Plumbing Rain Water Drainage > Rainwater Disposal > Implement Site Drainage Solutions',\n",
    "    'SERVICES Plumbing Rain Water Drainage > Exterior Systems > Survey Site for Water Collection Points [pred] SERVICES Plumbing Rain Water Drainage > Rainwater Harvesting > Design Water Collection System [succ] SERVICES Plumbing Rain Water Drainage > Rainwater Harvesting > Install Water Collection System Components',\n",
    "    'SERVICES Plumbing Rain Water Drainage > Rainwater Harvesting > Select Rain Barrels [pred] SERVICES Plumbing Rain Water Drainage > Rainwater Harvesting > Install Rain Barrels at Downspouts [succ] SERVICES Plumbing Rain Water Drainage > Rainwater Harvesting > Connect Rain Barrels to Overflow System',\n",
    "    'SERVICES Plumbing Rain Water Drainage > Exterior Systems > Design Roof Drainage System [pred] SERVICES Plumbing Rain Water Drainage > Exterior Systems > Install Roof Drains [succ] SERVICES Plumbing Rain Water Drainage > Exterior Systems > Connect Roof Drains to Internal Drainage System',\n",
    "    'SERVICES Plumbing Rain Water Drainage > Rainwater Disposal > Install Infiltration Trenches [pred] SERVICES Plumbing Rain Water Drainage > Rainwater Disposal > Fill Trenches with Gravel [succ] SERVICES Plumbing Rain Water Drainage > Rainwater Disposal > Cover Trenches with Filter Fabric',\n",
    "    'SERVICES Plumbing Rain Water Drainage > Rainwater Disposal > Design Onsite Stormwater Management System [pred] SERVICES Plumbing Rain Water Drainage > Rainwater Disposal > Construct Bioretention Areas [succ] SERVICES Plumbing Rain Water Drainage > Rainwater Disposal > Plant Vegetation in Bioretention Areas',\n",
    "    'SERVICES Plumbing Rain Water Drainage > Exterior Systems > Layout Underground Drainage Plan [pred] SERVICES Plumbing Rain Water Drainage > Exterior Systems > Install Inspection Chambers [succ] SERVICES Plumbing Rain Water Drainage > Exterior Systems > Perform Pressure Testing of Drainage Lines',\n",
    "\n",
    "    'SITEWORK > Site Improvements > Install Stormwater Catch Basins [pred] SERVICES Plumbing Rain Water Drainage > Underground Drainage > Lay Drainage Pipes [succ] SERVICES Plumbing Rain Water Drainage > Underground Drainage > Test Drainage System',\n",
    "    'SERVICES Plumbing Rain Water Drainage > Underground Drainage > Lay Drainage Pipes [pred] SERVICES Plumbing Rain Water Drainage > Underground Drainage > Backfill and Compact around Drainage Pipes [succ] LANDSCAPING > Lawns and Gardens > Restore Landscaping',\n",
    "    'ARCHITECTURAL EXTERIORS > Roofing > Install Roof Gutters [pred] SERVICES Plumbing Rain Water Drainage > Roof Drainage > Connect Gutters to Downspouts [succ] SERVICES Plumbing Rain Water Drainage > Exterior Drainage > Install French Drains',\n",
    "    'SERVICES Plumbing Rain Water Drainage > Roof Drainage > Connect Gutters to Downspouts [pred] SERVICES Plumbing Rain Water Drainage > Roof Drainage > Seal and Test Downspouts [succ] SERVICES Plumbing Rain Water Drainage > Exterior Drainage > Connect to Storm Sewer',\n",
    "    'SERVICES Plumbing Rain Water Drainage > Exterior Drainage > Install French Drains [pred] SERVICES Plumbing Rain Water Drainage > Exterior Drainage > Connect French Drains to Drainage System [succ] SITEWORK > Site Utilities > Connect to Municipal Storm Sewer',\n",
    "    'SERVICES Plumbing Rain Water Drainage > Underground Drainage > Backfill and Compact around Drainage Pipes [pred] SERVICES Plumbing Rain Water Drainage > Underground Drainage > Install Cleanouts [succ] SERVICES Plumbing Rain Water Drainage > Underground Drainage > Conduct Hydrostatic Test',\n",
    "    'ARCHITECTURAL EXTERIORS > Roofing > Install Siphonic Roof Drainage System [pred] SERVICES Plumbing Rain Water Drainage > Roof Drainage > Test Siphonic Drainage System for Leaks [succ] SERVICES Plumbing Rain Water Drainage > Roof Drainage > Insulate Roof Drainage Pipes',\n",
    "    'SERVICES Plumbing Rain Water Drainage > Roof Drainage > Test Siphonic Drainage System for Leaks [pred] SERVICES Plumbing Rain Water Drainage > Roof Drainage > Install Roof Drainage Filters [succ] SERVICES Plumbing Rain Water Drainage > Exterior Drainage > Integrate Rainwater Harvesting System',\n",
    "    'SERVICES Plumbing Rain Water Drainage > Exterior Drainage > Integrate Rainwater Harvesting System [pred] SERVICES Plumbing Rain Water Drainage > Exterior Drainage > Install First Flush Diverters [succ] SERVICES Plumbing Rain Water Drainage > Exterior Drainage > Connect to Rainwater Storage Tanks',\n",
    "    'SERVICES Plumbing Rain Water Drainage > Underground Drainage > Install Cleanouts [pred] SERVICES Plumbing Rain Water Drainage > Underground Drainage > Install Inspection Chambers [succ] SERVICES Plumbing Rain Water Drainage > Underground Drainage > Install Grease Traps',\n",
    "    'CONSTRUCTION SUPERSTRUCTURE > Foundation > Waterproof Foundation Walls [pred] SERVICES Plumbing Rain Water Drainage > Exterior Drainage > Install Perimeter Drain [succ] SERVICES Plumbing Rain Water Drainage > Underground Drainage > Connect Perimeter Drain to Drainage System',\n",
    "    'SERVICES Plumbing Rain Water Drainage > Roof Drainage > Install Roof Drainage Filters [pred] SERVICES Plumbing Rain Water Drainage > Roof Drainage > Connect Downspouts to Underground Drainage [succ] SERVICES Plumbing Rain Water Drainage > Exterior Drainage > Install Catchment Areas',\n",
    "    'SITEWORK > Excavation > Prepare Trenches for Drainage Pipes [pred] SERVICES Plumbing Rain Water Drainage > Underground Drainage > Install Geotextile Fabric [succ] SERVICES Plumbing Rain Water Drainage > Underground Drainage > Lay Perforated Drain Pipes',\n",
    "    'SERVICES Plumbing Rain Water Drainage > Underground Drainage > Install Inspection Chambers [pred] SERVICES Plumbing Rain Water Drainage > Underground Drainage > Seal Chambers [succ] SERVICES Plumbing Rain Water Drainage > Underground Drainage > Backfill Inspection Chambers',\n",
    "    'SERVICES Plumbing Rain Water Drainage > Underground Drainage > Install Grease Traps [pred] SERVICES Plumbing Rain Water Drainage > Underground Drainage > Connect Grease Traps to Main Drainage Line [succ] SERVICES Plumbing Rain Water Drainage > Wastewater Treatment > Integrate Grease Trap with Wastewater Treatment System',\n",
    "    'SERVICES Plumbing Rain Water Drainage > Exterior Drainage > Install Catchment Areas [pred] SERVICES Plumbing Rain Water Drainage > Exterior Drainage > Landscape for Optimal Water Flow [succ] LANDSCAPING > Lawns and Gardens > Plant Water-Resilient Vegetation',\n",
    "    'SERVICES Plumbing Rain Water Drainage > Roof Drainage > Seal and Test Downspouts [pred] SERVICES Plumbing Rain Water Drainage > Exterior Drainage > Integrate Downspout Extensions [succ] SERVICES Plumbing Rain Water Drainage > Exterior Drainage > Install Splash Blocks',\n",
    "    'SERVICES Plumbing Rain Water Drainage > Exterior Drainage > Install Splash Blocks [pred] SERVICES Plumbing Rain Water Drainage > Exterior Drainage > Grade Landscape for Drainage [succ] LANDSCAPING > Lawns and Gardens > Mulch and Soil Amendment for Drainage',\n",
    "    'SERVICES Plumbing Rain Water Drainage > Underground Drainage > Conduct Hydrostatic Test [pred] SERVICES Plumbing Rain Water Drainage > Underground Drainage > Flush System to Verify Flow [succ] SERVICES Plumbing Rain Water Drainage > Underground Drainage > Final Inspection and Approval',\n",
    "    'SITEWORK > Site Utilities > Connect to Municipal Storm Sewer [pred] SERVICES Plumbing Rain Water Drainage > System Integration > Finalize Stormwater Management Plan [succ] PROJECT MANAGEMENT > Documentation > Submit Final Drainage System Report to Authorities',\n",
    "\n",
    "]\n",
    "gpt4_labels = ['D2040'] * len(gpt4_texts)"
   ]
  },
  {
   "cell_type": "code",
   "execution_count": 18,
   "metadata": {},
   "outputs": [
    {
     "data": {
      "text/plain": [
       "645"
      ]
     },
     "execution_count": 18,
     "metadata": {},
     "output_type": "execute_result"
    }
   ],
   "source": [
    "if experiment_setting['gpt4_balancing']:\n",
    "\n",
    "    import itertools\n",
    "    train_loader = make_dataloader(\n",
    "        list(itertools.chain(\n",
    "            train_texts,\n",
    "            gpt4_texts,\n",
    "        )),\n",
    "        list(itertools.chain(\n",
    "            train_labels_encoded,\n",
    "            label_encoder.transform(gpt4_labels),\n",
    "        )),\n",
    "        batch_size\n",
    "    )\n",
    "\n",
    "len(train_loader)"
   ]
  },
  {
   "cell_type": "markdown",
   "metadata": {},
   "source": [
    "### Fine-tuning (Train & Validation)"
   ]
  },
  {
   "cell_type": "code",
   "execution_count": 19,
   "metadata": {},
   "outputs": [],
   "source": [
    "optimizer = torch.optim.Adam(model.parameters(), lr=learning_rate)"
   ]
  },
  {
   "cell_type": "code",
   "execution_count": 20,
   "metadata": {},
   "outputs": [
    {
     "name": "stderr",
     "output_type": "stream",
     "text": [
      "  0%|          | 0/645 [00:00<?, ?it/s]"
     ]
    },
    {
     "name": "stderr",
     "output_type": "stream",
     "text": [
      "100%|██████████| 645/645 [02:03<00:00,  5.21it/s]\n"
     ]
    },
    {
     "name": "stdout",
     "output_type": "stream",
     "text": [
      "Epoch 1 | Train Loss: 1.72468165935472 | Validation Loss: 0.8024178148708611\n"
     ]
    },
    {
     "name": "stderr",
     "output_type": "stream",
     "text": [
      "100%|██████████| 645/645 [02:03<00:00,  5.22it/s]\n"
     ]
    },
    {
     "name": "stdout",
     "output_type": "stream",
     "text": [
      "Epoch 2 | Train Loss: 0.3777006160958793 | Validation Loss: 0.21807804054397845\n"
     ]
    },
    {
     "name": "stderr",
     "output_type": "stream",
     "text": [
      "100%|██████████| 645/645 [02:03<00:00,  5.22it/s]\n"
     ]
    },
    {
     "name": "stdout",
     "output_type": "stream",
     "text": [
      "Epoch 3 | Train Loss: 0.1624003063396428 | Validation Loss: 0.14624777891472956\n"
     ]
    },
    {
     "name": "stderr",
     "output_type": "stream",
     "text": [
      "100%|██████████| 645/645 [02:03<00:00,  5.22it/s]\n"
     ]
    },
    {
     "name": "stdout",
     "output_type": "stream",
     "text": [
      "Epoch 4 | Train Loss: 0.09090683406377717 | Validation Loss: 0.0977033430005415\n"
     ]
    },
    {
     "name": "stderr",
     "output_type": "stream",
     "text": [
      "100%|██████████| 645/645 [02:03<00:00,  5.21it/s]\n"
     ]
    },
    {
     "name": "stdout",
     "output_type": "stream",
     "text": [
      "Epoch 5 | Train Loss: 0.06136332786418209 | Validation Loss: 0.07364010018357467\n"
     ]
    },
    {
     "name": "stderr",
     "output_type": "stream",
     "text": [
      "100%|██████████| 645/645 [02:03<00:00,  5.22it/s]\n"
     ]
    },
    {
     "name": "stdout",
     "output_type": "stream",
     "text": [
      "Epoch 6 | Train Loss: 0.04315424096561218 | Validation Loss: 0.06092687515829141\n"
     ]
    },
    {
     "name": "stderr",
     "output_type": "stream",
     "text": [
      "100%|██████████| 645/645 [02:03<00:00,  5.22it/s]\n"
     ]
    },
    {
     "name": "stdout",
     "output_type": "stream",
     "text": [
      "Epoch 7 | Train Loss: 0.03981883021851265 | Validation Loss: 0.05741223693546778\n"
     ]
    },
    {
     "name": "stderr",
     "output_type": "stream",
     "text": [
      "100%|██████████| 645/645 [02:03<00:00,  5.21it/s]\n"
     ]
    },
    {
     "name": "stdout",
     "output_type": "stream",
     "text": [
      "Epoch 8 | Train Loss: 0.036952450287405604 | Validation Loss: 0.06621314682366727\n"
     ]
    },
    {
     "name": "stderr",
     "output_type": "stream",
     "text": [
      "100%|██████████| 645/645 [02:03<00:00,  5.21it/s]\n"
     ]
    },
    {
     "name": "stdout",
     "output_type": "stream",
     "text": [
      "Epoch 9 | Train Loss: 0.028733646970733193 | Validation Loss: 0.05415633532531977\n"
     ]
    },
    {
     "name": "stderr",
     "output_type": "stream",
     "text": [
      "100%|██████████| 645/645 [02:03<00:00,  5.22it/s]\n"
     ]
    },
    {
     "name": "stdout",
     "output_type": "stream",
     "text": [
      "Epoch 10 | Train Loss: 0.02322777715266155 | Validation Loss: 0.06341458875011374\n"
     ]
    },
    {
     "name": "stderr",
     "output_type": "stream",
     "text": [
      "100%|██████████| 645/645 [02:03<00:00,  5.21it/s]\n"
     ]
    },
    {
     "name": "stdout",
     "output_type": "stream",
     "text": [
      "Epoch 11 | Train Loss: 0.0231269440857347 | Validation Loss: 0.05796982171955066\n"
     ]
    },
    {
     "name": "stderr",
     "output_type": "stream",
     "text": [
      "100%|██████████| 645/645 [02:03<00:00,  5.21it/s]\n"
     ]
    },
    {
     "name": "stdout",
     "output_type": "stream",
     "text": [
      "Epoch 12 | Train Loss: 0.023423462904188348 | Validation Loss: 0.0505505501786051\n"
     ]
    },
    {
     "name": "stderr",
     "output_type": "stream",
     "text": [
      "100%|██████████| 645/645 [02:03<00:00,  5.24it/s]\n"
     ]
    },
    {
     "name": "stdout",
     "output_type": "stream",
     "text": [
      "Epoch 13 | Train Loss: 0.025032299203985885 | Validation Loss: 0.05944939466328229\n"
     ]
    },
    {
     "name": "stderr",
     "output_type": "stream",
     "text": [
      "100%|██████████| 645/645 [01:59<00:00,  5.40it/s]\n"
     ]
    },
    {
     "name": "stdout",
     "output_type": "stream",
     "text": [
      "Epoch 14 | Train Loss: 0.02282556470703738 | Validation Loss: 0.04828081174294473\n"
     ]
    },
    {
     "name": "stderr",
     "output_type": "stream",
     "text": [
      "100%|██████████| 645/645 [01:59<00:00,  5.41it/s]\n"
     ]
    },
    {
     "name": "stdout",
     "output_type": "stream",
     "text": [
      "Epoch 15 | Train Loss: 0.018979466853342054 | Validation Loss: 0.050554427165411864\n"
     ]
    },
    {
     "name": "stderr",
     "output_type": "stream",
     "text": [
      "100%|██████████| 645/645 [01:59<00:00,  5.41it/s]\n"
     ]
    },
    {
     "name": "stdout",
     "output_type": "stream",
     "text": [
      "Epoch 16 | Train Loss: 0.01472843645344481 | Validation Loss: 0.049413458186051605\n"
     ]
    },
    {
     "name": "stderr",
     "output_type": "stream",
     "text": [
      "100%|██████████| 645/645 [01:59<00:00,  5.40it/s]\n"
     ]
    },
    {
     "name": "stdout",
     "output_type": "stream",
     "text": [
      "Epoch 17 | Train Loss: 0.016527466649864618 | Validation Loss: 0.053361307028855116\n"
     ]
    },
    {
     "name": "stderr",
     "output_type": "stream",
     "text": [
      "100%|██████████| 645/645 [01:59<00:00,  5.41it/s]\n"
     ]
    },
    {
     "name": "stdout",
     "output_type": "stream",
     "text": [
      "Epoch 18 | Train Loss: 0.020597532179654224 | Validation Loss: 0.062053689361325784\n"
     ]
    },
    {
     "name": "stderr",
     "output_type": "stream",
     "text": [
      "100%|██████████| 645/645 [01:59<00:00,  5.41it/s]\n"
     ]
    },
    {
     "name": "stdout",
     "output_type": "stream",
     "text": [
      "Epoch 19 | Train Loss: 0.018137589861754358 | Validation Loss: 0.05094216388819422\n"
     ]
    },
    {
     "name": "stderr",
     "output_type": "stream",
     "text": [
      "100%|██████████| 645/645 [01:59<00:00,  5.41it/s]\n"
     ]
    },
    {
     "name": "stdout",
     "output_type": "stream",
     "text": [
      "Epoch 20 | Train Loss: 0.016206119329056724 | Validation Loss: 0.05581038675984155\n"
     ]
    },
    {
     "data": {
      "image/png": "[encoded data removed]",
      "text/plain": [
       "<Figure size 640x480 with 1 Axes>"
      ]
     },
     "metadata": {},
     "output_type": "display_data"
    }
   ],
   "source": [
    "from tqdm import tqdm\n",
    "\n",
    "train_losses = []\n",
    "val_losses = []\n",
    "for epoch in range(epoch_size):\n",
    "    model.train()\n",
    "    train_loss = 0\n",
    "    for input_ids, attention_mask, labels in tqdm(train_loader):\n",
    "        model.zero_grad()\n",
    "        outputs = model(input_ids=input_ids, attention_mask=attention_mask, labels=labels)\n",
    "        loss = outputs.loss\n",
    "        train_loss += loss.item()\n",
    "        loss.backward()\n",
    "        optimizer.step()\n",
    "    train_losses.append(train_loss / len(train_loader))\n",
    "\n",
    "    # Validation\n",
    "    model.eval()\n",
    "    with torch.no_grad():\n",
    "        val_loss = 0\n",
    "        for input_ids, attention_mask, labels in validation_loader:\n",
    "            outputs = model(input_ids=input_ids, attention_mask=attention_mask, labels=labels)\n",
    "            \n",
    "            loss = outputs.loss\n",
    "            val_loss += loss.item()\n",
    "    val_losses.append(val_loss / len(validation_loader))\n",
    "    print(f\"Epoch {epoch+1} | Train Loss: {train_losses[-1]} | Validation Loss: {val_losses[-1]}\")\n",
    "\n",
    "import matplotlib.pyplot as plt\n",
    "plt.plot(train_losses, label='Training loss')\n",
    "plt.plot(val_losses, label='Validation loss')\n",
    "plt.legend()\n",
    "plt.title('Loss')\n",
    "plt.xlabel('Epoch')\n",
    "plt.show()"
   ]
  },
  {
   "cell_type": "markdown",
   "metadata": {},
   "source": [
    "### Test"
   ]
  },
  {
   "cell_type": "code",
   "execution_count": 21,
   "metadata": {},
   "outputs": [],
   "source": [
    "model.eval()\n",
    "with torch.no_grad():\n",
    "    true_labels = []\n",
    "    pred_labels = []\n",
    "    df_test_rows = []\n",
    "    for input_ids, attention_mask, labels in test_loader:\n",
    "        outputs = model(input_ids=input_ids, attention_mask=attention_mask)\n",
    "        pred_labels.extend(torch.argmax(outputs.logits, dim=1).cpu().numpy())\n",
    "        true_labels.extend(labels.cpu().numpy())\n",
    "\n",
    "        for b in range(input_ids.shape[0]):\n",
    "            text = tokenizer.decode([token for i, token in enumerate(input_ids[b]) if attention_mask[b][i] == 1])\n",
    "            pred_label = label_encoder.classes_[torch.argmax(outputs.logits[b]).item()]\n",
    "            true_label = label_encoder.classes_[labels[b].item()]\n",
    "            df_test_rows.append({'text': text, 'true_label': true_label, 'pred_label': pred_label, 'correct': pred_label == true_label})\n",
    "\n",
    "# Data should not be shared publicly.\n",
    "pd.DataFrame(df_test_rows).to_csv(dataset_path+f\"/{experiment_name}_test_data_pred_results.csv\")"
   ]
  },
  {
   "cell_type": "markdown",
   "metadata": {},
   "source": [
    "### Experimental Results"
   ]
  },
  {
   "cell_type": "markdown",
   "metadata": {},
   "source": [
    "#### Overall Results"
   ]
  },
  {
   "cell_type": "code",
   "execution_count": 22,
   "metadata": {},
   "outputs": [
    {
     "name": "stdout",
     "output_type": "stream",
     "text": [
      "Test Accuracy: 0.9867\n",
      "Precision: 0.9668\n",
      "Recall: 0.9513\n",
      "F1 Score: 0.9571\n"
     ]
    }
   ],
   "source": [
    "from sklearn.metrics import accuracy_score, precision_recall_fscore_support\n",
    "\n",
    "accuracy = accuracy_score(true_labels, pred_labels)\n",
    "precision, recall, f1, _ = precision_recall_fscore_support(\n",
    "    true_labels, \n",
    "    pred_labels, \n",
    "    # average='weighted', \n",
    "    average='macro',  # Original paper setting (page 8)\n",
    "    zero_division=0\n",
    ")\n",
    "\n",
    "print(f\"Test Accuracy: {accuracy:.4f}\")\n",
    "print(f\"Precision: {precision:.4f}\")\n",
    "print(f\"Recall: {recall:.4f}\")\n",
    "print(f\"F1 Score: {f1:.4f}\")"
   ]
  },
  {
   "cell_type": "markdown",
   "metadata": {},
   "source": [
    "#### Class-wise Results"
   ]
  },
  {
   "cell_type": "code",
   "execution_count": 23,
   "metadata": {},
   "outputs": [
    {
     "data": {
      "text/html": [
       "<div>\n",
       "<style scoped>\n",
       "    .dataframe tbody tr th:only-of-type {\n",
       "        vertical-align: middle;\n",
       "    }\n",
       "\n",
       "    .dataframe tbody tr th {\n",
       "        vertical-align: top;\n",
       "    }\n",
       "\n",
       "    .dataframe thead th {\n",
       "        text-align: right;\n",
       "    }\n",
       "</style>\n",
       "<table border=\"1\" class=\"dataframe\">\n",
       "  <thead>\n",
       "    <tr style=\"text-align: right;\">\n",
       "      <th></th>\n",
       "      <th>Class</th>\n",
       "      <th>Precision</th>\n",
       "      <th>Recall</th>\n",
       "      <th>F1 Score</th>\n",
       "    </tr>\n",
       "  </thead>\n",
       "  <tbody>\n",
       "    <tr>\n",
       "      <th>0</th>\n",
       "      <td>A1010</td>\n",
       "      <td>0.970588</td>\n",
       "      <td>0.985075</td>\n",
       "      <td>0.977778</td>\n",
       "    </tr>\n",
       "    <tr>\n",
       "      <th>1</th>\n",
       "      <td>A1020</td>\n",
       "      <td>1.000000</td>\n",
       "      <td>0.983607</td>\n",
       "      <td>0.991736</td>\n",
       "    </tr>\n",
       "    <tr>\n",
       "      <th>2</th>\n",
       "      <td>A1030</td>\n",
       "      <td>0.972603</td>\n",
       "      <td>1.000000</td>\n",
       "      <td>0.986111</td>\n",
       "    </tr>\n",
       "    <tr>\n",
       "      <th>3</th>\n",
       "      <td>A2010</td>\n",
       "      <td>0.986667</td>\n",
       "      <td>1.000000</td>\n",
       "      <td>0.993289</td>\n",
       "    </tr>\n",
       "    <tr>\n",
       "      <th>4</th>\n",
       "      <td>A2020</td>\n",
       "      <td>1.000000</td>\n",
       "      <td>0.846154</td>\n",
       "      <td>0.916667</td>\n",
       "    </tr>\n",
       "    <tr>\n",
       "      <th>5</th>\n",
       "      <td>B1010</td>\n",
       "      <td>0.998014</td>\n",
       "      <td>0.998014</td>\n",
       "      <td>0.998014</td>\n",
       "    </tr>\n",
       "    <tr>\n",
       "      <th>6</th>\n",
       "      <td>B1020</td>\n",
       "      <td>0.969466</td>\n",
       "      <td>0.969466</td>\n",
       "      <td>0.969466</td>\n",
       "    </tr>\n",
       "    <tr>\n",
       "      <th>7</th>\n",
       "      <td>B2010</td>\n",
       "      <td>0.996396</td>\n",
       "      <td>1.000000</td>\n",
       "      <td>0.998195</td>\n",
       "    </tr>\n",
       "    <tr>\n",
       "      <th>8</th>\n",
       "      <td>B2020</td>\n",
       "      <td>1.000000</td>\n",
       "      <td>1.000000</td>\n",
       "      <td>1.000000</td>\n",
       "    </tr>\n",
       "    <tr>\n",
       "      <th>9</th>\n",
       "      <td>B2030</td>\n",
       "      <td>1.000000</td>\n",
       "      <td>0.933333</td>\n",
       "      <td>0.965517</td>\n",
       "    </tr>\n",
       "    <tr>\n",
       "      <th>10</th>\n",
       "      <td>B3010</td>\n",
       "      <td>0.966667</td>\n",
       "      <td>0.950820</td>\n",
       "      <td>0.958678</td>\n",
       "    </tr>\n",
       "    <tr>\n",
       "      <th>11</th>\n",
       "      <td>B3020</td>\n",
       "      <td>1.000000</td>\n",
       "      <td>1.000000</td>\n",
       "      <td>1.000000</td>\n",
       "    </tr>\n",
       "    <tr>\n",
       "      <th>12</th>\n",
       "      <td>C1010</td>\n",
       "      <td>0.928196</td>\n",
       "      <td>0.998117</td>\n",
       "      <td>0.961887</td>\n",
       "    </tr>\n",
       "    <tr>\n",
       "      <th>13</th>\n",
       "      <td>C1020</td>\n",
       "      <td>1.000000</td>\n",
       "      <td>1.000000</td>\n",
       "      <td>1.000000</td>\n",
       "    </tr>\n",
       "    <tr>\n",
       "      <th>14</th>\n",
       "      <td>C1030</td>\n",
       "      <td>0.982143</td>\n",
       "      <td>1.000000</td>\n",
       "      <td>0.990991</td>\n",
       "    </tr>\n",
       "    <tr>\n",
       "      <th>15</th>\n",
       "      <td>C2010</td>\n",
       "      <td>1.000000</td>\n",
       "      <td>0.524390</td>\n",
       "      <td>0.688000</td>\n",
       "    </tr>\n",
       "    <tr>\n",
       "      <th>16</th>\n",
       "      <td>C2020</td>\n",
       "      <td>1.000000</td>\n",
       "      <td>1.000000</td>\n",
       "      <td>1.000000</td>\n",
       "    </tr>\n",
       "    <tr>\n",
       "      <th>17</th>\n",
       "      <td>C3010</td>\n",
       "      <td>1.000000</td>\n",
       "      <td>0.992212</td>\n",
       "      <td>0.996091</td>\n",
       "    </tr>\n",
       "    <tr>\n",
       "      <th>18</th>\n",
       "      <td>C3020</td>\n",
       "      <td>0.998095</td>\n",
       "      <td>1.000000</td>\n",
       "      <td>0.999047</td>\n",
       "    </tr>\n",
       "    <tr>\n",
       "      <th>19</th>\n",
       "      <td>C3030</td>\n",
       "      <td>0.991549</td>\n",
       "      <td>0.997167</td>\n",
       "      <td>0.994350</td>\n",
       "    </tr>\n",
       "    <tr>\n",
       "      <th>20</th>\n",
       "      <td>D1010</td>\n",
       "      <td>1.000000</td>\n",
       "      <td>1.000000</td>\n",
       "      <td>1.000000</td>\n",
       "    </tr>\n",
       "    <tr>\n",
       "      <th>21</th>\n",
       "      <td>D1020</td>\n",
       "      <td>1.000000</td>\n",
       "      <td>1.000000</td>\n",
       "      <td>1.000000</td>\n",
       "    </tr>\n",
       "    <tr>\n",
       "      <th>22</th>\n",
       "      <td>D1090</td>\n",
       "      <td>1.000000</td>\n",
       "      <td>0.954545</td>\n",
       "      <td>0.976744</td>\n",
       "    </tr>\n",
       "    <tr>\n",
       "      <th>23</th>\n",
       "      <td>D2010</td>\n",
       "      <td>1.000000</td>\n",
       "      <td>1.000000</td>\n",
       "      <td>1.000000</td>\n",
       "    </tr>\n",
       "    <tr>\n",
       "      <th>24</th>\n",
       "      <td>D2020</td>\n",
       "      <td>1.000000</td>\n",
       "      <td>1.000000</td>\n",
       "      <td>1.000000</td>\n",
       "    </tr>\n",
       "    <tr>\n",
       "      <th>25</th>\n",
       "      <td>D2030</td>\n",
       "      <td>0.937500</td>\n",
       "      <td>0.882353</td>\n",
       "      <td>0.909091</td>\n",
       "    </tr>\n",
       "    <tr>\n",
       "      <th>26</th>\n",
       "      <td>D2040</td>\n",
       "      <td>0.000000</td>\n",
       "      <td>0.000000</td>\n",
       "      <td>0.000000</td>\n",
       "    </tr>\n",
       "    <tr>\n",
       "      <th>27</th>\n",
       "      <td>D2090</td>\n",
       "      <td>1.000000</td>\n",
       "      <td>1.000000</td>\n",
       "      <td>1.000000</td>\n",
       "    </tr>\n",
       "    <tr>\n",
       "      <th>28</th>\n",
       "      <td>D3010</td>\n",
       "      <td>1.000000</td>\n",
       "      <td>1.000000</td>\n",
       "      <td>1.000000</td>\n",
       "    </tr>\n",
       "    <tr>\n",
       "      <th>29</th>\n",
       "      <td>D3020</td>\n",
       "      <td>0.888889</td>\n",
       "      <td>0.941176</td>\n",
       "      <td>0.914286</td>\n",
       "    </tr>\n",
       "    <tr>\n",
       "      <th>30</th>\n",
       "      <td>D3030</td>\n",
       "      <td>0.985915</td>\n",
       "      <td>1.000000</td>\n",
       "      <td>0.992908</td>\n",
       "    </tr>\n",
       "    <tr>\n",
       "      <th>31</th>\n",
       "      <td>D3040</td>\n",
       "      <td>0.995935</td>\n",
       "      <td>0.991903</td>\n",
       "      <td>0.993915</td>\n",
       "    </tr>\n",
       "    <tr>\n",
       "      <th>32</th>\n",
       "      <td>D3050</td>\n",
       "      <td>0.981081</td>\n",
       "      <td>1.000000</td>\n",
       "      <td>0.990450</td>\n",
       "    </tr>\n",
       "    <tr>\n",
       "      <th>33</th>\n",
       "      <td>D3060</td>\n",
       "      <td>1.000000</td>\n",
       "      <td>1.000000</td>\n",
       "      <td>1.000000</td>\n",
       "    </tr>\n",
       "    <tr>\n",
       "      <th>34</th>\n",
       "      <td>D3070</td>\n",
       "      <td>0.956522</td>\n",
       "      <td>1.000000</td>\n",
       "      <td>0.977778</td>\n",
       "    </tr>\n",
       "    <tr>\n",
       "      <th>35</th>\n",
       "      <td>D4010</td>\n",
       "      <td>1.000000</td>\n",
       "      <td>1.000000</td>\n",
       "      <td>1.000000</td>\n",
       "    </tr>\n",
       "    <tr>\n",
       "      <th>36</th>\n",
       "      <td>D4020</td>\n",
       "      <td>1.000000</td>\n",
       "      <td>1.000000</td>\n",
       "      <td>1.000000</td>\n",
       "    </tr>\n",
       "    <tr>\n",
       "      <th>37</th>\n",
       "      <td>D4030</td>\n",
       "      <td>1.000000</td>\n",
       "      <td>1.000000</td>\n",
       "      <td>1.000000</td>\n",
       "    </tr>\n",
       "    <tr>\n",
       "      <th>38</th>\n",
       "      <td>D4090</td>\n",
       "      <td>1.000000</td>\n",
       "      <td>1.000000</td>\n",
       "      <td>1.000000</td>\n",
       "    </tr>\n",
       "    <tr>\n",
       "      <th>39</th>\n",
       "      <td>D5010</td>\n",
       "      <td>0.970297</td>\n",
       "      <td>0.960784</td>\n",
       "      <td>0.965517</td>\n",
       "    </tr>\n",
       "    <tr>\n",
       "      <th>40</th>\n",
       "      <td>D5020</td>\n",
       "      <td>0.981550</td>\n",
       "      <td>0.970803</td>\n",
       "      <td>0.976147</td>\n",
       "    </tr>\n",
       "    <tr>\n",
       "      <th>41</th>\n",
       "      <td>D5030</td>\n",
       "      <td>1.000000</td>\n",
       "      <td>0.931298</td>\n",
       "      <td>0.964427</td>\n",
       "    </tr>\n",
       "    <tr>\n",
       "      <th>42</th>\n",
       "      <td>D5090</td>\n",
       "      <td>0.950495</td>\n",
       "      <td>0.989691</td>\n",
       "      <td>0.969697</td>\n",
       "    </tr>\n",
       "    <tr>\n",
       "      <th>43</th>\n",
       "      <td>E1010</td>\n",
       "      <td>1.000000</td>\n",
       "      <td>1.000000</td>\n",
       "      <td>1.000000</td>\n",
       "    </tr>\n",
       "    <tr>\n",
       "      <th>44</th>\n",
       "      <td>E1020</td>\n",
       "      <td>1.000000</td>\n",
       "      <td>0.833333</td>\n",
       "      <td>0.909091</td>\n",
       "    </tr>\n",
       "    <tr>\n",
       "      <th>45</th>\n",
       "      <td>E1030</td>\n",
       "      <td>1.000000</td>\n",
       "      <td>1.000000</td>\n",
       "      <td>1.000000</td>\n",
       "    </tr>\n",
       "    <tr>\n",
       "      <th>46</th>\n",
       "      <td>E1090</td>\n",
       "      <td>0.963636</td>\n",
       "      <td>0.981481</td>\n",
       "      <td>0.972477</td>\n",
       "    </tr>\n",
       "    <tr>\n",
       "      <th>47</th>\n",
       "      <td>E2010</td>\n",
       "      <td>1.000000</td>\n",
       "      <td>1.000000</td>\n",
       "      <td>1.000000</td>\n",
       "    </tr>\n",
       "    <tr>\n",
       "      <th>48</th>\n",
       "      <td>E2020</td>\n",
       "      <td>1.000000</td>\n",
       "      <td>1.000000</td>\n",
       "      <td>1.000000</td>\n",
       "    </tr>\n",
       "  </tbody>\n",
       "</table>\n",
       "</div>"
      ],
      "text/plain": [
       "    Class  Precision    Recall  F1 Score\n",
       "0   A1010   0.970588  0.985075  0.977778\n",
       "1   A1020   1.000000  0.983607  0.991736\n",
       "2   A1030   0.972603  1.000000  0.986111\n",
       "3   A2010   0.986667  1.000000  0.993289\n",
       "4   A2020   1.000000  0.846154  0.916667\n",
       "5   B1010   0.998014  0.998014  0.998014\n",
       "6   B1020   0.969466  0.969466  0.969466\n",
       "7   B2010   0.996396  1.000000  0.998195\n",
       "8   B2020   1.000000  1.000000  1.000000\n",
       "9   B2030   1.000000  0.933333  0.965517\n",
       "10  B3010   0.966667  0.950820  0.958678\n",
       "11  B3020   1.000000  1.000000  1.000000\n",
       "12  C1010   0.928196  0.998117  0.961887\n",
       "13  C1020   1.000000  1.000000  1.000000\n",
       "14  C1030   0.982143  1.000000  0.990991\n",
       "15  C2010   1.000000  0.524390  0.688000\n",
       "16  C2020   1.000000  1.000000  1.000000\n",
       "17  C3010   1.000000  0.992212  0.996091\n",
       "18  C3020   0.998095  1.000000  0.999047\n",
       "19  C3030   0.991549  0.997167  0.994350\n",
       "20  D1010   1.000000  1.000000  1.000000\n",
       "21  D1020   1.000000  1.000000  1.000000\n",
       "22  D1090   1.000000  0.954545  0.976744\n",
       "23  D2010   1.000000  1.000000  1.000000\n",
       "24  D2020   1.000000  1.000000  1.000000\n",
       "25  D2030   0.937500  0.882353  0.909091\n",
       "26  D2040   0.000000  0.000000  0.000000\n",
       "27  D2090   1.000000  1.000000  1.000000\n",
       "28  D3010   1.000000  1.000000  1.000000\n",
       "29  D3020   0.888889  0.941176  0.914286\n",
       "30  D3030   0.985915  1.000000  0.992908\n",
       "31  D3040   0.995935  0.991903  0.993915\n",
       "32  D3050   0.981081  1.000000  0.990450\n",
       "33  D3060   1.000000  1.000000  1.000000\n",
       "34  D3070   0.956522  1.000000  0.977778\n",
       "35  D4010   1.000000  1.000000  1.000000\n",
       "36  D4020   1.000000  1.000000  1.000000\n",
       "37  D4030   1.000000  1.000000  1.000000\n",
       "38  D4090   1.000000  1.000000  1.000000\n",
       "39  D5010   0.970297  0.960784  0.965517\n",
       "40  D5020   0.981550  0.970803  0.976147\n",
       "41  D5030   1.000000  0.931298  0.964427\n",
       "42  D5090   0.950495  0.989691  0.969697\n",
       "43  E1010   1.000000  1.000000  1.000000\n",
       "44  E1020   1.000000  0.833333  0.909091\n",
       "45  E1030   1.000000  1.000000  1.000000\n",
       "46  E1090   0.963636  0.981481  0.972477\n",
       "47  E2010   1.000000  1.000000  1.000000\n",
       "48  E2020   1.000000  1.000000  1.000000"
      ]
     },
     "execution_count": 23,
     "metadata": {},
     "output_type": "execute_result"
    }
   ],
   "source": [
    "precision, recall, f1, _ = precision_recall_fscore_support(true_labels, pred_labels, average=None, zero_division=0)\n",
    "\n",
    "class_names = label_encoder.inverse_transform(list(set(true_labels)))\n",
    "\n",
    "performance_df = pd.DataFrame({\n",
    "    'Class': class_names,\n",
    "    'Precision': precision,\n",
    "    'Recall': recall,\n",
    "    'F1 Score': f1\n",
    "})\n",
    "performance_df.to_csv(f'experimental_results/{experiment_name}_precision_recall_fscore_rseed{rseed}.csv')\n",
    "performance_df"
   ]
  },
  {
   "cell_type": "code",
   "execution_count": 24,
   "metadata": {},
   "outputs": [
    {
     "data": {
      "text/html": [
       "<div>\n",
       "<style scoped>\n",
       "    .dataframe tbody tr th:only-of-type {\n",
       "        vertical-align: middle;\n",
       "    }\n",
       "\n",
       "    .dataframe tbody tr th {\n",
       "        vertical-align: top;\n",
       "    }\n",
       "\n",
       "    .dataframe thead th {\n",
       "        text-align: right;\n",
       "    }\n",
       "</style>\n",
       "<table border=\"1\" class=\"dataframe\">\n",
       "  <thead>\n",
       "    <tr style=\"text-align: right;\">\n",
       "      <th></th>\n",
       "      <th>Class</th>\n",
       "      <th>Precision</th>\n",
       "      <th>Recall</th>\n",
       "      <th>F1 Score</th>\n",
       "      <th>Total Sample Size</th>\n",
       "    </tr>\n",
       "  </thead>\n",
       "  <tbody>\n",
       "    <tr>\n",
       "      <th>11</th>\n",
       "      <td>B3020</td>\n",
       "      <td>1.0</td>\n",
       "      <td>1.0</td>\n",
       "      <td>1.0</td>\n",
       "      <td>6</td>\n",
       "    </tr>\n",
       "    <tr>\n",
       "      <th>26</th>\n",
       "      <td>D2040</td>\n",
       "      <td>0.0</td>\n",
       "      <td>0.0</td>\n",
       "      <td>0.0</td>\n",
       "      <td>2</td>\n",
       "    </tr>\n",
       "    <tr>\n",
       "      <th>27</th>\n",
       "      <td>D2090</td>\n",
       "      <td>1.0</td>\n",
       "      <td>1.0</td>\n",
       "      <td>1.0</td>\n",
       "      <td>5</td>\n",
       "    </tr>\n",
       "    <tr>\n",
       "      <th>45</th>\n",
       "      <td>E1030</td>\n",
       "      <td>1.0</td>\n",
       "      <td>1.0</td>\n",
       "      <td>1.0</td>\n",
       "      <td>3</td>\n",
       "    </tr>\n",
       "  </tbody>\n",
       "</table>\n",
       "</div>"
      ],
      "text/plain": [
       "    Class  Precision  Recall  F1 Score  Total Sample Size\n",
       "11  B3020        1.0     1.0       1.0                  6\n",
       "26  D2040        0.0     0.0       0.0                  2\n",
       "27  D2090        1.0     1.0       1.0                  5\n",
       "45  E1030        1.0     1.0       1.0                  3"
      ]
     },
     "execution_count": 24,
     "metadata": {},
     "output_type": "execute_result"
    }
   ],
   "source": [
    "# Scarce labels (less than 10)\n",
    "performance_df['Total Sample Size'] = label_cnt[performance_df['Class']].values\n",
    "performance_df[performance_df['Total Sample Size'] < 10]  # only when F1 Score can be calculated"
   ]
  },
  {
   "cell_type": "code",
   "execution_count": 25,
   "metadata": {},
   "outputs": [
    {
     "name": "stdout",
     "output_type": "stream",
     "text": [
      "Elapsed time:  47.43694505294164  minutes\n"
     ]
    }
   ],
   "source": [
    "print('Elapsed time: ', (time.time() - start_time)/60, ' minutes')"
   ]
  }
 ],
 "metadata": {
  "kernelspec": {
   "display_name": "Python 3",
   "language": "python",
   "name": "python3"
  },
  "language_info": {
   "codemirror_mode": {
    "name": "ipython",
    "version": 3
   },
   "file_extension": ".py",
   "mimetype": "text/x-python",
   "name": "python",
   "nbconvert_exporter": "python",
   "pygments_lexer": "ipython3",
   "version": "3.11.6"
  }
 },
 "nbformat": 4,
 "nbformat_minor": 2
}
