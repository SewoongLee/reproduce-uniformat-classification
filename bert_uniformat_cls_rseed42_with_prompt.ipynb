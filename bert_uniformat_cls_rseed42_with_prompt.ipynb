{
 "cells": [
  {
   "cell_type": "markdown",
   "metadata": {},
   "source": [
    "## Reproduction of the UniformatBridge model implementation\n",
    "\n",
    "- This is an **_unofficial_** reproduction of the experiment described in \"Transformer language model for mapping construction schedule activities to uniformat categories\" by Yoonhwa Jung, Julia Hockenmaier, and Mani Golparvar-Fard, 2024.\n",
    "- The study can be accessed at https://doi.org/10.1016/j.autcon.2023.105183."
   ]
  },
  {
   "cell_type": "code",
   "execution_count": 1,
   "metadata": {},
   "outputs": [
    {
     "name": "stdout",
     "output_type": "stream",
     "text": [
      "Python 3.11.6\n"
     ]
    }
   ],
   "source": [
    "!python -V"
   ]
  },
  {
   "cell_type": "code",
   "execution_count": 2,
   "metadata": {},
   "outputs": [],
   "source": [
    "# 6p: \"Five epochs with a batch size of 32, a dropout rate of 0.1, and a learning rate of 1.5e−5 were used to fine-tune the model.\"\n",
    "epoch_size = 1#5\n",
    "batch_size = 32\n",
    "dropout_rate = 0.1  # BertForSequenceClassification default dropout_rate = 0.1\n",
    "learning_rate = 1.5e-5\n",
    "\n",
    "rseed = 42  # 7p: \"In Table 2 and 3, 𝜇 is the average performance on three random seeds, and 𝜎 is their standard deviation.\"\n",
    "dataset_path = \"E:/_datasets/jung_et_al_2024/\"  # Data should not be shared publicly.\n",
    "experiment_name = 'with_prompt'"
   ]
  },
  {
   "cell_type": "code",
   "execution_count": 3,
   "metadata": {},
   "outputs": [
    {
     "data": {
      "text/plain": [
       "device(type='cuda')"
      ]
     },
     "execution_count": 3,
     "metadata": {},
     "output_type": "execute_result"
    }
   ],
   "source": [
    "import torch\n",
    "device = torch.device(\"cuda\" if torch.cuda.is_available() else \"cpu\")\n",
    "device"
   ]
  },
  {
   "cell_type": "markdown",
   "metadata": {},
   "source": [
    "### Data"
   ]
  },
  {
   "cell_type": "markdown",
   "metadata": {},
   "source": [
    "#### BIM and ASTM Uniformat categories"
   ]
  },
  {
   "cell_type": "code",
   "execution_count": 4,
   "metadata": {},
   "outputs": [],
   "source": [
    "import pandas as pd\n",
    "df = pd.read_excel(dataset_path+\"0-overall-level3.xlsx\", header=0)\n",
    "\n",
    "cls = 'Level3'\n",
    "df = df.loc[:, ['predwbs2', 'predwbs', 'predtask', 'wbs2', 'wbs', 'name', 'sucwbs2', 'sucwbs', 'suctask', cls]]"
   ]
  },
  {
   "cell_type": "code",
   "execution_count": 5,
   "metadata": {},
   "outputs": [
    {
     "data": {
      "text/plain": [
       "('CONSTRUCTION SUPERSTRUCTURE > Roof > Set Mechanical Equipment [pred] CONSTRUCTION SUPERSTRUCTURE > Roof > Pipe Mechanical Equipment [succ]  100 KINGSHIGHWAY > COMMISSIONNG & INSPECTIONS > STARTUP',\n",
       " 'D2040')"
      ]
     },
     "execution_count": 5,
     "metadata": {},
     "output_type": "execute_result"
    }
   ],
   "source": [
    "new_tokens = ['[pred]', '[succ]']\n",
    "\n",
    "df['text'] = df.apply(\n",
    "    lambda row: f\"{row['predwbs2']} > {row['predwbs']} > {row['predtask']} [pred] {row['wbs2']} > {row['wbs']} > {row['name']} [succ] {row['sucwbs2']} > {row['sucwbs']} > {row['suctask']}\",\n",
    "    axis=1\n",
    ")\n",
    "df['label'] = df[cls]\n",
    "\n",
    "print_idx = 6538  # D2040: 'Rain Water Drainage' case in Table 4\n",
    "df['text'][print_idx], df['label'][print_idx]"
   ]
  },
  {
   "cell_type": "code",
   "execution_count": 6,
   "metadata": {},
   "outputs": [
    {
     "data": {
      "text/plain": [
       "(20469, 6823, 6824)"
      ]
     },
     "execution_count": 6,
     "metadata": {},
     "output_type": "execute_result"
    }
   ],
   "source": [
    "from sklearn.model_selection import train_test_split\n",
    "\n",
    "texts = df['text']\n",
    "labels = df['label']\n",
    "\n",
    "# 6p: \"This dataset is further split into training, validation, and testing using a 60-20-20 distribution.\"\n",
    "train_texts, temp_texts, train_labels, temp_labels = train_test_split(texts, labels, test_size=0.4, random_state=rseed)\n",
    "validation_texts, test_texts, validation_labels, test_labels = train_test_split(temp_texts, temp_labels, test_size=0.5, random_state=rseed)\n",
    "\n",
    "(len(train_texts), len(validation_texts), len(test_texts))"
   ]
  },
  {
   "cell_type": "code",
   "execution_count": 7,
   "metadata": {},
   "outputs": [],
   "source": [
    "from sklearn.preprocessing import LabelEncoder\n",
    "\n",
    "label_encoder = LabelEncoder()\n",
    "encoded_labels = label_encoder.fit_transform(labels)"
   ]
  },
  {
   "cell_type": "code",
   "execution_count": 8,
   "metadata": {},
   "outputs": [],
   "source": [
    "# import torch\n",
    "\n",
    "# # Move to device\n",
    "# train_labels_encoded = torch.tensor(encoded_labels[train_texts.index], dtype=torch.long).to(device)\n",
    "# validation_labels_encoded = torch.tensor(encoded_labels[validation_texts.index], dtype=torch.long).to(device)\n",
    "# test_labels_encoded = torch.tensor(encoded_labels[test_texts.index], dtype=torch.long).to(device)"
   ]
  },
  {
   "cell_type": "markdown",
   "metadata": {},
   "source": [
    "### Tokenize"
   ]
  },
  {
   "cell_type": "code",
   "execution_count": 9,
   "metadata": {},
   "outputs": [],
   "source": [
    "model_name = 'bert-base-uncased'\n",
    "\n",
    "from transformers import BertTokenizer, BertForSequenceClassification\n",
    "tokenizer = BertTokenizer.from_pretrained(model_name)\n",
    "model = BertForSequenceClassification.from_pretrained(model_name, num_labels=len(set(encoded_labels))).to(device)\n",
    "\n",
    "tokenizer.add_tokens(new_tokens)\n",
    "model.resize_token_embeddings(len(tokenizer))\n",
    "\n",
    "tokenizer, model"
   ]
  },
  {
   "cell_type": "markdown",
   "metadata": {},
   "source": [
    "#### Tokenize a sequence of schedule activities (Texts)"
   ]
  },
  {
   "cell_type": "code",
   "execution_count": null,
   "metadata": {},
   "outputs": [
    {
     "data": {
      "text/plain": [
       "tensor([[  101,  2810, 28391,  1028,  4412,  1028,  2275,  6228,  3941, 30522,\n",
       "          2810, 28391,  1028,  4412,  1028,  8667,  6228,  3941, 30523,  2531,\n",
       "          5465,  4048,  5603,  4576,  1028,  3222,  3070,  1004, 29589,  1028,\n",
       "         22752,   102]])"
      ]
     },
     "execution_count": 11,
     "metadata": {},
     "output_type": "execute_result"
    }
   ],
   "source": [
    "def encode(texts):\n",
    "    return tokenizer(texts, padding=True, truncation=True, return_tensors=\"pt\", max_length=512)\n",
    "\n",
    "encode(df['text'][print_idx])['input_ids']"
   ]
  },
  {
   "cell_type": "code",
   "execution_count": null,
   "metadata": {},
   "outputs": [
    {
     "name": "stdout",
     "output_type": "stream",
     "text": [
      "torch.Size([20469, 148]) torch.Size([20469, 148]) torch.Size([20469])\n",
      "torch.Size([6823, 147]) torch.Size([6823, 147]) torch.Size([6823])\n",
      "torch.Size([6824, 150]) torch.Size([6824, 150]) torch.Size([6824])\n"
     ]
    }
   ],
   "source": [
    "from torch.utils.data import TensorDataset, DataLoader\n",
    "\n",
    "def make_dataloader(plain_texts, encoded_labels, batch_size=32):\n",
    "    '''\n",
    "    plain_texts: list of strings (should be encoded when making dataloader due to tokenizer padding/truncation)\n",
    "    encoded_labels: list of class indices (should be encoded beforehand using LabelEncoder with the entire dataset)\n",
    "    '''\n",
    "    texts = encode(plain_texts).to(device)\n",
    "    labels = torch.tensor(encoded_labels, dtype=torch.long).to(device)\n",
    "    dataset = TensorDataset(\n",
    "        texts['input_ids'], \n",
    "        texts['attention_mask'], \n",
    "        labels,\n",
    "    )\n",
    "    return DataLoader(dataset, batch_size=batch_size)\n",
    "\n",
    "train_labels_encoded = encoded_labels[train_texts.index]\n",
    "validation_labels_encoded = encoded_labels[validation_texts.index]\n",
    "test_labels_encoded = encoded_labels[test_texts.index]\n",
    "\n",
    "train_loader = make_dataloader(train_texts.tolist(), train_labels_encoded, batch_size)\n",
    "validation_loader = make_dataloader(validation_texts.tolist(), validation_labels_encoded, batch_size)\n",
    "test_loader = make_dataloader(test_texts.tolist(), test_labels_encoded, batch_size)"
   ]
  },
  {
   "cell_type": "code",
   "execution_count": null,
   "metadata": {},
   "outputs": [],
   "source": [
    "# # Move to device\n",
    "# train_encodings = encode(train_texts.tolist()).to(device)\n",
    "# validation_encodings = encode(validation_texts.tolist()).to(device)\n",
    "# test_encodings = encode(test_texts.tolist()).to(device)"
   ]
  },
  {
   "cell_type": "markdown",
   "metadata": {},
   "source": [
    "#### Make DataLoader (Texts & Labels)"
   ]
  },
  {
   "cell_type": "code",
   "execution_count": null,
   "metadata": {},
   "outputs": [],
   "source": [
    "# from torch.utils.data import TensorDataset\n",
    "\n",
    "# # attention_mask is 1 for real tokens and 0 for padding tokens\n",
    "# train_dataset = TensorDataset(train_encodings['input_ids'], train_encodings['attention_mask'], train_labels_encoded)\n",
    "# validation_dataset = TensorDataset(validation_encodings['input_ids'], validation_encodings['attention_mask'], validation_labels_encoded)\n",
    "# test_dataset = TensorDataset(test_encodings['input_ids'], test_encodings['attention_mask'], test_labels_encoded)"
   ]
  },
  {
   "cell_type": "code",
   "execution_count": null,
   "metadata": {},
   "outputs": [],
   "source": [
    "# from torch.utils.data import DataLoader\n",
    "\n",
    "# train_loader = DataLoader(train_dataset, batch_size=batch_size, shuffle=True)\n",
    "# validation_loader = DataLoader(validation_dataset, batch_size=batch_size, shuffle=False)\n",
    "# test_loader = DataLoader(test_dataset, batch_size=batch_size, shuffle=False)"
   ]
  },
  {
   "cell_type": "markdown",
   "metadata": {},
   "source": [
    "#### ★ Additional Datasets: ASTM Uniformat II Classification for Building Elements Description\n",
    "- https://www.govinfo.gov/content/pkg/GOVPUB-C13-5af96252bc88826c911daac93c449927/pdf/GOVPUB-C13-5af96252bc88826c911daac93c449927.pdf"
   ]
  },
  {
   "cell_type": "code",
   "execution_count": null,
   "metadata": {},
   "outputs": [],
   "source": [
    "# import pandas as pd\n",
    "\n",
    "# # Publicly available definition of ASTM Uniformat II + CoT Prompt\n",
    "# df_astm = pd.read_csv(\"public_astm_uniformat_ii_classification.csv\", header=0)\n",
    "\n",
    "# astm_labels = df_astm.apply(\n",
    "#     lambda row: f\"[{row['Class']}]\",\n",
    "#     axis=1\n",
    "# )\n",
    "# df_astm = df_astm[astm_labels.isin(label_encoder.classes_)] # Use only the classes that are in the dataset\n",
    "# df_astm"
   ]
  },
  {
   "cell_type": "markdown",
   "metadata": {},
   "source": [
    "#### ★ Additional Datasets: Data augmentation with GPT-2"
   ]
  },
  {
   "cell_type": "code",
   "execution_count": null,
   "metadata": {},
   "outputs": [],
   "source": [
    "# from transformers import GPT2Tokenizer, GPT2LMHeadModel\n",
    "\n",
    "# gpt2_tokenizer = GPT2Tokenizer.from_pretrained('gpt2')\n",
    "# gpt2_model = GPT2LMHeadModel.from_pretrained('gpt2')\n",
    "\n",
    "# def generate_with_gpt2(prompt_text, max_len=100, repetition_penalty=1.2):\n",
    "#     inputs = gpt2_tokenizer.encode(prompt_text, return_tensors='pt')\n",
    "#     outputs = gpt2_model.generate(\n",
    "#         inputs, \n",
    "#         pad_token_id=gpt2_tokenizer.eos_token_id, \n",
    "#         max_length=max_len, \n",
    "#         # do_sample=True, temperature=0.9, # Probabilistic\n",
    "#         repetition_penalty=repetition_penalty # Deterministic\n",
    "#     )\n",
    "#     generated_text = gpt2_tokenizer.decode(outputs[0])\n",
    "\n",
    "#     return generated_text\n",
    "\n",
    "# generate_with_gpt2(\"Once upon a time,\")"
   ]
  },
  {
   "cell_type": "code",
   "execution_count": null,
   "metadata": {},
   "outputs": [],
   "source": [
    "# # Intuition\n",
    "# generate_with_gpt2(\"Examples of building structure components for services of plumbing and rain water drainage are\")"
   ]
  },
  {
   "cell_type": "code",
   "execution_count": null,
   "metadata": {},
   "outputs": [],
   "source": [
    "# def generate_with_gpt2_for_astm(level1, level2, level3):\n",
    "#     prompt = f\"Examples of building structure components for {level1.lower()} of {level2.lower()} and {level3.lower()} are\"\n",
    "#     return level1 + \" \" + level2 + \" \" + level3 + \" \" + repr(generate_with_gpt2(prompt)[len(prompt):])\n",
    "\n",
    "# generate_with_gpt2_for_astm(\"SERVICES\", \"Plumbing\", \"Rain Water Drainage\")  # D2040 in ASTM Uniformat"
   ]
  },
  {
   "cell_type": "code",
   "execution_count": null,
   "metadata": {},
   "outputs": [],
   "source": [
    "# # astm_texts = df_astm.apply(\n",
    "# #     lambda row: f\"[pred] {generate_with_gpt2_for_astm(row['Level1'], row['Level2'], row['Level3'])} [succ]\",\n",
    "# #     axis=1\n",
    "# # )\n",
    "\n",
    "\n",
    "# # # Test # TODO: delete\n",
    "# astm_texts = pd.concat([\n",
    "#     pd.Series(100*[\"CONSTRUCTION SUPERSTRUCTURE > Roof > Set Mechanical Equipment [pred] CONSTRUCTION SUPERSTRUCTURE > Roof > Pipe Mechanical Equipment [succ]  100 KINGSHIGHWAY > COMMISSIONNG & INSPECTIONS > STARTUP\"]),\n",
    "#     pd.Series(100*[\"Garage Garage Structure | MEP FP | Finishes > LL1 > OH Sprinkler Piping Rough In LL1 [pred] Garage Garage Structure | MEP FP | Finishes > LL1 > OH Storm Drainage Piping Rough In LL1 [succ] Garage Garage Structure | MEP FP | Finishes > LL1 > Install Pipe Guards | Bollards LL1\"]),\n",
    "# ])\n",
    "# astm_labels = pd.Series([\"[D2040]\"]*200)\n",
    "\n",
    "# for i in range(5):\n",
    "#     print(astm_texts[i], '...', astm_labels[i])"
   ]
  },
  {
   "cell_type": "markdown",
   "metadata": {},
   "source": [
    "#### ★ Additional DataLoader from ASTM Uniformat class definition"
   ]
  },
  {
   "cell_type": "code",
   "execution_count": null,
   "metadata": {},
   "outputs": [],
   "source": [
    "# astm_loader = make_dataloader(astm_texts.tolist(), label_encoder.transform(astm_labels.tolist()), batch_size)"
   ]
  },
  {
   "cell_type": "markdown",
   "metadata": {},
   "source": [
    "#### Make DataLoader"
   ]
  },
  {
   "cell_type": "code",
   "execution_count": null,
   "metadata": {},
   "outputs": [],
   "source": [
    "# from torch.utils.data import ConcatDataset\n",
    "\n",
    "# merged_dataset = ConcatDataset([train_dataset, astm_dataset])\n",
    "# merged_dataset = ConcatDataset([train_dataset, validation_dataset, test_dataset]) # For testing\n",
    "# merged_loader = DataLoader(merged_dataset, batch_size=batch_size, shuffle=True)\n",
    "\n",
    "# train_loader = merged_loader"
   ]
  },
  {
   "cell_type": "code",
   "execution_count": null,
   "metadata": {},
   "outputs": [
    {
     "data": {
      "text/plain": [
       "Adam (\n",
       "Parameter Group 0\n",
       "    amsgrad: False\n",
       "    betas: (0.9, 0.999)\n",
       "    capturable: False\n",
       "    differentiable: False\n",
       "    eps: 1e-08\n",
       "    foreach: None\n",
       "    fused: None\n",
       "    lr: 1.5e-05\n",
       "    maximize: False\n",
       "    weight_decay: 0\n",
       ")"
      ]
     },
     "execution_count": 23,
     "metadata": {},
     "output_type": "execute_result"
    }
   ],
   "source": [
    "optimizer = torch.optim.Adam(model.parameters(), lr=learning_rate)\n",
    "optimizer"
   ]
  },
  {
   "cell_type": "markdown",
   "metadata": {},
   "source": [
    "#### ★ Additional fine-tuning with publicly available ASTM Uniformat II classification"
   ]
  },
  {
   "cell_type": "code",
   "execution_count": null,
   "metadata": {},
   "outputs": [],
   "source": [
    "# from tqdm import tqdm\n",
    "\n",
    "# losses = []\n",
    "# for epoch in tqdm(range(200)):\n",
    "#     model.train()\n",
    "#     total_loss = 0\n",
    "#     for input_ids, attention_mask, labels in astm_loader:\n",
    "#         model.zero_grad()\n",
    "#         outputs = model(input_ids=input_ids, attention_mask=attention_mask, labels=labels)\n",
    "#         loss = outputs.loss\n",
    "#         total_loss += loss.item()\n",
    "#         loss.backward()\n",
    "#         optimizer.step()\n",
    "#     losses.append(total_loss / len(astm_loader))\n",
    "\n",
    "# import matplotlib.pyplot as plt\n",
    "# plt.plot(losses)\n",
    "# plt.title('Loss')\n",
    "# plt.xlabel('Epoch')\n",
    "# plt.show()"
   ]
  },
  {
   "cell_type": "markdown",
   "metadata": {},
   "source": [
    "### Fine-tuning (Train & Validation)"
   ]
  },
  {
   "cell_type": "code",
   "execution_count": null,
   "metadata": {},
   "outputs": [
    {
     "name": "stderr",
     "output_type": "stream",
     "text": [
      "100%|██████████| 640/640 [02:11<00:00,  4.85it/s]\n"
     ]
    },
    {
     "name": "stdout",
     "output_type": "stream",
     "text": [
      "Epoch 1 | Train Loss: 1.7982293508481235 | Validation Loss: 0.5864716092838305\n"
     ]
    },
    {
     "data": {
      "image/png": "[encoded data removed]",
      "text/plain": [
       "<Figure size 640x480 with 1 Axes>"
      ]
     },
     "metadata": {},
     "output_type": "display_data"
    }
   ],
   "source": [
    "from tqdm import tqdm\n",
    "\n",
    "train_losses = []\n",
    "val_losses = []\n",
    "for epoch in range(epoch_size):\n",
    "    model.train()\n",
    "    train_loss = 0\n",
    "    for input_ids, attention_mask, labels in tqdm(train_loader):\n",
    "        model.zero_grad()\n",
    "        outputs = model(input_ids=input_ids, attention_mask=attention_mask, labels=labels)\n",
    "        loss = outputs.loss\n",
    "        train_loss += loss.item()\n",
    "        loss.backward()\n",
    "        optimizer.step()\n",
    "    train_losses.append(train_loss / len(train_loader))\n",
    "\n",
    "    # Validation\n",
    "    model.eval()\n",
    "    with torch.no_grad():\n",
    "        val_loss = 0\n",
    "        for input_ids, attention_mask, labels in validation_loader:\n",
    "            outputs = model(input_ids=input_ids, attention_mask=attention_mask, labels=labels)\n",
    "            \n",
    "            loss = outputs.loss\n",
    "            val_loss += loss.item()\n",
    "    val_losses.append(val_loss / len(validation_loader))\n",
    "    print(f\"Epoch {epoch+1} | Train Loss: {train_losses[-1]} | Validation Loss: {val_losses[-1]}\")\n",
    "\n",
    "import matplotlib.pyplot as plt\n",
    "plt.plot(train_losses, label='Training loss')\n",
    "plt.plot(val_losses, label='Validation loss')\n",
    "plt.legend()\n",
    "plt.title('Loss')\n",
    "plt.xlabel('Epoch')\n",
    "plt.show()"
   ]
  },
  {
   "cell_type": "markdown",
   "metadata": {},
   "source": [
    "### Test"
   ]
  },
  {
   "cell_type": "code",
   "execution_count": null,
   "metadata": {},
   "outputs": [],
   "source": [
    "model.eval()\n",
    "with torch.no_grad():\n",
    "    true_labels = []\n",
    "    pred_labels = []\n",
    "    df_test_rows = []\n",
    "    for input_ids, attention_mask, labels in test_loader:\n",
    "        outputs = model(input_ids=input_ids, attention_mask=attention_mask)\n",
    "        pred_labels.extend(torch.argmax(outputs.logits, dim=1).cpu().numpy())\n",
    "        true_labels.extend(labels.cpu().numpy())\n",
    "\n",
    "        for b in range(input_ids.shape[0]):\n",
    "            text = tokenizer.decode([token for i, token in enumerate(input_ids[b]) if attention_mask[b][i] == 1])\n",
    "            pred_label = label_encoder.classes_[torch.argmax(outputs.logits[b]).item()]\n",
    "            true_label = label_encoder.classes_[labels[b].item()]\n",
    "            df_test_rows.append({'text': text, 'true_label': true_label, 'pred_label': pred_label, 'correct': pred_label == true_label})\n",
    "\n",
    "# Data should not be shared publicly.\n",
    "pd.DataFrame(df_test_rows).to_csv(dataset_path+f\"/test_results_{experiment_name}.csv\")"
   ]
  },
  {
   "cell_type": "markdown",
   "metadata": {},
   "source": [
    "### Experimental Results"
   ]
  },
  {
   "cell_type": "markdown",
   "metadata": {},
   "source": [
    "#### Overall Results"
   ]
  },
  {
   "cell_type": "code",
   "execution_count": null,
   "metadata": {},
   "outputs": [
    {
     "name": "stdout",
     "output_type": "stream",
     "text": [
      "Test Accuracy: 0.8992\n",
      "Precision: 0.5523\n",
      "Recall: 0.5283\n",
      "F1 Score: 0.5192\n"
     ]
    }
   ],
   "source": [
    "from sklearn.metrics import accuracy_score, precision_recall_fscore_support\n",
    "\n",
    "accuracy = accuracy_score(true_labels, pred_labels)\n",
    "precision, recall, f1, _ = precision_recall_fscore_support(\n",
    "    true_labels, \n",
    "    pred_labels, \n",
    "    # average='weighted', \n",
    "    average='macro',  # Original paper setting (page 8)\n",
    "    zero_division=0\n",
    ")\n",
    "\n",
    "print(f\"Test Accuracy: {accuracy:.4f}\")\n",
    "print(f\"Precision: {precision:.4f}\")\n",
    "print(f\"Recall: {recall:.4f}\")\n",
    "print(f\"F1 Score: {f1:.4f}\")"
   ]
  },
  {
   "cell_type": "markdown",
   "metadata": {},
   "source": [
    "#### Class-wise Results"
   ]
  },
  {
   "cell_type": "code",
   "execution_count": null,
   "metadata": {},
   "outputs": [
    {
     "data": {
      "text/html": [
       "<div>\n",
       "<style scoped>\n",
       "    .dataframe tbody tr th:only-of-type {\n",
       "        vertical-align: middle;\n",
       "    }\n",
       "\n",
       "    .dataframe tbody tr th {\n",
       "        vertical-align: top;\n",
       "    }\n",
       "\n",
       "    .dataframe thead th {\n",
       "        text-align: right;\n",
       "    }\n",
       "</style>\n",
       "<table border=\"1\" class=\"dataframe\">\n",
       "  <thead>\n",
       "    <tr style=\"text-align: right;\">\n",
       "      <th></th>\n",
       "      <th>Class</th>\n",
       "      <th>Precision</th>\n",
       "      <th>Recall</th>\n",
       "      <th>F1 Score</th>\n",
       "    </tr>\n",
       "  </thead>\n",
       "  <tbody>\n",
       "    <tr>\n",
       "      <th>0</th>\n",
       "      <td>[A1010]</td>\n",
       "      <td>0.636364</td>\n",
       "      <td>0.940299</td>\n",
       "      <td>0.759036</td>\n",
       "    </tr>\n",
       "    <tr>\n",
       "      <th>1</th>\n",
       "      <td>[A1020]</td>\n",
       "      <td>0.838710</td>\n",
       "      <td>0.852459</td>\n",
       "      <td>0.845528</td>\n",
       "    </tr>\n",
       "    <tr>\n",
       "      <th>2</th>\n",
       "      <td>[A1030]</td>\n",
       "      <td>0.836364</td>\n",
       "      <td>0.647887</td>\n",
       "      <td>0.730159</td>\n",
       "    </tr>\n",
       "    <tr>\n",
       "      <th>3</th>\n",
       "      <td>[A2010]</td>\n",
       "      <td>0.981132</td>\n",
       "      <td>0.702703</td>\n",
       "      <td>0.818898</td>\n",
       "    </tr>\n",
       "    <tr>\n",
       "      <th>4</th>\n",
       "      <td>[A2020]</td>\n",
       "      <td>0.000000</td>\n",
       "      <td>0.000000</td>\n",
       "      <td>0.000000</td>\n",
       "    </tr>\n",
       "    <tr>\n",
       "      <th>5</th>\n",
       "      <td>[B1010]</td>\n",
       "      <td>0.976631</td>\n",
       "      <td>0.996028</td>\n",
       "      <td>0.986234</td>\n",
       "    </tr>\n",
       "    <tr>\n",
       "      <th>6</th>\n",
       "      <td>[B1020]</td>\n",
       "      <td>0.645833</td>\n",
       "      <td>0.946565</td>\n",
       "      <td>0.767802</td>\n",
       "    </tr>\n",
       "    <tr>\n",
       "      <th>7</th>\n",
       "      <td>[B2010]</td>\n",
       "      <td>0.966312</td>\n",
       "      <td>0.985533</td>\n",
       "      <td>0.975828</td>\n",
       "    </tr>\n",
       "    <tr>\n",
       "      <th>8</th>\n",
       "      <td>[B2020]</td>\n",
       "      <td>0.987879</td>\n",
       "      <td>1.000000</td>\n",
       "      <td>0.993902</td>\n",
       "    </tr>\n",
       "    <tr>\n",
       "      <th>9</th>\n",
       "      <td>[B2030]</td>\n",
       "      <td>0.000000</td>\n",
       "      <td>0.000000</td>\n",
       "      <td>0.000000</td>\n",
       "    </tr>\n",
       "    <tr>\n",
       "      <th>10</th>\n",
       "      <td>[B3010]</td>\n",
       "      <td>0.000000</td>\n",
       "      <td>0.000000</td>\n",
       "      <td>0.000000</td>\n",
       "    </tr>\n",
       "    <tr>\n",
       "      <th>11</th>\n",
       "      <td>[B3020]</td>\n",
       "      <td>0.000000</td>\n",
       "      <td>0.000000</td>\n",
       "      <td>0.000000</td>\n",
       "    </tr>\n",
       "    <tr>\n",
       "      <th>12</th>\n",
       "      <td>[C1010]</td>\n",
       "      <td>0.911304</td>\n",
       "      <td>0.986817</td>\n",
       "      <td>0.947559</td>\n",
       "    </tr>\n",
       "    <tr>\n",
       "      <th>13</th>\n",
       "      <td>[C1020]</td>\n",
       "      <td>0.820690</td>\n",
       "      <td>0.991667</td>\n",
       "      <td>0.898113</td>\n",
       "    </tr>\n",
       "    <tr>\n",
       "      <th>14</th>\n",
       "      <td>[C1030]</td>\n",
       "      <td>0.721311</td>\n",
       "      <td>0.800000</td>\n",
       "      <td>0.758621</td>\n",
       "    </tr>\n",
       "    <tr>\n",
       "      <th>15</th>\n",
       "      <td>[C2010]</td>\n",
       "      <td>0.977273</td>\n",
       "      <td>0.524390</td>\n",
       "      <td>0.682540</td>\n",
       "    </tr>\n",
       "    <tr>\n",
       "      <th>16</th>\n",
       "      <td>[C2020]</td>\n",
       "      <td>0.000000</td>\n",
       "      <td>0.000000</td>\n",
       "      <td>0.000000</td>\n",
       "    </tr>\n",
       "    <tr>\n",
       "      <th>17</th>\n",
       "      <td>[C3010]</td>\n",
       "      <td>0.975155</td>\n",
       "      <td>0.978193</td>\n",
       "      <td>0.976672</td>\n",
       "    </tr>\n",
       "    <tr>\n",
       "      <th>18</th>\n",
       "      <td>[C3020]</td>\n",
       "      <td>0.897033</td>\n",
       "      <td>0.980916</td>\n",
       "      <td>0.937101</td>\n",
       "    </tr>\n",
       "    <tr>\n",
       "      <th>19</th>\n",
       "      <td>[C3030]</td>\n",
       "      <td>0.956044</td>\n",
       "      <td>0.985836</td>\n",
       "      <td>0.970711</td>\n",
       "    </tr>\n",
       "    <tr>\n",
       "      <th>20</th>\n",
       "      <td>[D1010]</td>\n",
       "      <td>0.958115</td>\n",
       "      <td>1.000000</td>\n",
       "      <td>0.978610</td>\n",
       "    </tr>\n",
       "    <tr>\n",
       "      <th>21</th>\n",
       "      <td>[D1020]</td>\n",
       "      <td>1.000000</td>\n",
       "      <td>1.000000</td>\n",
       "      <td>1.000000</td>\n",
       "    </tr>\n",
       "    <tr>\n",
       "      <th>22</th>\n",
       "      <td>[D1090]</td>\n",
       "      <td>1.000000</td>\n",
       "      <td>0.500000</td>\n",
       "      <td>0.666667</td>\n",
       "    </tr>\n",
       "    <tr>\n",
       "      <th>23</th>\n",
       "      <td>[D2010]</td>\n",
       "      <td>1.000000</td>\n",
       "      <td>0.159091</td>\n",
       "      <td>0.274510</td>\n",
       "    </tr>\n",
       "    <tr>\n",
       "      <th>24</th>\n",
       "      <td>[D2020]</td>\n",
       "      <td>0.860465</td>\n",
       "      <td>0.982301</td>\n",
       "      <td>0.917355</td>\n",
       "    </tr>\n",
       "    <tr>\n",
       "      <th>25</th>\n",
       "      <td>[D2030]</td>\n",
       "      <td>0.000000</td>\n",
       "      <td>0.000000</td>\n",
       "      <td>0.000000</td>\n",
       "    </tr>\n",
       "    <tr>\n",
       "      <th>26</th>\n",
       "      <td>[D2040]</td>\n",
       "      <td>0.000000</td>\n",
       "      <td>0.000000</td>\n",
       "      <td>0.000000</td>\n",
       "    </tr>\n",
       "    <tr>\n",
       "      <th>27</th>\n",
       "      <td>[D2090]</td>\n",
       "      <td>0.000000</td>\n",
       "      <td>0.000000</td>\n",
       "      <td>0.000000</td>\n",
       "    </tr>\n",
       "    <tr>\n",
       "      <th>28</th>\n",
       "      <td>[D3010]</td>\n",
       "      <td>0.000000</td>\n",
       "      <td>0.000000</td>\n",
       "      <td>0.000000</td>\n",
       "    </tr>\n",
       "    <tr>\n",
       "      <th>29</th>\n",
       "      <td>[D3020]</td>\n",
       "      <td>0.000000</td>\n",
       "      <td>0.000000</td>\n",
       "      <td>0.000000</td>\n",
       "    </tr>\n",
       "    <tr>\n",
       "      <th>30</th>\n",
       "      <td>[D3030]</td>\n",
       "      <td>0.704082</td>\n",
       "      <td>0.985714</td>\n",
       "      <td>0.821429</td>\n",
       "    </tr>\n",
       "    <tr>\n",
       "      <th>31</th>\n",
       "      <td>[D3040]</td>\n",
       "      <td>0.807143</td>\n",
       "      <td>0.914980</td>\n",
       "      <td>0.857685</td>\n",
       "    </tr>\n",
       "    <tr>\n",
       "      <th>32</th>\n",
       "      <td>[D3050]</td>\n",
       "      <td>0.966006</td>\n",
       "      <td>0.939394</td>\n",
       "      <td>0.952514</td>\n",
       "    </tr>\n",
       "    <tr>\n",
       "      <th>33</th>\n",
       "      <td>[D3060]</td>\n",
       "      <td>0.000000</td>\n",
       "      <td>0.000000</td>\n",
       "      <td>0.000000</td>\n",
       "    </tr>\n",
       "    <tr>\n",
       "      <th>34</th>\n",
       "      <td>[D3070]</td>\n",
       "      <td>0.000000</td>\n",
       "      <td>0.000000</td>\n",
       "      <td>0.000000</td>\n",
       "    </tr>\n",
       "    <tr>\n",
       "      <th>35</th>\n",
       "      <td>[D4010]</td>\n",
       "      <td>1.000000</td>\n",
       "      <td>1.000000</td>\n",
       "      <td>1.000000</td>\n",
       "    </tr>\n",
       "    <tr>\n",
       "      <th>36</th>\n",
       "      <td>[D4020]</td>\n",
       "      <td>0.916667</td>\n",
       "      <td>0.985075</td>\n",
       "      <td>0.949640</td>\n",
       "    </tr>\n",
       "    <tr>\n",
       "      <th>37</th>\n",
       "      <td>[D4030]</td>\n",
       "      <td>0.000000</td>\n",
       "      <td>0.000000</td>\n",
       "      <td>0.000000</td>\n",
       "    </tr>\n",
       "    <tr>\n",
       "      <th>38</th>\n",
       "      <td>[D4090]</td>\n",
       "      <td>0.000000</td>\n",
       "      <td>0.000000</td>\n",
       "      <td>0.000000</td>\n",
       "    </tr>\n",
       "    <tr>\n",
       "      <th>39</th>\n",
       "      <td>[D5010]</td>\n",
       "      <td>0.829545</td>\n",
       "      <td>0.715686</td>\n",
       "      <td>0.768421</td>\n",
       "    </tr>\n",
       "    <tr>\n",
       "      <th>40</th>\n",
       "      <td>[D5020]</td>\n",
       "      <td>0.852349</td>\n",
       "      <td>0.927007</td>\n",
       "      <td>0.888112</td>\n",
       "    </tr>\n",
       "    <tr>\n",
       "      <th>41</th>\n",
       "      <td>[D5030]</td>\n",
       "      <td>0.592417</td>\n",
       "      <td>0.954198</td>\n",
       "      <td>0.730994</td>\n",
       "    </tr>\n",
       "    <tr>\n",
       "      <th>42</th>\n",
       "      <td>[D5090]</td>\n",
       "      <td>0.800000</td>\n",
       "      <td>0.082474</td>\n",
       "      <td>0.149533</td>\n",
       "    </tr>\n",
       "    <tr>\n",
       "      <th>43</th>\n",
       "      <td>[E1010]</td>\n",
       "      <td>0.000000</td>\n",
       "      <td>0.000000</td>\n",
       "      <td>0.000000</td>\n",
       "    </tr>\n",
       "    <tr>\n",
       "      <th>44</th>\n",
       "      <td>[E1020]</td>\n",
       "      <td>0.000000</td>\n",
       "      <td>0.000000</td>\n",
       "      <td>0.000000</td>\n",
       "    </tr>\n",
       "    <tr>\n",
       "      <th>45</th>\n",
       "      <td>[E1030]</td>\n",
       "      <td>0.000000</td>\n",
       "      <td>0.000000</td>\n",
       "      <td>0.000000</td>\n",
       "    </tr>\n",
       "    <tr>\n",
       "      <th>46</th>\n",
       "      <td>[E1090]</td>\n",
       "      <td>1.000000</td>\n",
       "      <td>0.518519</td>\n",
       "      <td>0.682927</td>\n",
       "    </tr>\n",
       "    <tr>\n",
       "      <th>47</th>\n",
       "      <td>[E2010]</td>\n",
       "      <td>0.649123</td>\n",
       "      <td>0.902439</td>\n",
       "      <td>0.755102</td>\n",
       "    </tr>\n",
       "    <tr>\n",
       "      <th>48</th>\n",
       "      <td>[E2020]</td>\n",
       "      <td>0.000000</td>\n",
       "      <td>0.000000</td>\n",
       "      <td>0.000000</td>\n",
       "    </tr>\n",
       "  </tbody>\n",
       "</table>\n",
       "</div>"
      ],
      "text/plain": [
       "      Class  Precision    Recall  F1 Score\n",
       "0   [A1010]   0.636364  0.940299  0.759036\n",
       "1   [A1020]   0.838710  0.852459  0.845528\n",
       "2   [A1030]   0.836364  0.647887  0.730159\n",
       "3   [A2010]   0.981132  0.702703  0.818898\n",
       "4   [A2020]   0.000000  0.000000  0.000000\n",
       "5   [B1010]   0.976631  0.996028  0.986234\n",
       "6   [B1020]   0.645833  0.946565  0.767802\n",
       "7   [B2010]   0.966312  0.985533  0.975828\n",
       "8   [B2020]   0.987879  1.000000  0.993902\n",
       "9   [B2030]   0.000000  0.000000  0.000000\n",
       "10  [B3010]   0.000000  0.000000  0.000000\n",
       "11  [B3020]   0.000000  0.000000  0.000000\n",
       "12  [C1010]   0.911304  0.986817  0.947559\n",
       "13  [C1020]   0.820690  0.991667  0.898113\n",
       "14  [C1030]   0.721311  0.800000  0.758621\n",
       "15  [C2010]   0.977273  0.524390  0.682540\n",
       "16  [C2020]   0.000000  0.000000  0.000000\n",
       "17  [C3010]   0.975155  0.978193  0.976672\n",
       "18  [C3020]   0.897033  0.980916  0.937101\n",
       "19  [C3030]   0.956044  0.985836  0.970711\n",
       "20  [D1010]   0.958115  1.000000  0.978610\n",
       "21  [D1020]   1.000000  1.000000  1.000000\n",
       "22  [D1090]   1.000000  0.500000  0.666667\n",
       "23  [D2010]   1.000000  0.159091  0.274510\n",
       "24  [D2020]   0.860465  0.982301  0.917355\n",
       "25  [D2030]   0.000000  0.000000  0.000000\n",
       "26  [D2040]   0.000000  0.000000  0.000000\n",
       "27  [D2090]   0.000000  0.000000  0.000000\n",
       "28  [D3010]   0.000000  0.000000  0.000000\n",
       "29  [D3020]   0.000000  0.000000  0.000000\n",
       "30  [D3030]   0.704082  0.985714  0.821429\n",
       "31  [D3040]   0.807143  0.914980  0.857685\n",
       "32  [D3050]   0.966006  0.939394  0.952514\n",
       "33  [D3060]   0.000000  0.000000  0.000000\n",
       "34  [D3070]   0.000000  0.000000  0.000000\n",
       "35  [D4010]   1.000000  1.000000  1.000000\n",
       "36  [D4020]   0.916667  0.985075  0.949640\n",
       "37  [D4030]   0.000000  0.000000  0.000000\n",
       "38  [D4090]   0.000000  0.000000  0.000000\n",
       "39  [D5010]   0.829545  0.715686  0.768421\n",
       "40  [D5020]   0.852349  0.927007  0.888112\n",
       "41  [D5030]   0.592417  0.954198  0.730994\n",
       "42  [D5090]   0.800000  0.082474  0.149533\n",
       "43  [E1010]   0.000000  0.000000  0.000000\n",
       "44  [E1020]   0.000000  0.000000  0.000000\n",
       "45  [E1030]   0.000000  0.000000  0.000000\n",
       "46  [E1090]   1.000000  0.518519  0.682927\n",
       "47  [E2010]   0.649123  0.902439  0.755102\n",
       "48  [E2020]   0.000000  0.000000  0.000000"
      ]
     },
     "execution_count": 28,
     "metadata": {},
     "output_type": "execute_result"
    }
   ],
   "source": [
    "precision, recall, f1, _ = precision_recall_fscore_support(true_labels, pred_labels, average=None, zero_division=0)\n",
    "\n",
    "class_names = label_encoder.inverse_transform(list(set(true_labels)))\n",
    "\n",
    "performance_df = pd.DataFrame({\n",
    "    'Class': class_names,\n",
    "    'Precision': precision,\n",
    "    'Recall': recall,\n",
    "    'F1 Score': f1\n",
    "})\n",
    "performance_df.to_csv(f'experimental_results_rseed{rseed}_{experiment_name}.csv')\n",
    "performance_df"
   ]
  },
  {
   "cell_type": "code",
   "execution_count": null,
   "metadata": {},
   "outputs": [],
   "source": []
  }
 ],
 "metadata": {
  "kernelspec": {
   "display_name": "Python 3",
   "language": "python",
   "name": "python3"
  },
  "language_info": {
   "codemirror_mode": {
    "name": "ipython",
    "version": 3
   },
   "file_extension": ".py",
   "mimetype": "text/x-python",
   "name": "python",
   "nbconvert_exporter": "python",
   "pygments_lexer": "ipython3",
   "version": "3.11.6"
  }
 },
 "nbformat": 4,
 "nbformat_minor": 2
}
